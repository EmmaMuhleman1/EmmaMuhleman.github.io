{
  "nbformat": 4,
  "nbformat_minor": 0,
  "metadata": {
    "kernelspec": {
      "display_name": "Python 3",
      "language": "python",
      "name": "python3"
    },
    "language_info": {
      "codemirror_mode": {
        "name": "ipython",
        "version": 3
      },
      "file_extension": ".py",
      "mimetype": "text/x-python",
      "name": "python",
      "nbconvert_exporter": "python",
      "pygments_lexer": "ipython3",
      "version": "3.8.5"
    },
    "colab": {
      "name": "Model-Evaluation.ipynb",
      "provenance": [],
      "toc_visible": true,
      "include_colab_link": true
    }
  },
  "cells": [
    {
      "cell_type": "markdown",
      "metadata": {
        "id": "view-in-github",
        "colab_type": "text"
      },
      "source": [
        "<a href=\"https://colab.research.google.com/github/EmmaMuhleman1/EmmaMuhleman.github.io/blob/master/Model_Evaluation.ipynb\" target=\"_parent\"><img src=\"https://colab.research.google.com/assets/colab-badge.svg\" alt=\"Open In Colab\"/></a>"
      ]
    },
    {
      "cell_type": "code",
      "metadata": {
        "id": "HrrsEpT74GmN"
      },
      "source": [
        "import pandas as pd\n",
        "import numpy as np\n",
        "import seaborn as sns\n",
        "import matplotlib.pyplot as plt\n",
        "\n",
        "import warnings\n",
        "warnings.filterwarnings('ignore')\n",
        "import pickle\n",
        "import datetime\n",
        "from sklearn.metrics import roc_auc_score\n",
        "from sklearn.metrics import confusion_matrix\n",
        "from sklearn.metrics import accuracy_score\n",
        "from sklearn.svm import SVC"
      ],
      "execution_count": 1,
      "outputs": []
    },
    {
      "cell_type": "markdown",
      "metadata": {
        "id": "AYiKFzvF4GmS"
      },
      "source": [
        "# Reading features by importance"
      ]
    },
    {
      "cell_type": "code",
      "metadata": {
        "colab": {
          "base_uri": "https://localhost:8080/",
          "height": 387
        },
        "id": "6XhY1Rmc4GmT",
        "outputId": "8c1fbe69-6e94-4984-dcfc-abd056366376"
      },
      "source": [
        "features_by_importance = list(pd.read_csv('feature_counts_10d.csv',header=None)[0])\n",
        "badf = pd.read_csv('data/badf.csv')"
      ],
      "execution_count": 3,
      "outputs": [
        {
          "output_type": "error",
          "ename": "FileNotFoundError",
          "evalue": "ignored",
          "traceback": [
            "\u001b[0;31m---------------------------------------------------------------------------\u001b[0m",
            "\u001b[0;31mFileNotFoundError\u001b[0m                         Traceback (most recent call last)",
            "\u001b[0;32m<ipython-input-3-8875b5d52e71>\u001b[0m in \u001b[0;36m<module>\u001b[0;34m()\u001b[0m\n\u001b[0;32m----> 1\u001b[0;31m \u001b[0mfeatures_by_importance\u001b[0m \u001b[0;34m=\u001b[0m \u001b[0mlist\u001b[0m\u001b[0;34m(\u001b[0m\u001b[0mpd\u001b[0m\u001b[0;34m.\u001b[0m\u001b[0mread_csv\u001b[0m\u001b[0;34m(\u001b[0m\u001b[0;34m'feature_counts_10d.csv'\u001b[0m\u001b[0;34m,\u001b[0m\u001b[0mheader\u001b[0m\u001b[0;34m=\u001b[0m\u001b[0;32mNone\u001b[0m\u001b[0;34m)\u001b[0m\u001b[0;34m[\u001b[0m\u001b[0;36m0\u001b[0m\u001b[0;34m]\u001b[0m\u001b[0;34m)\u001b[0m\u001b[0;34m\u001b[0m\u001b[0;34m\u001b[0m\u001b[0m\n\u001b[0m\u001b[1;32m      2\u001b[0m \u001b[0mbadf\u001b[0m \u001b[0;34m=\u001b[0m \u001b[0mpd\u001b[0m\u001b[0;34m.\u001b[0m\u001b[0mread_csv\u001b[0m\u001b[0;34m(\u001b[0m\u001b[0;34m'data/badf.csv'\u001b[0m\u001b[0;34m)\u001b[0m\u001b[0;34m\u001b[0m\u001b[0;34m\u001b[0m\u001b[0m\n",
            "\u001b[0;32m/usr/local/lib/python3.7/dist-packages/pandas/io/parsers.py\u001b[0m in \u001b[0;36mread_csv\u001b[0;34m(filepath_or_buffer, sep, delimiter, header, names, index_col, usecols, squeeze, prefix, mangle_dupe_cols, dtype, engine, converters, true_values, false_values, skipinitialspace, skiprows, skipfooter, nrows, na_values, keep_default_na, na_filter, verbose, skip_blank_lines, parse_dates, infer_datetime_format, keep_date_col, date_parser, dayfirst, cache_dates, iterator, chunksize, compression, thousands, decimal, lineterminator, quotechar, quoting, doublequote, escapechar, comment, encoding, dialect, error_bad_lines, warn_bad_lines, delim_whitespace, low_memory, memory_map, float_precision)\u001b[0m\n\u001b[1;32m    686\u001b[0m     )\n\u001b[1;32m    687\u001b[0m \u001b[0;34m\u001b[0m\u001b[0m\n\u001b[0;32m--> 688\u001b[0;31m     \u001b[0;32mreturn\u001b[0m \u001b[0m_read\u001b[0m\u001b[0;34m(\u001b[0m\u001b[0mfilepath_or_buffer\u001b[0m\u001b[0;34m,\u001b[0m \u001b[0mkwds\u001b[0m\u001b[0;34m)\u001b[0m\u001b[0;34m\u001b[0m\u001b[0;34m\u001b[0m\u001b[0m\n\u001b[0m\u001b[1;32m    689\u001b[0m \u001b[0;34m\u001b[0m\u001b[0m\n\u001b[1;32m    690\u001b[0m \u001b[0;34m\u001b[0m\u001b[0m\n",
            "\u001b[0;32m/usr/local/lib/python3.7/dist-packages/pandas/io/parsers.py\u001b[0m in \u001b[0;36m_read\u001b[0;34m(filepath_or_buffer, kwds)\u001b[0m\n\u001b[1;32m    452\u001b[0m \u001b[0;34m\u001b[0m\u001b[0m\n\u001b[1;32m    453\u001b[0m     \u001b[0;31m# Create the parser.\u001b[0m\u001b[0;34m\u001b[0m\u001b[0;34m\u001b[0m\u001b[0;34m\u001b[0m\u001b[0m\n\u001b[0;32m--> 454\u001b[0;31m     \u001b[0mparser\u001b[0m \u001b[0;34m=\u001b[0m \u001b[0mTextFileReader\u001b[0m\u001b[0;34m(\u001b[0m\u001b[0mfp_or_buf\u001b[0m\u001b[0;34m,\u001b[0m \u001b[0;34m**\u001b[0m\u001b[0mkwds\u001b[0m\u001b[0;34m)\u001b[0m\u001b[0;34m\u001b[0m\u001b[0;34m\u001b[0m\u001b[0m\n\u001b[0m\u001b[1;32m    455\u001b[0m \u001b[0;34m\u001b[0m\u001b[0m\n\u001b[1;32m    456\u001b[0m     \u001b[0;32mif\u001b[0m \u001b[0mchunksize\u001b[0m \u001b[0;32mor\u001b[0m \u001b[0miterator\u001b[0m\u001b[0;34m:\u001b[0m\u001b[0;34m\u001b[0m\u001b[0;34m\u001b[0m\u001b[0m\n",
            "\u001b[0;32m/usr/local/lib/python3.7/dist-packages/pandas/io/parsers.py\u001b[0m in \u001b[0;36m__init__\u001b[0;34m(self, f, engine, **kwds)\u001b[0m\n\u001b[1;32m    946\u001b[0m             \u001b[0mself\u001b[0m\u001b[0;34m.\u001b[0m\u001b[0moptions\u001b[0m\u001b[0;34m[\u001b[0m\u001b[0;34m\"has_index_names\"\u001b[0m\u001b[0;34m]\u001b[0m \u001b[0;34m=\u001b[0m \u001b[0mkwds\u001b[0m\u001b[0;34m[\u001b[0m\u001b[0;34m\"has_index_names\"\u001b[0m\u001b[0;34m]\u001b[0m\u001b[0;34m\u001b[0m\u001b[0;34m\u001b[0m\u001b[0m\n\u001b[1;32m    947\u001b[0m \u001b[0;34m\u001b[0m\u001b[0m\n\u001b[0;32m--> 948\u001b[0;31m         \u001b[0mself\u001b[0m\u001b[0;34m.\u001b[0m\u001b[0m_make_engine\u001b[0m\u001b[0;34m(\u001b[0m\u001b[0mself\u001b[0m\u001b[0;34m.\u001b[0m\u001b[0mengine\u001b[0m\u001b[0;34m)\u001b[0m\u001b[0;34m\u001b[0m\u001b[0;34m\u001b[0m\u001b[0m\n\u001b[0m\u001b[1;32m    949\u001b[0m \u001b[0;34m\u001b[0m\u001b[0m\n\u001b[1;32m    950\u001b[0m     \u001b[0;32mdef\u001b[0m \u001b[0mclose\u001b[0m\u001b[0;34m(\u001b[0m\u001b[0mself\u001b[0m\u001b[0;34m)\u001b[0m\u001b[0;34m:\u001b[0m\u001b[0;34m\u001b[0m\u001b[0;34m\u001b[0m\u001b[0m\n",
            "\u001b[0;32m/usr/local/lib/python3.7/dist-packages/pandas/io/parsers.py\u001b[0m in \u001b[0;36m_make_engine\u001b[0;34m(self, engine)\u001b[0m\n\u001b[1;32m   1178\u001b[0m     \u001b[0;32mdef\u001b[0m \u001b[0m_make_engine\u001b[0m\u001b[0;34m(\u001b[0m\u001b[0mself\u001b[0m\u001b[0;34m,\u001b[0m \u001b[0mengine\u001b[0m\u001b[0;34m=\u001b[0m\u001b[0;34m\"c\"\u001b[0m\u001b[0;34m)\u001b[0m\u001b[0;34m:\u001b[0m\u001b[0;34m\u001b[0m\u001b[0;34m\u001b[0m\u001b[0m\n\u001b[1;32m   1179\u001b[0m         \u001b[0;32mif\u001b[0m \u001b[0mengine\u001b[0m \u001b[0;34m==\u001b[0m \u001b[0;34m\"c\"\u001b[0m\u001b[0;34m:\u001b[0m\u001b[0;34m\u001b[0m\u001b[0;34m\u001b[0m\u001b[0m\n\u001b[0;32m-> 1180\u001b[0;31m             \u001b[0mself\u001b[0m\u001b[0;34m.\u001b[0m\u001b[0m_engine\u001b[0m \u001b[0;34m=\u001b[0m \u001b[0mCParserWrapper\u001b[0m\u001b[0;34m(\u001b[0m\u001b[0mself\u001b[0m\u001b[0;34m.\u001b[0m\u001b[0mf\u001b[0m\u001b[0;34m,\u001b[0m \u001b[0;34m**\u001b[0m\u001b[0mself\u001b[0m\u001b[0;34m.\u001b[0m\u001b[0moptions\u001b[0m\u001b[0;34m)\u001b[0m\u001b[0;34m\u001b[0m\u001b[0;34m\u001b[0m\u001b[0m\n\u001b[0m\u001b[1;32m   1181\u001b[0m         \u001b[0;32melse\u001b[0m\u001b[0;34m:\u001b[0m\u001b[0;34m\u001b[0m\u001b[0;34m\u001b[0m\u001b[0m\n\u001b[1;32m   1182\u001b[0m             \u001b[0;32mif\u001b[0m \u001b[0mengine\u001b[0m \u001b[0;34m==\u001b[0m \u001b[0;34m\"python\"\u001b[0m\u001b[0;34m:\u001b[0m\u001b[0;34m\u001b[0m\u001b[0;34m\u001b[0m\u001b[0m\n",
            "\u001b[0;32m/usr/local/lib/python3.7/dist-packages/pandas/io/parsers.py\u001b[0m in \u001b[0;36m__init__\u001b[0;34m(self, src, **kwds)\u001b[0m\n\u001b[1;32m   2008\u001b[0m         \u001b[0mkwds\u001b[0m\u001b[0;34m[\u001b[0m\u001b[0;34m\"usecols\"\u001b[0m\u001b[0;34m]\u001b[0m \u001b[0;34m=\u001b[0m \u001b[0mself\u001b[0m\u001b[0;34m.\u001b[0m\u001b[0musecols\u001b[0m\u001b[0;34m\u001b[0m\u001b[0;34m\u001b[0m\u001b[0m\n\u001b[1;32m   2009\u001b[0m \u001b[0;34m\u001b[0m\u001b[0m\n\u001b[0;32m-> 2010\u001b[0;31m         \u001b[0mself\u001b[0m\u001b[0;34m.\u001b[0m\u001b[0m_reader\u001b[0m \u001b[0;34m=\u001b[0m \u001b[0mparsers\u001b[0m\u001b[0;34m.\u001b[0m\u001b[0mTextReader\u001b[0m\u001b[0;34m(\u001b[0m\u001b[0msrc\u001b[0m\u001b[0;34m,\u001b[0m \u001b[0;34m**\u001b[0m\u001b[0mkwds\u001b[0m\u001b[0;34m)\u001b[0m\u001b[0;34m\u001b[0m\u001b[0;34m\u001b[0m\u001b[0m\n\u001b[0m\u001b[1;32m   2011\u001b[0m         \u001b[0mself\u001b[0m\u001b[0;34m.\u001b[0m\u001b[0munnamed_cols\u001b[0m \u001b[0;34m=\u001b[0m \u001b[0mself\u001b[0m\u001b[0;34m.\u001b[0m\u001b[0m_reader\u001b[0m\u001b[0;34m.\u001b[0m\u001b[0munnamed_cols\u001b[0m\u001b[0;34m\u001b[0m\u001b[0;34m\u001b[0m\u001b[0m\n\u001b[1;32m   2012\u001b[0m \u001b[0;34m\u001b[0m\u001b[0m\n",
            "\u001b[0;32mpandas/_libs/parsers.pyx\u001b[0m in \u001b[0;36mpandas._libs.parsers.TextReader.__cinit__\u001b[0;34m()\u001b[0m\n",
            "\u001b[0;32mpandas/_libs/parsers.pyx\u001b[0m in \u001b[0;36mpandas._libs.parsers.TextReader._setup_parser_source\u001b[0;34m()\u001b[0m\n",
            "\u001b[0;31mFileNotFoundError\u001b[0m: [Errno 2] No such file or directory: 'feature_counts_10d.csv'"
          ]
        }
      ]
    },
    {
      "cell_type": "markdown",
      "metadata": {
        "id": "yzBuGIIw7_rA"
      },
      "source": [
        "# New Section"
      ]
    },
    {
      "cell_type": "code",
      "metadata": {
        "id": "AdqKYF898NZ4"
      },
      "source": [
        ""
      ],
      "execution_count": null,
      "outputs": []
    },
    {
      "cell_type": "code",
      "metadata": {
        "id": "wccKp7HS4GmT"
      },
      "source": [
        "TARGET_COL = 'target_10d'\n",
        "DATE_COL = 'date'\n",
        "TARGET_THRESHOLD = 0.001"
      ],
      "execution_count": null,
      "outputs": []
    },
    {
      "cell_type": "code",
      "metadata": {
        "id": "zJ-JIo3C4GmT"
      },
      "source": [
        "def badf_n_top_features(badf,features_by_importance,n,target_col):\n",
        "    columns = ['date']\n",
        "    columns.extend(features_by_importance[:n])\n",
        "    columns.append(target_col)\n",
        "    return badf.loc[:,columns].set_index('date')\n",
        "\n",
        "def convert_target_labels(df,threshold,target_col):\n",
        "    df.loc[df[target_col] > threshold,target_col] = 1\n",
        "    df.loc[df[target_col] <= threshold,target_col] = 0\n",
        "    return df\n",
        "\n",
        "# badf = badf_n_top_features(badf,features_by_importance,50,TARGET_COL)\n",
        "    \n",
        "badf = convert_target_labels(badf,TARGET_THRESHOLD,TARGET_COL)"
      ],
      "execution_count": null,
      "outputs": []
    },
    {
      "cell_type": "code",
      "metadata": {
        "id": "uAhfie7K4GmU"
      },
      "source": [
        "def prep_datasets_holdout(df,no_of_features,ignore_after,holdout_set_after,test_set_rows,train_set_rows,target,features_by_importance,cross_val_days):\n",
        "    df = badf_n_top_features(df,features_by_importance,no_of_features,target)\n",
        "    df = df[df.index <ignore_after]\n",
        "    df['target_10d'] = df['target_10d'].astype('int')\n",
        "\n",
        "    for column in df.columns:\n",
        "        if df[column].isna().any():\n",
        "            df[column].fillna(df[column].min(),inplace=True)\n",
        "        \n",
        "    train_set = df[-test_set_rows-train_set_rows-cross_val_days:-test_set_rows-cross_val_days-1]\n",
        "    test_set = df[-test_set_rows-cross_val_days-1:-cross_val_days-1]\n",
        "    train_set_X = train_set.drop(columns='target_10d')\n",
        "    train_set_y = train_set['target_10d']\n",
        "    test_set_X = test_set.drop(columns='target_10d')\n",
        "    test_set_y = test_set['target_10d']\n",
        "    \n",
        "    return df,train_set_X,test_set_X,train_set_y,test_set_y"
      ],
      "execution_count": null,
      "outputs": []
    },
    {
      "cell_type": "markdown",
      "metadata": {
        "id": "9ZWgWCsZ4GmU"
      },
      "source": [
        "# Application to 2019 data (150 Days Method)"
      ]
    },
    {
      "cell_type": "markdown",
      "metadata": {
        "id": "HhdvGFIS4GmU"
      },
      "source": [
        "## Polynomial"
      ]
    },
    {
      "cell_type": "code",
      "metadata": {
        "id": "EvqfPEeW4GmU"
      },
      "source": [
        "C = 0.1\n",
        "kernel = 'poly'\n",
        "no_of_features = 5"
      ],
      "execution_count": null,
      "outputs": []
    },
    {
      "cell_type": "code",
      "metadata": {
        "id": "zN23NaCO4GmV"
      },
      "source": [
        "df,train_set_X,test_set_X,train_set_y,test_set_y = prep_datasets_holdout(badf,no_of_features,'2020-01-01','2019-01-01',150,1000,'target_10d',features_by_importance,0)"
      ],
      "execution_count": null,
      "outputs": []
    },
    {
      "cell_type": "code",
      "metadata": {
        "id": "A_QVs-gn4GmV"
      },
      "source": [
        "model = SVC(C=C,kernel='poly',probability=True,random_state=42)"
      ],
      "execution_count": null,
      "outputs": []
    },
    {
      "cell_type": "code",
      "metadata": {
        "id": "z-8OL_8D4GmV"
      },
      "source": [
        "model.fit(train_set_X,train_set_y)\n",
        "y_pred = model.predict(test_set_X)\n",
        "y_pred_proba = model.predict_proba(test_set_X)"
      ],
      "execution_count": null,
      "outputs": []
    },
    {
      "cell_type": "code",
      "metadata": {
        "id": "-AuY2Lys4GmV",
        "outputId": "176faee6-25fb-48c8-e9e8-faa41c4c86c6"
      },
      "source": [
        "confusion_matrix(test_set_y,y_pred)"
      ],
      "execution_count": null,
      "outputs": [
        {
          "output_type": "execute_result",
          "data": {
            "text/plain": [
              "array([[ 0, 51],\n",
              "       [ 0, 99]], dtype=int64)"
            ]
          },
          "metadata": {
            "tags": []
          },
          "execution_count": 13
        }
      ]
    },
    {
      "cell_type": "code",
      "metadata": {
        "id": "rbYYOXm44GmW",
        "outputId": "4087c41f-ce0e-4c0b-914d-2df0bc000497"
      },
      "source": [
        "roc_auc_score(test_set_y,y_pred_proba[:,-1])"
      ],
      "execution_count": null,
      "outputs": [
        {
          "output_type": "execute_result",
          "data": {
            "text/plain": [
              "0.704297880768469"
            ]
          },
          "metadata": {
            "tags": []
          },
          "execution_count": 14
        }
      ]
    },
    {
      "cell_type": "markdown",
      "metadata": {
        "id": "gNo0LeAQ4GmW"
      },
      "source": [
        "## Linear"
      ]
    },
    {
      "cell_type": "code",
      "metadata": {
        "id": "bUZIGNCW4GmW"
      },
      "source": [
        "C = 0.1\n",
        "kernel = 'linear'\n",
        "no_of_features = 5"
      ],
      "execution_count": null,
      "outputs": []
    },
    {
      "cell_type": "code",
      "metadata": {
        "id": "Ou0rvMF94GmX"
      },
      "source": [
        "df,train_set_X,test_set_X,train_set_y,test_set_y = prep_datasets_holdout(badf,no_of_features,'2020-01-01','2019-01-01',150,1000,'target_10d',features_by_importance,0)"
      ],
      "execution_count": null,
      "outputs": []
    },
    {
      "cell_type": "code",
      "metadata": {
        "id": "JvIY6ppF4GmX"
      },
      "source": [
        "model = SVC(C=C,kernel=kernel,probability=True,random_state=42)"
      ],
      "execution_count": null,
      "outputs": []
    },
    {
      "cell_type": "code",
      "metadata": {
        "id": "DiMn27ft4GmX"
      },
      "source": [
        "model.fit(train_set_X,train_set_y)\n",
        "y_pred = model.predict(test_set_X)\n",
        "y_pred_proba = model.predict_proba(test_set_X)"
      ],
      "execution_count": null,
      "outputs": []
    },
    {
      "cell_type": "code",
      "metadata": {
        "id": "X8aP16i94GmX",
        "outputId": "68d1ea0e-113e-49ed-a0ec-205990e58937"
      },
      "source": [
        "confusion_matrix(test_set_y,y_pred)"
      ],
      "execution_count": null,
      "outputs": [
        {
          "output_type": "execute_result",
          "data": {
            "text/plain": [
              "array([[ 0, 51],\n",
              "       [ 0, 99]], dtype=int64)"
            ]
          },
          "metadata": {
            "tags": []
          },
          "execution_count": 19
        }
      ]
    },
    {
      "cell_type": "code",
      "metadata": {
        "id": "xdwi-vAb4GmX",
        "outputId": "51592dfc-ac88-40b0-a73d-4ec238f43d57"
      },
      "source": [
        "roc_auc_score(test_set_y,y_pred_proba[:,-1])"
      ],
      "execution_count": null,
      "outputs": [
        {
          "output_type": "execute_result",
          "data": {
            "text/plain": [
              "0.7050901168548226"
            ]
          },
          "metadata": {
            "tags": []
          },
          "execution_count": 20
        }
      ]
    },
    {
      "cell_type": "markdown",
      "metadata": {
        "id": "eh50bw2C4GmX"
      },
      "source": [
        "# Application to 2019 data (Single Day prediction Method)"
      ]
    },
    {
      "cell_type": "markdown",
      "metadata": {
        "id": "szJL5NbW4GmY"
      },
      "source": [
        "## Linear"
      ]
    },
    {
      "cell_type": "code",
      "metadata": {
        "id": "j-RfErf-4GmY"
      },
      "source": [
        "C = 0.1\n",
        "kernel = 'linear'\n",
        "no_of_features = 5\n",
        "\n",
        "pred = []\n",
        "\n",
        "for i in range(len(df[df.index>'2019-01-01'])-1):\n",
        "    df,train_set_X,test_set_X,train_set_y,test_set_y = prep_datasets_holdout(badf,no_of_features,\n",
        "                                                                             '2020-01-01','2019-01-01',1,1000,'target_10d',features_by_importance,i)\n",
        "    model = SVC(C=C,kernel=kernel,probability=True,random_state=42)\n",
        "    model.fit(train_set_X,train_set_y)\n",
        "    y_pred = model.predict(test_set_X)\n",
        "    y_pred_proba = model.predict_proba(test_set_X)\n",
        "    pred.append({'y_pred':y_pred[0],'Pred Prob':y_pred_proba[0,-1],'Y Actual':test_set_y[0]})    \n",
        "#    | print('Training set from {} to {}, Test set from {} to {}'.format(min(train_set_X.index),max(train_set_X.index),min(test_set_X.index),max(test_set_X.index)))\n",
        "predictions_holdout = pd.DataFrame(pred)"
      ],
      "execution_count": null,
      "outputs": []
    },
    {
      "cell_type": "code",
      "metadata": {
        "id": "XP0xTE-i4GmY",
        "outputId": "df473501-6c26-40d2-f5a3-e0551dbaecaf"
      },
      "source": [
        "confusion_matrix(predictions_holdout['Y Actual'],predictions_holdout['y_pred'])"
      ],
      "execution_count": null,
      "outputs": [
        {
          "output_type": "execute_result",
          "data": {
            "text/plain": [
              "array([[  2,  81],\n",
              "       [ 21, 147]], dtype=int64)"
            ]
          },
          "metadata": {
            "tags": []
          },
          "execution_count": 22
        }
      ]
    },
    {
      "cell_type": "code",
      "metadata": {
        "id": "-DFm9KDe4GmY",
        "outputId": "5859a307-e872-48bd-c58e-654323031b5f"
      },
      "source": [
        "roc_auc_score(predictions_holdout['Y Actual'],predictions_holdout['Pred Prob'])"
      ],
      "execution_count": null,
      "outputs": [
        {
          "output_type": "execute_result",
          "data": {
            "text/plain": [
              "0.45510613884107864"
            ]
          },
          "metadata": {
            "tags": []
          },
          "execution_count": 23
        }
      ]
    },
    {
      "cell_type": "code",
      "metadata": {
        "id": "xnqsDXRM4GmZ",
        "outputId": "f31be616-37da-4285-c82a-b04d8913717d"
      },
      "source": [
        "accuracy_score(predictions_holdout['Y Actual'],predictions_holdout['y_pred'])"
      ],
      "execution_count": null,
      "outputs": [
        {
          "output_type": "execute_result",
          "data": {
            "text/plain": [
              "0.5936254980079682"
            ]
          },
          "metadata": {
            "tags": []
          },
          "execution_count": 24
        }
      ]
    },
    {
      "cell_type": "markdown",
      "metadata": {
        "id": "WAS8rXEm4GmZ"
      },
      "source": [
        "## Polynomial"
      ]
    },
    {
      "cell_type": "code",
      "metadata": {
        "id": "Wd-bDwBO4GmZ"
      },
      "source": [
        "C = 0.1\n",
        "kernel = 'poly'\n",
        "no_of_features = 5\n",
        "\n",
        "pred = []\n",
        "\n",
        "for i in range(len(df[df.index>'2019-01-01'])-1):\n",
        "    df,train_set_X,test_set_X,train_set_y,test_set_y = prep_datasets_holdout(badf,no_of_features,'2020-01-01','2019-01-01',1,1000,'target_10d',features_by_importance,i)\n",
        "    model = SVC(C=C,kernel=kernel,probability=True,random_state=42)\n",
        "    model.fit(train_set_X,train_set_y)\n",
        "    y_pred = model.predict(test_set_X)\n",
        "    y_pred_proba = model.predict_proba(test_set_X)\n",
        "    pred.append({'y_pred':y_pred[0],'Pred Prob':y_pred_proba[0,-1],'Y Actual':test_set_y[0]})    \n",
        "#    | print('Training set from {} to {}, Test set from {} to {}'.format(min(train_set_X.index),max(train_set_X.index),min(test_set_X.index),max(test_set_X.index)))\n",
        "predictions_holdout = pd.DataFrame(pred)"
      ],
      "execution_count": null,
      "outputs": []
    },
    {
      "cell_type": "code",
      "metadata": {
        "id": "OiKU49aT4GmZ",
        "outputId": "2787461e-9c47-4599-cc2e-5951ccc2ba05"
      },
      "source": [
        "confusion_matrix(predictions_holdout['Y Actual'],predictions_holdout['y_pred'])"
      ],
      "execution_count": null,
      "outputs": [
        {
          "output_type": "execute_result",
          "data": {
            "text/plain": [
              "array([[  2,  81],\n",
              "       [ 14, 154]], dtype=int64)"
            ]
          },
          "metadata": {
            "tags": []
          },
          "execution_count": 26
        }
      ]
    },
    {
      "cell_type": "code",
      "metadata": {
        "id": "5TPJfboM4Gma",
        "outputId": "a5ac2936-19bf-486f-af68-a9d6624a5d42"
      },
      "source": [
        "roc_auc_score(predictions_holdout['Y Actual'],predictions_holdout['Pred Prob'])"
      ],
      "execution_count": null,
      "outputs": [
        {
          "output_type": "execute_result",
          "data": {
            "text/plain": [
              "0.4675487664945496"
            ]
          },
          "metadata": {
            "tags": []
          },
          "execution_count": 27
        }
      ]
    },
    {
      "cell_type": "code",
      "metadata": {
        "id": "1o7jXqhn4Gma",
        "outputId": "ddb9801d-f0b5-4436-b315-0d2a0a33a788"
      },
      "source": [
        "accuracy_score(predictions_holdout['Y Actual'],predictions_holdout['y_pred'])"
      ],
      "execution_count": null,
      "outputs": [
        {
          "output_type": "execute_result",
          "data": {
            "text/plain": [
              "0.6215139442231076"
            ]
          },
          "metadata": {
            "tags": []
          },
          "execution_count": 28
        }
      ]
    },
    {
      "cell_type": "markdown",
      "metadata": {
        "id": "xKcH2q_34Gma"
      },
      "source": [
        "# Application to 2019 data (All Data at single shot)"
      ]
    },
    {
      "cell_type": "markdown",
      "metadata": {
        "id": "qBDZtRmz4Gma"
      },
      "source": [
        "## Linear"
      ]
    },
    {
      "cell_type": "code",
      "metadata": {
        "id": "DOPxM9404Gma"
      },
      "source": [
        "C = 0.1\n",
        "kernel = 'linear'\n",
        "no_of_features = 5\n",
        "\n",
        "df,train_set_X,test_set_X,train_set_y,test_set_y = prep_datasets_holdout(badf,no_of_features,'2020-01-01','2019-01-01',len(df[df.index>'2019-01-01'])-1,1000,'target_10d',features_by_importance,0)"
      ],
      "execution_count": null,
      "outputs": []
    },
    {
      "cell_type": "code",
      "metadata": {
        "id": "ABsB-qDW4Gmb"
      },
      "source": [
        "model = SVC(C=C,kernel=kernel,probability=True,random_state=42)"
      ],
      "execution_count": null,
      "outputs": []
    },
    {
      "cell_type": "code",
      "metadata": {
        "id": "ih1K1eBR4Gmb"
      },
      "source": [
        "model.fit(train_set_X,train_set_y)\n",
        "y_pred = model.predict(test_set_X)\n",
        "y_pred_proba = model.predict_proba(test_set_X)"
      ],
      "execution_count": null,
      "outputs": []
    },
    {
      "cell_type": "code",
      "metadata": {
        "id": "wlc8c4Qr4Gmb",
        "outputId": "ec5e32f9-3b59-4c17-f510-ea06de19d4c3"
      },
      "source": [
        "confusion_matrix(test_set_y,y_pred)"
      ],
      "execution_count": null,
      "outputs": [
        {
          "output_type": "execute_result",
          "data": {
            "text/plain": [
              "array([[46, 37],\n",
              "       [84, 84]], dtype=int64)"
            ]
          },
          "metadata": {
            "tags": []
          },
          "execution_count": 32
        }
      ]
    },
    {
      "cell_type": "code",
      "metadata": {
        "id": "PtMV7cRc4Gmb",
        "outputId": "ad1407a3-1cdb-4a5e-e6ea-830d0ddc854b"
      },
      "source": [
        "roc_auc_score(test_set_y,y_pred_proba[:,-1])"
      ],
      "execution_count": null,
      "outputs": [
        {
          "output_type": "execute_result",
          "data": {
            "text/plain": [
              "0.5384394721744119"
            ]
          },
          "metadata": {
            "tags": []
          },
          "execution_count": 33
        }
      ]
    },
    {
      "cell_type": "code",
      "metadata": {
        "id": "CYIgfnX54Gmb",
        "outputId": "a13292a1-689d-4a98-f9de-50cf7d2a153e"
      },
      "source": [
        "accuracy_score(test_set_y,y_pred)"
      ],
      "execution_count": null,
      "outputs": [
        {
          "output_type": "execute_result",
          "data": {
            "text/plain": [
              "0.5179282868525896"
            ]
          },
          "metadata": {
            "tags": []
          },
          "execution_count": 34
        }
      ]
    },
    {
      "cell_type": "markdown",
      "metadata": {
        "id": "RHvVk3MR4Gmc"
      },
      "source": [
        "## Polynomial"
      ]
    },
    {
      "cell_type": "code",
      "metadata": {
        "id": "mPd5uF9H4Gmc"
      },
      "source": [
        "C = 0.1\n",
        "kernel = 'poly'\n",
        "no_of_features = 5\n",
        "\n",
        "df,train_set_X,test_set_X,train_set_y,test_set_y = prep_datasets_holdout(badf,no_of_features,'2020-01-01','2019-01-01',len(df[df.index>'2019-01-01'])-1,1000,'target_10d',features_by_importance,0)"
      ],
      "execution_count": null,
      "outputs": []
    },
    {
      "cell_type": "code",
      "metadata": {
        "id": "5NvV6nYz4Gmc"
      },
      "source": [
        "model = SVC(C=C,kernel=kernel,probability=True,random_state=1)"
      ],
      "execution_count": null,
      "outputs": []
    },
    {
      "cell_type": "code",
      "metadata": {
        "id": "Ba-1jYnH4Gmd"
      },
      "source": [
        "model.fit(train_set_X,train_set_y)\n",
        "y_pred = model.predict(test_set_X)\n",
        "y_pred_proba = model.predict_proba(test_set_X)"
      ],
      "execution_count": null,
      "outputs": []
    },
    {
      "cell_type": "code",
      "metadata": {
        "id": "CZjhlox94Gmd"
      },
      "source": [
        "confusion_matrix(test_set_y,y_pred)"
      ],
      "execution_count": null,
      "outputs": []
    },
    {
      "cell_type": "code",
      "metadata": {
        "id": "UFDZYSrX4Gmd"
      },
      "source": [
        "roc_auc_score(test_set_y,y_pred_proba[:,-1])"
      ],
      "execution_count": null,
      "outputs": []
    },
    {
      "cell_type": "code",
      "metadata": {
        "id": "Olzw-6md4Gmd"
      },
      "source": [
        "accuracy_score(test_set_y,y_pred)"
      ],
      "execution_count": null,
      "outputs": []
    },
    {
      "cell_type": "code",
      "metadata": {
        "id": "YohQkaKF4Gmd"
      },
      "source": [
        ""
      ],
      "execution_count": null,
      "outputs": []
    }
  ]
}