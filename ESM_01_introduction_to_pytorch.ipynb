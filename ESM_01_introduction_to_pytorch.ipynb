{
  "nbformat": 4,
  "nbformat_minor": 5,
  "metadata": {
    "jupytext": {
      "cell_metadata_filter": "id,colab,colab_type,-all",
      "formats": "ipynb,py:percent",
      "main_language": "python"
    },
    "papermill": {
      "default_parameters": {},
      "duration": 21.925345,
      "end_time": "2021-09-16T12:33:06.344225",
      "environment_variables": {},
      "exception": null,
      "input_path": "course_UvA-DL/01-introduction-to-pytorch/Introduction_to_PyTorch.ipynb",
      "output_path": ".notebooks/course_UvA-DL/01-introduction-to-pytorch.ipynb",
      "parameters": {},
      "start_time": "2021-09-16T12:32:44.418880",
      "version": "2.3.3"
    },
    "colab": {
      "name": "ESM 01-introduction-to-pytorch.ipynb",
      "provenance": [],
      "include_colab_link": true
    },
    "language_info": {
      "name": "python"
    },
    "kernelspec": {
      "name": "python3",
      "display_name": "Python 3"
    }
  },
  "cells": [
    {
      "cell_type": "markdown",
      "metadata": {
        "id": "view-in-github",
        "colab_type": "text"
      },
      "source": [
        "<a href=\"https://colab.research.google.com/github/EmmaMuhleman1/EmmaMuhleman.github.io/blob/master/ESM_01_introduction_to_pytorch.ipynb\" target=\"_parent\"><img src=\"https://colab.research.google.com/assets/colab-badge.svg\" alt=\"Open In Colab\"/></a>"
      ]
    },
    {
      "cell_type": "markdown",
      "metadata": {
        "papermill": {
          "duration": 0.050411,
          "end_time": "2021-09-16T12:32:45.750290",
          "exception": false,
          "start_time": "2021-09-16T12:32:45.699879",
          "status": "completed"
        },
        "tags": [],
        "id": "eaced3d8"
      },
      "source": [
        "\n",
        "# Tutorial 1: Introduction to PyTorch\n",
        "\n",
        "* **Author:** Phillip Lippe\n",
        "* **License:** CC BY-SA\n",
        "* **Generated:** 2021-09-16T14:32:16.770882\n",
        "\n",
        "This tutorial will give a short introduction to PyTorch basics, and get you setup for writing your own neural networks.\n",
        "This notebook is part of a lecture series on Deep Learning at the University of Amsterdam.\n",
        "The full list of tutorials can be found at https://uvadlc-notebooks.rtfd.io.\n",
        "\n",
        "\n",
        "---\n",
        "Open in [![Open In Colab](data:image/png;base64,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){height=\"20px\" width=\"117px\"}](https://colab.research.google.com/github/PytorchLightning/lightning-tutorials/blob/publication/.notebooks/course_UvA-DL/01-introduction-to-pytorch.ipynb)\n",
        "\n",
        "Give us a ⭐ [on Github](https://www.github.com/PytorchLightning/pytorch-lightning/)\n",
        "| Check out [the documentation](https://pytorch-lightning.readthedocs.io/en/latest/)\n",
        "| Join us [on Slack](https://join.slack.com/t/pytorch-lightning/shared_invite/zt-pw5v393p-qRaDgEk24~EjiZNBpSQFgQ)"
      ],
      "id": "eaced3d8"
    },
    {
      "cell_type": "markdown",
      "metadata": {
        "papermill": {
          "duration": 0.042559,
          "end_time": "2021-09-16T12:32:45.835806",
          "exception": false,
          "start_time": "2021-09-16T12:32:45.793247",
          "status": "completed"
        },
        "tags": [],
        "id": "fa480fc6"
      },
      "source": [
        "## Setup\n",
        "This notebook requires some packages besides pytorch-lightning."
      ],
      "id": "fa480fc6"
    },
    {
      "cell_type": "markdown",
      "metadata": {
        "papermill": {
          "duration": 0.043036,
          "end_time": "2021-09-16T12:32:46.013859",
          "exception": false,
          "start_time": "2021-09-16T12:32:45.970823",
          "status": "completed"
        },
        "tags": [],
        "id": "9473f942"
      },
      "source": [
        "<div class=\"center-wrapper\"><div class=\"video-wrapper\"><iframe src=\"https://www.youtube.com/embed/wnKZZgFQY-E\" title=\"YouTube video player\" frameborder=\"0\" allow=\"accelerometer; autoplay; clipboard-write; encrypted-media; gyroscope; picture-in-picture\" allowfullscreen></iframe></div></div>\n",
        "Welcome to our PyTorch tutorial for the Deep Learning course 2020 at the University of Amsterdam!\n",
        "The following notebook is meant to give a short introduction to PyTorch basics, and get you setup for writing your own neural networks.\n",
        "PyTorch is an open source machine learning framework that allows you to write your own neural networks and optimize them efficiently.\n",
        "However, PyTorch is not the only framework of its kind.\n",
        "Alternatives to PyTorch include [TensorFlow](https://www.tensorflow.org/), [JAX](https://github.com/google/jax#quickstart-colab-in-the-cloud) and [Caffe](http://caffe.berkeleyvision.org/).\n",
        "We choose to teach PyTorch at the University of Amsterdam because it is well established, has a huge developer community (originally developed by Facebook), is very flexible and especially used in research.\n",
        "Many current papers publish their code in PyTorch, and thus it is good to be familiar with PyTorch as well.\n",
        "Meanwhile, TensorFlow (developed by Google) is usually known for being a production-grade deep learning library.\n",
        "Still, if you know one machine learning framework in depth, it is very easy to learn another one because many of them use the same concepts and ideas.\n",
        "For instance, TensorFlow's version 2 was heavily inspired by the most popular features of PyTorch, making the frameworks even more similar.\n",
        "If you are already familiar with PyTorch and have created your own neural network projects, feel free to just skim this notebook.\n",
        "\n",
        "We are of course not the first ones to create a PyTorch tutorial.\n",
        "There are many great tutorials online, including the [\"60-min blitz\"](https://pytorch.org/tutorials/beginner/deep_learning_60min_blitz.html) on the official [PyTorch website](https://pytorch.org/tutorials/).\n",
        "Yet, we choose to create our own tutorial which is designed to give you the basics particularly necessary for the practicals, but still understand how PyTorch works under the hood.\n",
        "Over the next few weeks, we will also keep exploring new PyTorch features in the series of Jupyter notebook tutorials about deep learning.\n",
        "\n",
        "We will use a set of standard libraries that are often used in machine learning projects.\n",
        "If you are running this notebook on Google Colab, all libraries should be pre-installed.\n",
        "If you are running this notebook locally, make sure you have installed our `dl2020` environment ([link](https://github.com/uvadlc/uvadlc_practicals_2020/blob/master/environment.yml)) and have activated it."
      ],
      "id": "9473f942"
    },
    {
      "cell_type": "code",
      "metadata": {
        "execution": {
          "iopub.execute_input": "2021-09-16T12:32:45.924885Z",
          "iopub.status.busy": "2021-09-16T12:32:45.924409Z",
          "iopub.status.idle": "2021-09-16T12:32:45.927196Z",
          "shell.execute_reply": "2021-09-16T12:32:45.926697Z"
        },
        "id": "a1f58dc1",
        "lines_to_next_cell": 0,
        "papermill": {
          "duration": 0.048784,
          "end_time": "2021-09-16T12:32:45.927310",
          "exception": false,
          "start_time": "2021-09-16T12:32:45.878526",
          "status": "completed"
        },
        "tags": []
      },
      "source": [
        "# ! pip install --quiet \"torchmetrics>=0.3\" \"matplotlib\" \"torch>=1.6, <1.9\" \"pytorch-lightning>=1.3\""
      ],
      "id": "a1f58dc1",
      "execution_count": null,
      "outputs": []
    },
    {
      "cell_type": "code",
      "metadata": {
        "execution": {
          "iopub.execute_input": "2021-09-16T12:32:46.106552Z",
          "iopub.status.busy": "2021-09-16T12:32:46.106081Z",
          "iopub.status.idle": "2021-09-16T12:32:46.889364Z",
          "shell.execute_reply": "2021-09-16T12:32:46.889833Z"
        },
        "papermill": {
          "duration": 0.833305,
          "end_time": "2021-09-16T12:32:46.889977",
          "exception": false,
          "start_time": "2021-09-16T12:32:46.056672",
          "status": "completed"
        },
        "tags": [],
        "id": "edcfda76"
      },
      "source": [
        "import time\n",
        "\n",
        "import matplotlib.pyplot as plt\n",
        "import numpy as np\n",
        "import torch\n",
        "import torch.nn as nn\n",
        "import torch.utils.data as data\n",
        "\n",
        "# %matplotlib inline\n",
        "from IPython.display import set_matplotlib_formats\n",
        "from matplotlib.colors import to_rgba\n",
        "from tqdm.notebook import tqdm  # Progress bar\n",
        "\n",
        "#EM HAD TO UPDATE and import the following 2 new lines to handle the deprecated \"set_matplotlib_inline\" by importing new packages (line 16) and attributes (line 17), showm immediately below, and THEN running it properly on the next line \n",
        "\n",
        "import matplotlib_inline\n",
        "import matplotlib_inline.backend_inline\n",
        "\n",
        "matplotlib_inline.backend_inline.set_matplotlib_formats(\"svg\",\"pdf\")\n",
        "#EM DEPRECATED: set_matplotlib_formats(\"svg\", \"pdf\")"
      ],
      "id": "edcfda76",
      "execution_count": null,
      "outputs": []
    },
    {
      "cell_type": "markdown",
      "metadata": {
        "papermill": {
          "duration": 0.042985,
          "end_time": "2021-09-16T12:32:46.977014",
          "exception": false,
          "start_time": "2021-09-16T12:32:46.934029",
          "status": "completed"
        },
        "tags": [],
        "id": "d9625e8f"
      },
      "source": [
        "## The Basics of PyTorch\n",
        "\n",
        "We will start with reviewing the very basic concepts of PyTorch.\n",
        "As a prerequisite, we recommend to be familiar with the `numpy` package as most machine learning frameworks are based on very similar concepts.\n",
        "If you are not familiar with numpy yet, don't worry: here is a [tutorial](https://numpy.org/devdocs/user/quickstart.html) to go through.\n",
        "\n",
        "So, let's start with importing PyTorch.\n",
        "The package is called `torch`, based on its original framework [Torch](http://torch.ch/).\n",
        "As a first step, we can check its version:"
      ],
      "id": "d9625e8f"
    },
    {
      "cell_type": "code",
      "metadata": {
        "execution": {
          "iopub.execute_input": "2021-09-16T12:32:47.065771Z",
          "iopub.status.busy": "2021-09-16T12:32:47.065287Z",
          "iopub.status.idle": "2021-09-16T12:32:47.067941Z",
          "shell.execute_reply": "2021-09-16T12:32:47.067546Z"
        },
        "papermill": {
          "duration": 0.048411,
          "end_time": "2021-09-16T12:32:47.068040",
          "exception": false,
          "start_time": "2021-09-16T12:32:47.019629",
          "status": "completed"
        },
        "tags": [],
        "id": "eb6179df",
        "outputId": "b5feae1c-ec97-4692-81f8-2421ea095835"
      },
      "source": [
        "print(\"Using torch\", torch.__version__)"
      ],
      "id": "eb6179df",
      "execution_count": null,
      "outputs": [
        {
          "name": "stdout",
          "output_type": "stream",
          "text": [
            "Using torch 1.8.1+cu102\n"
          ]
        }
      ]
    },
    {
      "cell_type": "markdown",
      "metadata": {
        "papermill": {
          "duration": 0.04343,
          "end_time": "2021-09-16T12:32:47.154839",
          "exception": false,
          "start_time": "2021-09-16T12:32:47.111409",
          "status": "completed"
        },
        "tags": [],
        "id": "8a8171cd"
      },
      "source": [
        "At the time of writing this tutorial (mid of August 2021), the current stable version is 1.9.\n",
        "You should therefore see the output `Using torch 1.9.0`, eventually with some extension for the CUDA version on Colab.\n",
        "In case you use the `dl2020` environment, you should see `Using torch 1.6.0` since the environment was provided in October 2020.\n",
        "It is recommended to update the PyTorch version to the newest one.\n",
        "If you see a lower version number than 1.6, make sure you have installed the correct the environment, or ask one of your TAs.\n",
        "In case PyTorch 1.10 or newer will be published during the time of the course, don't worry.\n",
        "The interface between PyTorch versions doesn't change too much, and hence all code should also be runnable with newer versions.\n",
        "\n",
        "As in every machine learning framework, PyTorch provides functions that are stochastic like generating random numbers.\n",
        "However, a very good practice is to setup your code to be reproducible with the exact same random numbers.\n",
        "This is why we set a seed below."
      ],
      "id": "8a8171cd"
    },
    {
      "cell_type": "code",
      "metadata": {
        "execution": {
          "iopub.execute_input": "2021-09-16T12:32:47.245406Z",
          "iopub.status.busy": "2021-09-16T12:32:47.244938Z",
          "iopub.status.idle": "2021-09-16T12:32:47.249667Z",
          "shell.execute_reply": "2021-09-16T12:32:47.250066Z"
        },
        "papermill": {
          "duration": 0.050609,
          "end_time": "2021-09-16T12:32:47.250178",
          "exception": false,
          "start_time": "2021-09-16T12:32:47.199569",
          "status": "completed"
        },
        "tags": [],
        "id": "5d3e8fcb",
        "outputId": "207fbd40-2db7-4673-9090-9531f80e1042"
      },
      "source": [
        "torch.manual_seed(42)  # Setting the seed"
      ],
      "id": "5d3e8fcb",
      "execution_count": null,
      "outputs": [
        {
          "data": {
            "text/plain": [
              "<torch._C.Generator at 0x7f8a449c8450>"
            ]
          },
          "execution_count": 4,
          "metadata": {},
          "output_type": "execute_result"
        }
      ]
    },
    {
      "cell_type": "markdown",
      "metadata": {
        "papermill": {
          "duration": 0.043829,
          "end_time": "2021-09-16T12:32:47.337473",
          "exception": false,
          "start_time": "2021-09-16T12:32:47.293644",
          "status": "completed"
        },
        "tags": [],
        "id": "6f28366d"
      },
      "source": [
        "### Tensors\n",
        "\n",
        "Tensors are the PyTorch equivalent to Numpy arrays, with the addition to also have support for GPU acceleration (more on that later).\n",
        "The name \"tensor\" is a generalization of concepts you already know.\n",
        "For instance, a vector is a 1-D tensor, and a matrix a 2-D tensor.\n",
        "When working with neural networks, we will use tensors of various shapes and number of dimensions.\n",
        "\n",
        "Most common functions you know from numpy can be used on tensors as well.\n",
        "Actually, since numpy arrays are so similar to tensors, we can convert most tensors to numpy arrays (and back) but we don't need it too often.\n",
        "\n",
        "#### Initialization\n",
        "\n",
        "Let's first start by looking at different ways of creating a tensor.\n",
        "There are many possible options, the most simple one is to call\n",
        "`torch.Tensor` passing the desired shape as input argument:"
      ],
      "id": "6f28366d"
    },
    {
      "cell_type": "code",
      "metadata": {
        "execution": {
          "iopub.execute_input": "2021-09-16T12:32:47.428074Z",
          "iopub.status.busy": "2021-09-16T12:32:47.427607Z",
          "iopub.status.idle": "2021-09-16T12:32:47.431411Z",
          "shell.execute_reply": "2021-09-16T12:32:47.430883Z"
        },
        "papermill": {
          "duration": 0.050551,
          "end_time": "2021-09-16T12:32:47.431515",
          "exception": false,
          "start_time": "2021-09-16T12:32:47.380964",
          "status": "completed"
        },
        "tags": [],
        "id": "7d6bab63",
        "outputId": "c758273b-e053-4d33-b4f1-8972fe8cd99f"
      },
      "source": [
        "x = torch.Tensor(2, 3, 4)\n",
        "print(x)"
      ],
      "id": "7d6bab63",
      "execution_count": null,
      "outputs": [
        {
          "name": "stdout",
          "output_type": "stream",
          "text": [
            "tensor([[[7.3697e+28, 2.7869e+29, 4.3059e+21, 6.9768e+22],\n",
            "         [6.8612e+22, 4.6114e+24, 3.0186e+32, 4.5434e+30],\n",
            "         [1.9519e-19, 7.4934e+28, 8.9068e-15, 5.6284e-14]],\n",
            "\n",
            "        [[2.0618e-19, 1.0901e+27, 2.0532e-19, 1.7440e+28],\n",
            "         [1.2997e+34, 6.8608e+22, 4.7473e+27, 2.0532e-19],\n",
            "         [3.1771e+30, 7.2442e+22, 1.6931e+22, 1.1022e+24]]])\n"
          ]
        }
      ]
    },
    {
      "cell_type": "markdown",
      "metadata": {
        "papermill": {
          "duration": 0.043882,
          "end_time": "2021-09-16T12:32:47.519551",
          "exception": false,
          "start_time": "2021-09-16T12:32:47.475669",
          "status": "completed"
        },
        "tags": [],
        "id": "2b19df67"
      },
      "source": [
        "The function `torch.Tensor` allocates memory for the desired tensor, but reuses any values that have already been in the memory.\n",
        "To directly assign values to the tensor during initialization, there are many alternatives including:\n",
        "\n",
        "* `torch.zeros`: Creates a tensor filled with zeros\n",
        "* `torch.ones`: Creates a tensor filled with ones\n",
        "* `torch.rand`: Creates a tensor with random values uniformly sampled between 0 and 1\n",
        "* `torch.randn`: Creates a tensor with random values sampled from a normal distribution with mean 0 and variance 1\n",
        "* `torch.arange`: Creates a tensor containing the values $N,N+1,N+2,...,M$\n",
        "* `torch.Tensor` (input list): Creates a tensor from the list elements you provide"
      ],
      "id": "2b19df67"
    },
    {
      "cell_type": "code",
      "metadata": {
        "execution": {
          "iopub.execute_input": "2021-09-16T12:32:47.611131Z",
          "iopub.status.busy": "2021-09-16T12:32:47.610668Z",
          "iopub.status.idle": "2021-09-16T12:32:47.623382Z",
          "shell.execute_reply": "2021-09-16T12:32:47.622915Z"
        },
        "papermill": {
          "duration": 0.060116,
          "end_time": "2021-09-16T12:32:47.623485",
          "exception": false,
          "start_time": "2021-09-16T12:32:47.563369",
          "status": "completed"
        },
        "tags": [],
        "id": "45fe1b7e",
        "outputId": "f9c44389-af89-485f-9136-1993b41f98b4"
      },
      "source": [
        "# Create a tensor from a (nested) list\n",
        "x = torch.Tensor([[1, 2], [3, 4]])\n",
        "print(x)"
      ],
      "id": "45fe1b7e",
      "execution_count": null,
      "outputs": [
        {
          "name": "stdout",
          "output_type": "stream",
          "text": [
            "tensor([[1., 2.],\n",
            "        [3., 4.]])\n"
          ]
        }
      ]
    },
    {
      "cell_type": "code",
      "metadata": {
        "execution": {
          "iopub.execute_input": "2021-09-16T12:32:47.717600Z",
          "iopub.status.busy": "2021-09-16T12:32:47.717128Z",
          "iopub.status.idle": "2021-09-16T12:32:47.720139Z",
          "shell.execute_reply": "2021-09-16T12:32:47.719670Z"
        },
        "papermill": {
          "duration": 0.052738,
          "end_time": "2021-09-16T12:32:47.720244",
          "exception": false,
          "start_time": "2021-09-16T12:32:47.667506",
          "status": "completed"
        },
        "tags": [],
        "id": "76f8e1f5",
        "outputId": "5e507b04-8239-4761-ecdc-3209b6d26279"
      },
      "source": [
        "# Create a tensor with random values between 0 and 1 with the shape [2, 3, 4]\n",
        "x = torch.rand(2, 3, 4)\n",
        "print(x)"
      ],
      "id": "76f8e1f5",
      "execution_count": null,
      "outputs": [
        {
          "name": "stdout",
          "output_type": "stream",
          "text": [
            "tensor([[[0.8823, 0.9150, 0.3829, 0.9593],\n",
            "         [0.3904, 0.6009, 0.2566, 0.7936],\n",
            "         [0.9408, 0.1332, 0.9346, 0.5936]],\n",
            "\n",
            "        [[0.8694, 0.5677, 0.7411, 0.4294],\n",
            "         [0.8854, 0.5739, 0.2666, 0.6274],\n",
            "         [0.2696, 0.4414, 0.2969, 0.8317]]])\n"
          ]
        }
      ]
    },
    {
      "cell_type": "markdown",
      "metadata": {
        "papermill": {
          "duration": 0.044337,
          "end_time": "2021-09-16T12:32:47.809374",
          "exception": false,
          "start_time": "2021-09-16T12:32:47.765037",
          "status": "completed"
        },
        "tags": [],
        "id": "f2c84d7c"
      },
      "source": [
        "You can obtain the shape of a tensor in the same way as in numpy (`x.shape`), or using the `.size` method:"
      ],
      "id": "f2c84d7c"
    },
    {
      "cell_type": "code",
      "metadata": {
        "execution": {
          "iopub.execute_input": "2021-09-16T12:32:47.902716Z",
          "iopub.status.busy": "2021-09-16T12:32:47.900874Z",
          "iopub.status.idle": "2021-09-16T12:32:47.906006Z",
          "shell.execute_reply": "2021-09-16T12:32:47.905588Z"
        },
        "papermill": {
          "duration": 0.05197,
          "end_time": "2021-09-16T12:32:47.906110",
          "exception": false,
          "start_time": "2021-09-16T12:32:47.854140",
          "status": "completed"
        },
        "tags": [],
        "id": "b9738fb0",
        "outputId": "eccc9bc4-660a-40bd-d539-1757d4caef32"
      },
      "source": [
        "shape = x.shape\n",
        "print(\"Shape:\", x.shape)\n",
        "\n",
        "size = x.size()\n",
        "print(\"Size:\", size)\n",
        "\n",
        "dim1, dim2, dim3 = x.size()\n",
        "print(\"Size:\", dim1, dim2, dim3)"
      ],
      "id": "b9738fb0",
      "execution_count": null,
      "outputs": [
        {
          "name": "stdout",
          "output_type": "stream",
          "text": [
            "Shape: torch.Size([2, 3, 4])\n",
            "Size: torch.Size([2, 3, 4])\n",
            "Size: 2 3 4\n"
          ]
        }
      ]
    },
    {
      "cell_type": "markdown",
      "metadata": {
        "papermill": {
          "duration": 0.045873,
          "end_time": "2021-09-16T12:32:47.996974",
          "exception": false,
          "start_time": "2021-09-16T12:32:47.951101",
          "status": "completed"
        },
        "tags": [],
        "id": "0e9401d0"
      },
      "source": [
        "#### Tensor to Numpy, and Numpy to Tensor\n",
        "\n",
        "Tensors can be converted to numpy arrays, and numpy arrays back to tensors.\n",
        "To transform a numpy array into a tensor, we can use the function `torch.from_numpy`:"
      ],
      "id": "0e9401d0"
    },
    {
      "cell_type": "code",
      "metadata": {
        "execution": {
          "iopub.execute_input": "2021-09-16T12:32:48.091606Z",
          "iopub.status.busy": "2021-09-16T12:32:48.091139Z",
          "iopub.status.idle": "2021-09-16T12:32:48.093695Z",
          "shell.execute_reply": "2021-09-16T12:32:48.094094Z"
        },
        "papermill": {
          "duration": 0.052501,
          "end_time": "2021-09-16T12:32:48.094216",
          "exception": false,
          "start_time": "2021-09-16T12:32:48.041715",
          "status": "completed"
        },
        "tags": [],
        "id": "e0670ce6",
        "outputId": "02c97d56-0c83-460a-83bd-9f992491095d"
      },
      "source": [
        "np_arr = np.array([[1, 2], [3, 4]])\n",
        "tensor = torch.from_numpy(np_arr)\n",
        "\n",
        "print(\"Numpy array:\", np_arr)\n",
        "print(\"PyTorch tensor:\", tensor)"
      ],
      "id": "e0670ce6",
      "execution_count": null,
      "outputs": [
        {
          "name": "stdout",
          "output_type": "stream",
          "text": [
            "Numpy array: [[1 2]\n",
            " [3 4]]\n",
            "PyTorch tensor: tensor([[1, 2],\n",
            "        [3, 4]])\n"
          ]
        }
      ]
    },
    {
      "cell_type": "markdown",
      "metadata": {
        "papermill": {
          "duration": 0.045581,
          "end_time": "2021-09-16T12:32:49.246779",
          "exception": false,
          "start_time": "2021-09-16T12:32:49.201198",
          "status": "completed"
        },
        "tags": [],
        "id": "98f64f88"
      },
      "source": [
        "To transform a PyTorch tensor back to a numpy array, we can use the function `.numpy()` on tensors:"
      ],
      "id": "98f64f88"
    },
    {
      "cell_type": "code",
      "metadata": {
        "execution": {
          "iopub.execute_input": "2021-09-16T12:32:49.340766Z",
          "iopub.status.busy": "2021-09-16T12:32:49.340292Z",
          "iopub.status.idle": "2021-09-16T12:32:49.343538Z",
          "shell.execute_reply": "2021-09-16T12:32:49.343139Z"
        },
        "papermill": {
          "duration": 0.05169,
          "end_time": "2021-09-16T12:32:49.343640",
          "exception": false,
          "start_time": "2021-09-16T12:32:49.291950",
          "status": "completed"
        },
        "tags": [],
        "id": "fb2c4b46",
        "outputId": "f62d0660-5b03-4785-d05e-97500270a22d"
      },
      "source": [
        "tensor = torch.arange(4)\n",
        "np_arr = tensor.numpy()\n",
        "\n",
        "print(\"PyTorch tensor:\", tensor)\n",
        "print(\"Numpy array:\", np_arr)"
      ],
      "id": "fb2c4b46",
      "execution_count": null,
      "outputs": [
        {
          "name": "stdout",
          "output_type": "stream",
          "text": [
            "PyTorch tensor: tensor([0, 1, 2, 3])\n",
            "Numpy array: [0 1 2 3]\n"
          ]
        }
      ]
    },
    {
      "cell_type": "markdown",
      "metadata": {
        "papermill": {
          "duration": 0.051428,
          "end_time": "2021-09-16T12:32:49.440442",
          "exception": false,
          "start_time": "2021-09-16T12:32:49.389014",
          "status": "completed"
        },
        "tags": [],
        "id": "d31dc267"
      },
      "source": [
        "The conversion of tensors to numpy require the tensor to be on the CPU, and not the GPU (more on GPU support in a later section).\n",
        "In case you have a tensor on GPU, you need to call `.cpu()` on the tensor beforehand.\n",
        "Hence, you get a line like `np_arr = tensor.cpu().numpy()`."
      ],
      "id": "d31dc267"
    },
    {
      "cell_type": "markdown",
      "metadata": {
        "papermill": {
          "duration": 0.045401,
          "end_time": "2021-09-16T12:32:49.530975",
          "exception": false,
          "start_time": "2021-09-16T12:32:49.485574",
          "status": "completed"
        },
        "tags": [],
        "id": "46a6ef01"
      },
      "source": [
        "#### Operations\n",
        "\n",
        "Most operations that exist in numpy, also exist in PyTorch.\n",
        "A full list of operations can be found in the [PyTorch documentation](https://pytorch.org/docs/stable/tensors.html#), but we will review the most important ones here.\n",
        "\n",
        "The simplest operation is to add two tensors:"
      ],
      "id": "46a6ef01"
    },
    {
      "cell_type": "code",
      "metadata": {
        "execution": {
          "iopub.execute_input": "2021-09-16T12:32:49.625900Z",
          "iopub.status.busy": "2021-09-16T12:32:49.625408Z",
          "iopub.status.idle": "2021-09-16T12:32:49.629396Z",
          "shell.execute_reply": "2021-09-16T12:32:49.629792Z"
        },
        "papermill": {
          "duration": 0.053783,
          "end_time": "2021-09-16T12:32:49.629915",
          "exception": false,
          "start_time": "2021-09-16T12:32:49.576132",
          "status": "completed"
        },
        "tags": [],
        "id": "13f957c9",
        "outputId": "503387cb-4c45-4a9b-ea9e-212268a017ff"
      },
      "source": [
        "x1 = torch.rand(2, 3)\n",
        "x2 = torch.rand(2, 3)\n",
        "y = x1 + x2\n",
        "\n",
        "print(\"X1\", x1)\n",
        "print(\"X2\", x2)\n",
        "print(\"Y\", y)"
      ],
      "id": "13f957c9",
      "execution_count": null,
      "outputs": [
        {
          "name": "stdout",
          "output_type": "stream",
          "text": [
            "X1 tensor([[0.1053, 0.2695, 0.3588],\n",
            "        [0.1994, 0.5472, 0.0062]])\n",
            "X2 tensor([[0.9516, 0.0753, 0.8860],\n",
            "        [0.5832, 0.3376, 0.8090]])\n",
            "Y tensor([[1.0569, 0.3448, 1.2448],\n",
            "        [0.7826, 0.8848, 0.8151]])\n"
          ]
        }
      ]
    },
    {
      "cell_type": "markdown",
      "metadata": {
        "papermill": {
          "duration": 0.047584,
          "end_time": "2021-09-16T12:32:49.724517",
          "exception": false,
          "start_time": "2021-09-16T12:32:49.676933",
          "status": "completed"
        },
        "tags": [],
        "id": "4fbd2538"
      },
      "source": [
        "Calling `x1 + x2` creates a new tensor containing the sum of the two inputs.\n",
        "However, we can also use in-place operations that are applied directly on the memory of a tensor.\n",
        "We therefore change the values of `x2` without the chance to re-accessing the values of `x2` before the operation.\n",
        "An example is shown below:"
      ],
      "id": "4fbd2538"
    },
    {
      "cell_type": "code",
      "metadata": {
        "execution": {
          "iopub.execute_input": "2021-09-16T12:32:49.823070Z",
          "iopub.status.busy": "2021-09-16T12:32:49.822399Z",
          "iopub.status.idle": "2021-09-16T12:32:49.828109Z",
          "shell.execute_reply": "2021-09-16T12:32:49.827637Z"
        },
        "papermill": {
          "duration": 0.055272,
          "end_time": "2021-09-16T12:32:49.828214",
          "exception": false,
          "start_time": "2021-09-16T12:32:49.772942",
          "status": "completed"
        },
        "tags": [],
        "id": "0e6a7497",
        "outputId": "d0aab7ca-4ac1-42c9-94d7-214c4d52d30a"
      },
      "source": [
        "x1 = torch.rand(2, 3)\n",
        "x2 = torch.rand(2, 3)\n",
        "print(\"X1 (before)\", x1)\n",
        "print(\"X2 (before)\", x2)\n",
        "\n",
        "x2.add_(x1)\n",
        "print(\"X1 (after)\", x1)\n",
        "print(\"X2 (after)\", x2)"
      ],
      "id": "0e6a7497",
      "execution_count": null,
      "outputs": [
        {
          "name": "stdout",
          "output_type": "stream",
          "text": [
            "X1 (before) tensor([[0.5779, 0.9040, 0.5547],\n",
            "        [0.3423, 0.6343, 0.3644]])\n",
            "X2 (before) tensor([[0.7104, 0.9464, 0.7890],\n",
            "        [0.2814, 0.7886, 0.5895]])\n",
            "X1 (after) tensor([[0.5779, 0.9040, 0.5547],\n",
            "        [0.3423, 0.6343, 0.3644]])\n",
            "X2 (after) tensor([[1.2884, 1.8504, 1.3437],\n",
            "        [0.6237, 1.4230, 0.9539]])\n"
          ]
        }
      ]
    },
    {
      "cell_type": "markdown",
      "metadata": {
        "papermill": {
          "duration": 0.046964,
          "end_time": "2021-09-16T12:32:49.921617",
          "exception": false,
          "start_time": "2021-09-16T12:32:49.874653",
          "status": "completed"
        },
        "tags": [],
        "id": "5cbaa92f"
      },
      "source": [
        "In-place operations are usually marked with a underscore postfix (e.g. \"add_\" instead of \"add\").\n",
        "\n",
        "Another common operation aims at changing the shape of a tensor.\n",
        "A tensor of size (2,3) can be re-organized to any other shape with the same number of elements (e.g. a tensor of size (6), or (3,2), ...).\n",
        "In PyTorch, this operation is called `view`:"
      ],
      "id": "5cbaa92f"
    },
    {
      "cell_type": "code",
      "metadata": {
        "execution": {
          "iopub.execute_input": "2021-09-16T12:32:50.026878Z",
          "iopub.status.busy": "2021-09-16T12:32:50.026353Z",
          "iopub.status.idle": "2021-09-16T12:32:50.029094Z",
          "shell.execute_reply": "2021-09-16T12:32:50.028625Z"
        },
        "papermill": {
          "duration": 0.06096,
          "end_time": "2021-09-16T12:32:50.029199",
          "exception": false,
          "start_time": "2021-09-16T12:32:49.968239",
          "status": "completed"
        },
        "tags": [],
        "id": "6907851d",
        "outputId": "06cd570d-7f0b-478f-c72a-6cf1eb1f4bc2"
      },
      "source": [
        "x = torch.arange(6)\n",
        "print(\"X\", x)"
      ],
      "id": "6907851d",
      "execution_count": null,
      "outputs": [
        {
          "name": "stdout",
          "output_type": "stream",
          "text": [
            "X tensor([0, 1, 2, 3, 4, 5])\n"
          ]
        }
      ]
    },
    {
      "cell_type": "code",
      "metadata": {
        "execution": {
          "iopub.execute_input": "2021-09-16T12:32:50.136129Z",
          "iopub.status.busy": "2021-09-16T12:32:50.135661Z",
          "iopub.status.idle": "2021-09-16T12:32:50.138426Z",
          "shell.execute_reply": "2021-09-16T12:32:50.137963Z"
        },
        "papermill": {
          "duration": 0.054742,
          "end_time": "2021-09-16T12:32:50.138528",
          "exception": false,
          "start_time": "2021-09-16T12:32:50.083786",
          "status": "completed"
        },
        "tags": [],
        "id": "252fa33f",
        "outputId": "223dccac-9220-47cb-88f2-0f5fd135618a"
      },
      "source": [
        "x = x.view(2, 3)\n",
        "print(\"X\", x)"
      ],
      "id": "252fa33f",
      "execution_count": null,
      "outputs": [
        {
          "name": "stdout",
          "output_type": "stream",
          "text": [
            "X tensor([[0, 1, 2],\n",
            "        [3, 4, 5]])\n"
          ]
        }
      ]
    },
    {
      "cell_type": "code",
      "metadata": {
        "execution": {
          "iopub.execute_input": "2021-09-16T12:32:50.239003Z",
          "iopub.status.busy": "2021-09-16T12:32:50.238537Z",
          "iopub.status.idle": "2021-09-16T12:32:50.241342Z",
          "shell.execute_reply": "2021-09-16T12:32:50.240878Z"
        },
        "papermill": {
          "duration": 0.053431,
          "end_time": "2021-09-16T12:32:50.241439",
          "exception": false,
          "start_time": "2021-09-16T12:32:50.188008",
          "status": "completed"
        },
        "tags": [],
        "id": "72e32ecb",
        "outputId": "e9acaf48-2821-4d8e-b89b-2ae76d7f0d2e"
      },
      "source": [
        "x = x.permute(1, 0)  # Swapping dimension 0 and 1\n",
        "print(\"X\", x)"
      ],
      "id": "72e32ecb",
      "execution_count": null,
      "outputs": [
        {
          "name": "stdout",
          "output_type": "stream",
          "text": [
            "X tensor([[0, 3],\n",
            "        [1, 4],\n",
            "        [2, 5]])\n"
          ]
        }
      ]
    },
    {
      "cell_type": "markdown",
      "metadata": {
        "papermill": {
          "duration": 0.04706,
          "end_time": "2021-09-16T12:32:50.335409",
          "exception": false,
          "start_time": "2021-09-16T12:32:50.288349",
          "status": "completed"
        },
        "tags": [],
        "id": "cde67e9c"
      },
      "source": [
        "Other commonly used operations include matrix multiplications, which are essential for neural networks.\n",
        "Quite often, we have an input vector $\\mathbf{x}$, which is transformed using a learned weight matrix $\\mathbf{W}$.\n",
        "There are multiple ways and functions to perform matrix multiplication, some of which we list below:\n",
        "\n",
        "* `torch.matmul`: Performs the matrix product over two tensors, where the specific behavior depends on the dimensions.\n",
        "If both inputs are matrices (2-dimensional tensors), it performs the standard matrix product.\n",
        "For higher dimensional inputs, the function supports broadcasting (for details see the [documentation](https://pytorch.org/docs/stable/generated/torch.matmul.html?highlight=matmul#torch.matmul)).\n",
        "Can also be written as `a @ b`, similar to numpy.\n",
        "* `torch.mm`: Performs the matrix product over two matrices, but doesn't support broadcasting (see [documentation](https://pytorch.org/docs/stable/generated/torch.mm.html?highlight=torch%20mm#torch.mm))\n",
        "* `torch.bmm`: Performs the matrix product with a support batch dimension.\n",
        "If the first tensor $T$ is of shape ($b\\times n\\times m$), and the second tensor $R$ ($b\\times m\\times p$), the output $O$ is of shape ($b\\times n\\times p$), and has been calculated by performing $b$ matrix multiplications of the submatrices of $T$ and $R$: $O_i = T_i @ R_i$\n",
        "* `torch.einsum`: Performs matrix multiplications and more (i.e. sums of products) using the Einstein summation convention.\n",
        "Explanation of the Einstein sum can be found in assignment 1.\n",
        "\n",
        "Usually, we use `torch.matmul` or `torch.bmm`. We can try a matrix multiplication with `torch.matmul` below."
      ],
      "id": "cde67e9c"
    },
    {
      "cell_type": "code",
      "metadata": {
        "execution": {
          "iopub.execute_input": "2021-09-16T12:32:50.432080Z",
          "iopub.status.busy": "2021-09-16T12:32:50.431615Z",
          "iopub.status.idle": "2021-09-16T12:32:50.434705Z",
          "shell.execute_reply": "2021-09-16T12:32:50.434244Z"
        },
        "papermill": {
          "duration": 0.052861,
          "end_time": "2021-09-16T12:32:50.434804",
          "exception": false,
          "start_time": "2021-09-16T12:32:50.381943",
          "status": "completed"
        },
        "tags": [],
        "id": "ff386c27",
        "outputId": "5fc6dccf-55bd-4ed8-b06d-17f0567da5ac"
      },
      "source": [
        "x = torch.arange(6)\n",
        "x = x.view(2, 3)\n",
        "print(\"X\", x)"
      ],
      "id": "ff386c27",
      "execution_count": null,
      "outputs": [
        {
          "name": "stdout",
          "output_type": "stream",
          "text": [
            "X tensor([[0, 1, 2],\n",
            "        [3, 4, 5]])\n"
          ]
        }
      ]
    },
    {
      "cell_type": "code",
      "metadata": {
        "execution": {
          "iopub.execute_input": "2021-09-16T12:32:50.533427Z",
          "iopub.status.busy": "2021-09-16T12:32:50.532966Z",
          "iopub.status.idle": "2021-09-16T12:32:50.535803Z",
          "shell.execute_reply": "2021-09-16T12:32:50.535338Z"
        },
        "papermill": {
          "duration": 0.054221,
          "end_time": "2021-09-16T12:32:50.535901",
          "exception": false,
          "start_time": "2021-09-16T12:32:50.481680",
          "status": "completed"
        },
        "tags": [],
        "id": "8c1795af",
        "outputId": "0e937cff-487b-467b-890e-8b91cccf4913"
      },
      "source": [
        "W = torch.arange(9).view(3, 3)  # We can also stack multiple operations in a single line\n",
        "print(\"W\", W)"
      ],
      "id": "8c1795af",
      "execution_count": null,
      "outputs": [
        {
          "name": "stdout",
          "output_type": "stream",
          "text": [
            "W tensor([[0, 1, 2],\n",
            "        [3, 4, 5],\n",
            "        [6, 7, 8]])\n"
          ]
        }
      ]
    },
    {
      "cell_type": "code",
      "metadata": {
        "execution": {
          "iopub.execute_input": "2021-09-16T12:32:50.633621Z",
          "iopub.status.busy": "2021-09-16T12:32:50.633158Z",
          "iopub.status.idle": "2021-09-16T12:32:50.635999Z",
          "shell.execute_reply": "2021-09-16T12:32:50.635506Z"
        },
        "papermill": {
          "duration": 0.052906,
          "end_time": "2021-09-16T12:32:50.636097",
          "exception": false,
          "start_time": "2021-09-16T12:32:50.583191",
          "status": "completed"
        },
        "tags": [],
        "id": "4dddd17e",
        "outputId": "e0123356-0b94-487b-b600-d02f396d5075"
      },
      "source": [
        "h = torch.matmul(x, W)  # Verify the result by calculating it by hand too!\n",
        "print(\"h\", h)"
      ],
      "id": "4dddd17e",
      "execution_count": null,
      "outputs": [
        {
          "name": "stdout",
          "output_type": "stream",
          "text": [
            "h tensor([[15, 18, 21],\n",
            "        [42, 54, 66]])\n"
          ]
        }
      ]
    },
    {
      "cell_type": "markdown",
      "metadata": {
        "papermill": {
          "duration": 0.048142,
          "end_time": "2021-09-16T12:32:50.732093",
          "exception": false,
          "start_time": "2021-09-16T12:32:50.683951",
          "status": "completed"
        },
        "tags": [],
        "id": "72d026f9"
      },
      "source": [
        "#### Indexing\n",
        "\n",
        "We often have the situation where we need to select a part of a tensor.\n",
        "Indexing works just like in numpy, so let's try it:"
      ],
      "id": "72d026f9"
    },
    {
      "cell_type": "code",
      "metadata": {
        "execution": {
          "iopub.execute_input": "2021-09-16T12:32:50.831818Z",
          "iopub.status.busy": "2021-09-16T12:32:50.831358Z",
          "iopub.status.idle": "2021-09-16T12:32:50.834223Z",
          "shell.execute_reply": "2021-09-16T12:32:50.833827Z"
        },
        "papermill": {
          "duration": 0.054078,
          "end_time": "2021-09-16T12:32:50.834321",
          "exception": false,
          "start_time": "2021-09-16T12:32:50.780243",
          "status": "completed"
        },
        "tags": [],
        "id": "b44382eb",
        "outputId": "aed72501-e9e9-4996-dab0-66f2211f390c"
      },
      "source": [
        "x = torch.arange(12).view(3, 4)\n",
        "print(\"X\", x)"
      ],
      "id": "b44382eb",
      "execution_count": null,
      "outputs": [
        {
          "name": "stdout",
          "output_type": "stream",
          "text": [
            "X tensor([[ 0,  1,  2,  3],\n",
            "        [ 4,  5,  6,  7],\n",
            "        [ 8,  9, 10, 11]])\n"
          ]
        }
      ]
    },
    {
      "cell_type": "code",
      "metadata": {
        "execution": {
          "iopub.execute_input": "2021-09-16T12:32:50.933203Z",
          "iopub.status.busy": "2021-09-16T12:32:50.932738Z",
          "iopub.status.idle": "2021-09-16T12:32:50.935142Z",
          "shell.execute_reply": "2021-09-16T12:32:50.934747Z"
        },
        "papermill": {
          "duration": 0.05308,
          "end_time": "2021-09-16T12:32:50.935240",
          "exception": false,
          "start_time": "2021-09-16T12:32:50.882160",
          "status": "completed"
        },
        "tags": [],
        "id": "e797f3da",
        "outputId": "c53f9120-9e75-4b30-907a-206679e82791"
      },
      "source": [
        "print(x[:, 1])  # Second column"
      ],
      "id": "e797f3da",
      "execution_count": null,
      "outputs": [
        {
          "name": "stdout",
          "output_type": "stream",
          "text": [
            "tensor([1, 5, 9])\n"
          ]
        }
      ]
    },
    {
      "cell_type": "code",
      "metadata": {
        "execution": {
          "iopub.execute_input": "2021-09-16T12:32:51.035597Z",
          "iopub.status.busy": "2021-09-16T12:32:51.035133Z",
          "iopub.status.idle": "2021-09-16T12:32:51.037860Z",
          "shell.execute_reply": "2021-09-16T12:32:51.037378Z"
        },
        "papermill": {
          "duration": 0.053815,
          "end_time": "2021-09-16T12:32:51.037961",
          "exception": false,
          "start_time": "2021-09-16T12:32:50.984146",
          "status": "completed"
        },
        "tags": [],
        "id": "832fa534",
        "outputId": "578ac154-c19e-4acd-9e5d-8a2d2dd5b8a2"
      },
      "source": [
        "print(x[0])  # First row"
      ],
      "id": "832fa534",
      "execution_count": null,
      "outputs": [
        {
          "name": "stdout",
          "output_type": "stream",
          "text": [
            "tensor([0, 1, 2, 3])\n"
          ]
        }
      ]
    },
    {
      "cell_type": "code",
      "metadata": {
        "execution": {
          "iopub.execute_input": "2021-09-16T12:32:51.138719Z",
          "iopub.status.busy": "2021-09-16T12:32:51.138254Z",
          "iopub.status.idle": "2021-09-16T12:32:51.140664Z",
          "shell.execute_reply": "2021-09-16T12:32:51.140201Z"
        },
        "papermill": {
          "duration": 0.053829,
          "end_time": "2021-09-16T12:32:51.140762",
          "exception": false,
          "start_time": "2021-09-16T12:32:51.086933",
          "status": "completed"
        },
        "tags": [],
        "id": "554196e9",
        "outputId": "10730a61-9499-4cb4-966b-7beb994a547d"
      },
      "source": [
        "print(x[:2, -1])  # First two rows, last column"
      ],
      "id": "554196e9",
      "execution_count": null,
      "outputs": [
        {
          "name": "stdout",
          "output_type": "stream",
          "text": [
            "tensor([3, 7])\n"
          ]
        }
      ]
    },
    {
      "cell_type": "code",
      "metadata": {
        "execution": {
          "iopub.execute_input": "2021-09-16T12:32:51.242836Z",
          "iopub.status.busy": "2021-09-16T12:32:51.242376Z",
          "iopub.status.idle": "2021-09-16T12:32:51.245113Z",
          "shell.execute_reply": "2021-09-16T12:32:51.244657Z"
        },
        "papermill": {
          "duration": 0.054275,
          "end_time": "2021-09-16T12:32:51.245210",
          "exception": false,
          "start_time": "2021-09-16T12:32:51.190935",
          "status": "completed"
        },
        "tags": [],
        "id": "2efaee3a",
        "outputId": "4589b195-ef4d-4fb1-a51a-64c374e68484"
      },
      "source": [
        "print(x[1:3, :])  # Middle two rows"
      ],
      "id": "2efaee3a",
      "execution_count": null,
      "outputs": [
        {
          "name": "stdout",
          "output_type": "stream",
          "text": [
            "tensor([[ 4,  5,  6,  7],\n",
            "        [ 8,  9, 10, 11]])\n"
          ]
        }
      ]
    },
    {
      "cell_type": "markdown",
      "metadata": {
        "papermill": {
          "duration": 0.049087,
          "end_time": "2021-09-16T12:32:51.343540",
          "exception": false,
          "start_time": "2021-09-16T12:32:51.294453",
          "status": "completed"
        },
        "tags": [],
        "id": "e1a9591f"
      },
      "source": [
        "### Dynamic Computation Graph and Backpropagation\n",
        "\n",
        "One of the main reasons for using PyTorch in Deep Learning projects is that we can automatically get **gradients/derivatives** of functions that we define.\n",
        "We will mainly use PyTorch for implementing neural networks, and they are just fancy functions.\n",
        "If we use weight matrices in our function that we want to learn, then those are called the **parameters** or simply the **weights**.\n",
        "\n",
        "If our neural network would output a single scalar value, we would talk about taking the **derivative**, but you will see that quite often we will have **multiple** output variables (\"values\"); in that case we talk about **gradients**.\n",
        "It's a more general term.\n",
        "\n",
        "Given an input $\\mathbf{x}$, we define our function by **manipulating** that input, usually by matrix-multiplications with weight matrices and additions with so-called bias vectors.\n",
        "As we manipulate our input, we are automatically creating a **computational graph**.\n",
        "This graph shows how to arrive at our output from our input.\n",
        "PyTorch is a **define-by-run** framework; this means that we can just do our manipulations, and PyTorch will keep track of that graph for us.\n",
        "Thus, we create a dynamic computation graph along the way.\n",
        "\n",
        "So, to recap: the only thing we have to do is to compute the **output**, and then we can ask PyTorch to automatically get the **gradients**.\n",
        "\n",
        "> **Note:  Why do we want gradients?\n",
        "** Consider that we have defined a function, a neural net, that is supposed to compute a certain output $y$ for an input vector $\\mathbf{x}$.\n",
        "We then define an **error measure** that tells us how wrong our network is; how bad it is in predicting output $y$ from input $\\mathbf{x}$.\n",
        "Based on this error measure, we can use the gradients to **update** the weights $\\mathbf{W}$ that were responsible for the output, so that the next time we present input $\\mathbf{x}$ to our network, the output will be closer to what we want.\n",
        "\n",
        "The first thing we have to do is to specify which tensors require gradients.\n",
        "By default, when we create a tensor, it does not require gradients."
      ],
      "id": "e1a9591f"
    },
    {
      "cell_type": "code",
      "metadata": {
        "execution": {
          "iopub.execute_input": "2021-09-16T12:32:51.444570Z",
          "iopub.status.busy": "2021-09-16T12:32:51.443320Z",
          "iopub.status.idle": "2021-09-16T12:32:51.447126Z",
          "shell.execute_reply": "2021-09-16T12:32:51.446665Z"
        },
        "papermill": {
          "duration": 0.054607,
          "end_time": "2021-09-16T12:32:51.447227",
          "exception": false,
          "start_time": "2021-09-16T12:32:51.392620",
          "status": "completed"
        },
        "tags": [],
        "id": "9f94399d",
        "outputId": "9a315d48-5385-4e97-953d-574848a420e4"
      },
      "source": [
        "x = torch.ones((3,))\n",
        "print(x.requires_grad)"
      ],
      "id": "9f94399d",
      "execution_count": null,
      "outputs": [
        {
          "name": "stdout",
          "output_type": "stream",
          "text": [
            "False\n"
          ]
        }
      ]
    },
    {
      "cell_type": "markdown",
      "metadata": {
        "papermill": {
          "duration": 0.049292,
          "end_time": "2021-09-16T12:32:51.546032",
          "exception": false,
          "start_time": "2021-09-16T12:32:51.496740",
          "status": "completed"
        },
        "tags": [],
        "id": "12697ab1"
      },
      "source": [
        "We can change this for an existing tensor using the function `requires_grad_()` (underscore indicating that this is a in-place operation).\n",
        "Alternatively, when creating a tensor, you can pass the argument\n",
        "`requires_grad=True` to most initializers we have seen above."
      ],
      "id": "12697ab1"
    },
    {
      "cell_type": "code",
      "metadata": {
        "execution": {
          "iopub.execute_input": "2021-09-16T12:32:51.647892Z",
          "iopub.status.busy": "2021-09-16T12:32:51.647430Z",
          "iopub.status.idle": "2021-09-16T12:32:51.649913Z",
          "shell.execute_reply": "2021-09-16T12:32:51.649498Z"
        },
        "papermill": {
          "duration": 0.05454,
          "end_time": "2021-09-16T12:32:51.650014",
          "exception": false,
          "start_time": "2021-09-16T12:32:51.595474",
          "status": "completed"
        },
        "tags": [],
        "id": "7d565264",
        "outputId": "d1359e2c-57c8-4e76-9632-dedeb388e9cc"
      },
      "source": [
        "x.requires_grad_(True)\n",
        "print(x.requires_grad)"
      ],
      "id": "7d565264",
      "execution_count": null,
      "outputs": [
        {
          "name": "stdout",
          "output_type": "stream",
          "text": [
            "True\n"
          ]
        }
      ]
    },
    {
      "cell_type": "markdown",
      "metadata": {
        "papermill": {
          "duration": 0.050272,
          "end_time": "2021-09-16T12:32:51.750030",
          "exception": false,
          "start_time": "2021-09-16T12:32:51.699758",
          "status": "completed"
        },
        "tags": [],
        "id": "a16f495e"
      },
      "source": [
        "In order to get familiar with the concept of a computation graph, we will create one for the following function:\n",
        "\n",
        "$$y = \\frac{1}{|x|}\\sum_i \\left[(x_i + 2)^2 + 3\\right]$$\n",
        "\n",
        "You could imagine that $x$ are our parameters, and we want to optimize (either maximize or minimize) the output $y$.\n",
        "For this, we want to obtain the gradients $\\partial y / \\partial \\mathbf{x}$.\n",
        "For our example, we'll use $\\mathbf{x}=[0,1,2]$ as our input."
      ],
      "id": "a16f495e"
    },
    {
      "cell_type": "code",
      "metadata": {
        "execution": {
          "iopub.execute_input": "2021-09-16T12:32:51.853091Z",
          "iopub.status.busy": "2021-09-16T12:32:51.852629Z",
          "iopub.status.idle": "2021-09-16T12:32:51.855635Z",
          "shell.execute_reply": "2021-09-16T12:32:51.855175Z"
        },
        "papermill": {
          "duration": 0.055874,
          "end_time": "2021-09-16T12:32:51.855735",
          "exception": false,
          "start_time": "2021-09-16T12:32:51.799861",
          "status": "completed"
        },
        "tags": [],
        "id": "abd9c738",
        "outputId": "e7e68aea-7afb-4d35-9e83-eb98cbc0c1cc"
      },
      "source": [
        "x = torch.arange(3, dtype=torch.float32, requires_grad=True)  # Only float tensors can have gradients\n",
        "print(\"X\", x)"
      ],
      "id": "abd9c738",
      "execution_count": null,
      "outputs": [
        {
          "name": "stdout",
          "output_type": "stream",
          "text": [
            "X tensor([0., 1., 2.], requires_grad=True)\n"
          ]
        }
      ]
    },
    {
      "cell_type": "markdown",
      "metadata": {
        "papermill": {
          "duration": 0.05566,
          "end_time": "2021-09-16T12:32:51.961765",
          "exception": false,
          "start_time": "2021-09-16T12:32:51.906105",
          "status": "completed"
        },
        "tags": [],
        "id": "548b420c"
      },
      "source": [
        "Now let's build the computation graph step by step.\n",
        "You can combine multiple operations in a single line, but we will\n",
        "separate them here to get a better understanding of how each operation\n",
        "is added to the computation graph."
      ],
      "id": "548b420c"
    },
    {
      "cell_type": "code",
      "metadata": {
        "execution": {
          "iopub.execute_input": "2021-09-16T12:32:52.072120Z",
          "iopub.status.busy": "2021-09-16T12:32:52.071647Z",
          "iopub.status.idle": "2021-09-16T12:32:52.074610Z",
          "shell.execute_reply": "2021-09-16T12:32:52.074989Z"
        },
        "papermill": {
          "duration": 0.056246,
          "end_time": "2021-09-16T12:32:52.075114",
          "exception": false,
          "start_time": "2021-09-16T12:32:52.018868",
          "status": "completed"
        },
        "tags": [],
        "id": "50d91bf7",
        "outputId": "9851aea1-fb05-482b-b55f-1ab70bc0bb57"
      },
      "source": [
        "a = x + 2\n",
        "b = a ** 2\n",
        "c = b + 3\n",
        "y = c.mean()\n",
        "print(\"Y\", y)"
      ],
      "id": "50d91bf7",
      "execution_count": null,
      "outputs": [
        {
          "name": "stdout",
          "output_type": "stream",
          "text": [
            "Y tensor(12.6667, grad_fn=<MeanBackward0>)\n"
          ]
        }
      ]
    },
    {
      "cell_type": "markdown",
      "metadata": {
        "papermill": {
          "duration": 0.049612,
          "end_time": "2021-09-16T12:32:52.175001",
          "exception": false,
          "start_time": "2021-09-16T12:32:52.125389",
          "status": "completed"
        },
        "tags": [],
        "id": "e0d2f0ae"
      },
      "source": [
        "Using the statements above, we have created a computation graph that looks similar to the figure below:\n",
        "\n",
        "<center style=\"width: 100%\"><img src=\"https://github.com/PyTorchLightning/lightning-tutorials/raw/main/course_UvA-DL/01-introduction-to-pytorch/pytorch_computation_graph.svg\" width=\"200px\"></center>\n",
        "\n",
        "We calculate $a$ based on the inputs $x$ and the constant $2$, $b$ is $a$ squared, and so on.\n",
        "The visualization is an abstraction of the dependencies between inputs and outputs of the operations we have applied.\n",
        "Each node of the computation graph has automatically defined a function for calculating the gradients with respect to its inputs, `grad_fn`.\n",
        "You can see this when we printed the output tensor $y$.\n",
        "This is why the computation graph is usually visualized in the reverse direction (arrows point from the result to the inputs).\n",
        "We can perform backpropagation on the computation graph by calling the\n",
        "function `backward()` on the last output, which effectively calculates\n",
        "the gradients for each tensor that has the property\n",
        "`requires_grad=True`:"
      ],
      "id": "e0d2f0ae"
    },
    {
      "cell_type": "code",
      "metadata": {
        "execution": {
          "iopub.execute_input": "2021-09-16T12:32:52.278438Z",
          "iopub.status.busy": "2021-09-16T12:32:52.277977Z",
          "iopub.status.idle": "2021-09-16T12:32:52.363356Z",
          "shell.execute_reply": "2021-09-16T12:32:52.362899Z"
        },
        "papermill": {
          "duration": 0.137892,
          "end_time": "2021-09-16T12:32:52.363476",
          "exception": false,
          "start_time": "2021-09-16T12:32:52.225584",
          "status": "completed"
        },
        "tags": [],
        "id": "d7c2de18"
      },
      "source": [
        "y.backward()"
      ],
      "id": "d7c2de18",
      "execution_count": null,
      "outputs": []
    },
    {
      "cell_type": "markdown",
      "metadata": {
        "papermill": {
          "duration": 0.050494,
          "end_time": "2021-09-16T12:32:52.465208",
          "exception": false,
          "start_time": "2021-09-16T12:32:52.414714",
          "status": "completed"
        },
        "tags": [],
        "id": "44d67068"
      },
      "source": [
        "`x.grad` will now contain the gradient $\\partial y/ \\partial \\mathcal{x}$, and this gradient indicates how a change in $\\mathbf{x}$ will affect output $y$ given the current input $\\mathbf{x}=[0,1,2]$:"
      ],
      "id": "44d67068"
    },
    {
      "cell_type": "code",
      "metadata": {
        "execution": {
          "iopub.execute_input": "2021-09-16T12:32:52.569520Z",
          "iopub.status.busy": "2021-09-16T12:32:52.569055Z",
          "iopub.status.idle": "2021-09-16T12:32:52.572034Z",
          "shell.execute_reply": "2021-09-16T12:32:52.571551Z"
        },
        "papermill": {
          "duration": 0.056348,
          "end_time": "2021-09-16T12:32:52.572135",
          "exception": false,
          "start_time": "2021-09-16T12:32:52.515787",
          "status": "completed"
        },
        "tags": [],
        "id": "58d14f6c",
        "outputId": "97e37bad-a05c-4028-d7b5-99cfc931f671"
      },
      "source": [
        "print(x.grad)"
      ],
      "id": "58d14f6c",
      "execution_count": null,
      "outputs": [
        {
          "name": "stdout",
          "output_type": "stream",
          "text": [
            "tensor([1.3333, 2.0000, 2.6667])\n"
          ]
        }
      ]
    },
    {
      "cell_type": "markdown",
      "metadata": {
        "papermill": {
          "duration": 0.050295,
          "end_time": "2021-09-16T12:32:52.673692",
          "exception": false,
          "start_time": "2021-09-16T12:32:52.623397",
          "status": "completed"
        },
        "tags": [],
        "id": "a180ccfc"
      },
      "source": [
        "We can also verify these gradients by hand.\n",
        "We will calculate the gradients using the chain rule, in the same way as PyTorch did it:\n",
        "\n",
        "$$\\frac{\\partial y}{\\partial x_i} = \\frac{\\partial y}{\\partial c_i}\\frac{\\partial c_i}{\\partial b_i}\\frac{\\partial b_i}{\\partial a_i}\\frac{\\partial a_i}{\\partial x_i}$$\n",
        "\n",
        "Note that we have simplified this equation to index notation, and by using the fact that all operation besides the mean do not combine the elements in the tensor.\n",
        "The partial derivatives are:\n",
        "\n",
        "$$\n",
        "\\frac{\\partial a_i}{\\partial x_i} = 1,\\hspace{1cm}\n",
        "\\frac{\\partial b_i}{\\partial a_i} = 2\\cdot a_i\\hspace{1cm}\n",
        "\\frac{\\partial c_i}{\\partial b_i} = 1\\hspace{1cm}\n",
        "\\frac{\\partial y}{\\partial c_i} = \\frac{1}{3}\n",
        "$$\n",
        "\n",
        "Hence, with the input being $\\mathbf{x}=[0,1,2]$, our gradients are $\\partial y/\\partial \\mathbf{x}=[4/3,2,8/3]$.\n",
        "The previous code cell should have printed the same result."
      ],
      "id": "a180ccfc"
    },
    {
      "cell_type": "markdown",
      "metadata": {
        "papermill": {
          "duration": 0.051077,
          "end_time": "2021-09-16T12:32:52.777753",
          "exception": false,
          "start_time": "2021-09-16T12:32:52.726676",
          "status": "completed"
        },
        "tags": [],
        "id": "804f38e2"
      },
      "source": [
        "### GPU support\n",
        "\n",
        "A crucial feature of PyTorch is the support of GPUs, short for Graphics Processing Unit.\n",
        "A GPU can perform many thousands of small operations in parallel, making it very well suitable for performing large matrix operations in neural networks.\n",
        "When comparing GPUs to CPUs, we can list the following main differences (credit: [Kevin Krewell, 2009](https://blogs.nvidia.com/blog/2009/12/16/whats-the-difference-between-a-cpu-and-a-gpu/))\n",
        "\n",
        "<center style=\"width: 100%\"><img src=\"https://github.com/PyTorchLightning/lightning-tutorials/raw/main/course_UvA-DL/01-introduction-to-pytorch/comparison_CPU_GPU.png\" width=\"700px\"></center>\n",
        "\n",
        "CPUs and GPUs have both different advantages and disadvantages, which is why many computers contain both components and use them for different tasks.\n",
        "In case you are not familiar with GPUs, you can read up more details in this [NVIDIA blog post](https://blogs.nvidia.com/blog/2009/12/16/whats-the-difference-between-a-cpu-and-a-gpu/) or [here](https://www.intel.com/content/www/us/en/products/docs/processors/what-is-a-gpu.html).\n",
        "\n",
        "GPUs can accelerate the training of your network up to a factor of $100$ which is essential for large neural networks.\n",
        "PyTorch implements a lot of functionality for supporting GPUs (mostly those of NVIDIA due to the libraries [CUDA](https://developer.nvidia.com/cuda-zone) and [cuDNN](https://developer.nvidia.com/cudnn)).\n",
        "First, let's check whether you have a GPU available:"
      ],
      "id": "804f38e2"
    },
    {
      "cell_type": "code",
      "metadata": {
        "execution": {
          "iopub.execute_input": "2021-09-16T12:32:52.886128Z",
          "iopub.status.busy": "2021-09-16T12:32:52.885628Z",
          "iopub.status.idle": "2021-09-16T12:32:52.888249Z",
          "shell.execute_reply": "2021-09-16T12:32:52.887851Z"
        },
        "papermill": {
          "duration": 0.059327,
          "end_time": "2021-09-16T12:32:52.888348",
          "exception": false,
          "start_time": "2021-09-16T12:32:52.829021",
          "status": "completed"
        },
        "tags": [],
        "id": "be576156",
        "outputId": "35e4b3dd-c780-4b96-81e7-d3b590c6322d"
      },
      "source": [
        "gpu_avail = torch.cuda.is_available()\n",
        "print(f\"Is the GPU available? {gpu_avail}\")"
      ],
      "id": "be576156",
      "execution_count": null,
      "outputs": [
        {
          "name": "stdout",
          "output_type": "stream",
          "text": [
            "Is the GPU available? True\n"
          ]
        }
      ]
    },
    {
      "cell_type": "markdown",
      "metadata": {
        "papermill": {
          "duration": 0.051392,
          "end_time": "2021-09-16T12:32:52.990937",
          "exception": false,
          "start_time": "2021-09-16T12:32:52.939545",
          "status": "completed"
        },
        "tags": [],
        "id": "44ba6d0f"
      },
      "source": [
        "If you have a GPU on your computer but the command above returns False, make sure you have the correct CUDA-version installed.\n",
        "The `dl2020` environment comes with the CUDA-toolkit 10.1, which is selected for the Lisa supercomputer.\n",
        "Please change it if necessary (CUDA 10.2 is currently common).\n",
        "On Google Colab, make sure that you have selected a GPU in your runtime setup (in the menu, check under `Runtime -> Change runtime type`).\n",
        "\n",
        "By default, all tensors you create are stored on the CPU.\n",
        "We can push a tensor to the GPU by using the function `.to(...)`, or `.cuda()`.\n",
        "However, it is often a good practice to define a `device` object in your code which points to the GPU if you have one, and otherwise to the CPU.\n",
        "Then, you can write your code with respect to this device object, and it allows you to run the same code on both a CPU-only system, and one with a GPU.\n",
        "Let's try it below.\n",
        "We can specify the device as follows:"
      ],
      "id": "44ba6d0f"
    },
    {
      "cell_type": "code",
      "metadata": {
        "execution": {
          "iopub.execute_input": "2021-09-16T12:32:53.096938Z",
          "iopub.status.busy": "2021-09-16T12:32:53.096464Z",
          "iopub.status.idle": "2021-09-16T12:32:53.099120Z",
          "shell.execute_reply": "2021-09-16T12:32:53.098658Z"
        },
        "papermill": {
          "duration": 0.057283,
          "end_time": "2021-09-16T12:32:53.099221",
          "exception": false,
          "start_time": "2021-09-16T12:32:53.041938",
          "status": "completed"
        },
        "tags": [],
        "id": "c1821da3",
        "outputId": "bc003b3f-93d1-486a-a580-dd094dd0df95"
      },
      "source": [
        "device = torch.device(\"cuda\") if torch.cuda.is_available() else torch.device(\"cpu\")\n",
        "print(\"Device\", device)"
      ],
      "id": "c1821da3",
      "execution_count": null,
      "outputs": [
        {
          "name": "stdout",
          "output_type": "stream",
          "text": [
            "Device cuda\n"
          ]
        }
      ]
    },
    {
      "cell_type": "markdown",
      "metadata": {
        "papermill": {
          "duration": 0.052772,
          "end_time": "2021-09-16T12:32:53.204148",
          "exception": false,
          "start_time": "2021-09-16T12:32:53.151376",
          "status": "completed"
        },
        "tags": [],
        "id": "c7b99a5d"
      },
      "source": [
        "Now let's create a tensor and push it to the device:"
      ],
      "id": "c7b99a5d"
    },
    {
      "cell_type": "code",
      "metadata": {
        "execution": {
          "iopub.execute_input": "2021-09-16T12:32:53.312496Z",
          "iopub.status.busy": "2021-09-16T12:32:53.312034Z",
          "iopub.status.idle": "2021-09-16T12:32:55.885460Z",
          "shell.execute_reply": "2021-09-16T12:32:55.884980Z"
        },
        "papermill": {
          "duration": 2.629406,
          "end_time": "2021-09-16T12:32:55.885574",
          "exception": false,
          "start_time": "2021-09-16T12:32:53.256168",
          "status": "completed"
        },
        "tags": [],
        "id": "be1ce082",
        "outputId": "dd451975-df98-4f52-8803-5310cca38bf6"
      },
      "source": [
        "x = torch.zeros(2, 3)\n",
        "x = x.to(device)\n",
        "print(\"X\", x)"
      ],
      "id": "be1ce082",
      "execution_count": null,
      "outputs": [
        {
          "name": "stdout",
          "output_type": "stream",
          "text": [
            "X tensor([[0., 0., 0.],\n",
            "        [0., 0., 0.]], device='cuda:0')\n"
          ]
        }
      ]
    },
    {
      "cell_type": "markdown",
      "metadata": {
        "papermill": {
          "duration": 0.052118,
          "end_time": "2021-09-16T12:32:55.989872",
          "exception": false,
          "start_time": "2021-09-16T12:32:55.937754",
          "status": "completed"
        },
        "tags": [],
        "id": "e1bb4237"
      },
      "source": [
        "In case you have a GPU, you should now see the attribute `device='cuda:0'` being printed next to your tensor.\n",
        "The zero next to cuda indicates that this is the zero-th GPU device on your computer.\n",
        "PyTorch also supports multi-GPU systems, but this you will only need once you have very big networks to train (if interested, see the [PyTorch documentation](https://pytorch.org/docs/stable/distributed.html#distributed-basics)).\n",
        "We can also compare the runtime of a large matrix multiplication on the CPU with a operation on the GPU:"
      ],
      "id": "e1bb4237"
    },
    {
      "cell_type": "code",
      "metadata": {
        "execution": {
          "iopub.execute_input": "2021-09-16T12:32:56.099380Z",
          "iopub.status.busy": "2021-09-16T12:32:56.098905Z",
          "iopub.status.idle": "2021-09-16T12:32:56.633065Z",
          "shell.execute_reply": "2021-09-16T12:32:56.632672Z"
        },
        "papermill": {
          "duration": 0.59052,
          "end_time": "2021-09-16T12:32:56.633183",
          "exception": false,
          "start_time": "2021-09-16T12:32:56.042663",
          "status": "completed"
        },
        "tags": [],
        "id": "097f28c5",
        "outputId": "afb6477a-8658-4a72-adcf-83cc58bda39e"
      },
      "source": [
        "x = torch.randn(5000, 5000)\n",
        "\n",
        "# CPU version\n",
        "start_time = time.time()\n",
        "_ = torch.matmul(x, x)\n",
        "end_time = time.time()\n",
        "print(f\"CPU time: {(end_time - start_time):6.5f}s\")\n",
        "\n",
        "# GPU version\n",
        "x = x.to(device)\n",
        "# The first operation on a CUDA device can be slow as it has to establish a CPU-GPU communication first.\n",
        "# Hence, we run an arbitrary command first without timing it for a fair comparison.\n",
        "if torch.cuda.is_available():\n",
        "    _ = torch.matmul(x * 0.0, x)\n",
        "start_time = time.time()\n",
        "_ = torch.matmul(x, x)\n",
        "end_time = time.time()\n",
        "print(f\"GPU time: {(end_time - start_time):6.5f}s\")"
      ],
      "id": "097f28c5",
      "execution_count": null,
      "outputs": [
        {
          "name": "stdout",
          "output_type": "stream",
          "text": [
            "CPU time: 0.25468s\n",
            "GPU time: 0.00011s\n"
          ]
        }
      ]
    },
    {
      "cell_type": "markdown",
      "metadata": {
        "papermill": {
          "duration": 0.054603,
          "end_time": "2021-09-16T12:32:56.740740",
          "exception": false,
          "start_time": "2021-09-16T12:32:56.686137",
          "status": "completed"
        },
        "tags": [],
        "id": "e6502b2e"
      },
      "source": [
        "Depending on the size of the operation and the CPU/GPU in your system, the speedup of this operation can be >500x.\n",
        "As `matmul` operations are very common in neural networks, we can already see the great benefit of training a NN on a GPU.\n",
        "The time estimate can be relatively noisy here because we haven't run it for multiple times.\n",
        "Feel free to extend this, but it also takes longer to run.\n",
        "\n",
        "When generating random numbers, the seed between CPU and GPU is not synchronized.\n",
        "Hence, we need to set the seed on the GPU separately to ensure a reproducible code.\n",
        "Note that due to different GPU architectures, running the same code on different GPUs does not guarantee the same random numbers.\n",
        "Still, we don't want that our code gives us a different output every time we run it on the exact same hardware.\n",
        "Hence, we also set the seed on the GPU:"
      ],
      "id": "e6502b2e"
    },
    {
      "cell_type": "code",
      "metadata": {
        "execution": {
          "iopub.execute_input": "2021-09-16T12:32:56.849316Z",
          "iopub.status.busy": "2021-09-16T12:32:56.848847Z",
          "iopub.status.idle": "2021-09-16T12:32:56.850935Z",
          "shell.execute_reply": "2021-09-16T12:32:56.850475Z"
        },
        "papermill": {
          "duration": 0.057334,
          "end_time": "2021-09-16T12:32:56.851032",
          "exception": false,
          "start_time": "2021-09-16T12:32:56.793698",
          "status": "completed"
        },
        "tags": [],
        "id": "5b767a95"
      },
      "source": [
        "# GPU operations have a separate seed we also want to set\n",
        "if torch.cuda.is_available():\n",
        "    torch.cuda.manual_seed(42)\n",
        "    torch.cuda.manual_seed_all(42)\n",
        "\n",
        "# Additionally, some operations on a GPU are implemented stochastic for efficiency\n",
        "# We want to ensure that all operations are deterministic on GPU (if used) for reproducibility\n",
        "torch.backends.cudnn.determinstic = True\n",
        "torch.backends.cudnn.benchmark = False"
      ],
      "id": "5b767a95",
      "execution_count": null,
      "outputs": []
    },
    {
      "cell_type": "markdown",
      "metadata": {
        "papermill": {
          "duration": 0.051866,
          "end_time": "2021-09-16T12:32:56.955066",
          "exception": false,
          "start_time": "2021-09-16T12:32:56.903200",
          "status": "completed"
        },
        "tags": [],
        "id": "f4ca3f5b"
      },
      "source": [
        "## Learning by example: Continuous XOR\n",
        "<div class=\"center-wrapper\"><div class=\"video-wrapper\"><iframe src=\"https://www.youtube.com/embed/schbjeU5X2g\" title=\"YouTube video player\" frameborder=\"0\" allow=\"accelerometer; autoplay; clipboard-write; encrypted-media; gyroscope; picture-in-picture\" allowfullscreen></iframe></div></div>\n",
        "\n",
        "If we want to build a neural network in PyTorch, we could specify all our parameters (weight matrices, bias vectors) using `Tensors` (with `requires_grad=True`), ask PyTorch to calculate the gradients and then adjust the parameters.\n",
        "But things can quickly get cumbersome if we have a lot of parameters.\n",
        "In PyTorch, there is a package called `torch.nn` that makes building neural networks more convenient.\n",
        "\n",
        "We will introduce the libraries and all additional parts you might need to train a neural network in PyTorch, using a simple example classifier on a simple yet well known example: XOR.\n",
        "Given two binary inputs $x_1$ and $x_2$, the label to predict is $1$ if either $x_1$ or $x_2$ is $1$ while the other is $0$, or the label is $0$ in all other cases.\n",
        "The example became famous by the fact that a single neuron, i.e. a linear classifier, cannot learn this simple function.\n",
        "Hence, we will learn how to build a small neural network that can learn this function.\n",
        "To make it a little bit more interesting, we move the XOR into continuous space and introduce some gaussian noise on the binary inputs.\n",
        "Our desired separation of an XOR dataset could look as follows:\n",
        "\n",
        "<center style=\"width: 100%\"><img src=\"https://github.com/PyTorchLightning/lightning-tutorials/raw/main/course_UvA-DL/01-introduction-to-pytorch/continuous_xor.svg\" width=\"350px\"></center>"
      ],
      "id": "f4ca3f5b"
    },
    {
      "cell_type": "markdown",
      "metadata": {
        "papermill": {
          "duration": 0.051714,
          "end_time": "2021-09-16T12:32:57.058731",
          "exception": false,
          "start_time": "2021-09-16T12:32:57.007017",
          "status": "completed"
        },
        "tags": [],
        "id": "e23f8eac"
      },
      "source": [
        "### The model\n",
        "\n",
        "The package `torch.nn` defines a series of useful classes like linear networks layers, activation functions, loss functions etc.\n",
        "A full list can be found [here](https://pytorch.org/docs/stable/nn.html).\n",
        "In case you need a certain network layer, check the documentation of the package first before writing the layer yourself as the package likely contains the code for it already.\n",
        "We import it below:"
      ],
      "id": "e23f8eac"
    },
    {
      "cell_type": "code",
      "metadata": {
        "lines_to_next_cell": 0,
        "papermill": {
          "duration": 0.052216,
          "end_time": "2021-09-16T12:32:57.162758",
          "exception": false,
          "start_time": "2021-09-16T12:32:57.110542",
          "status": "completed"
        },
        "tags": [],
        "id": "8592c856"
      },
      "source": [
        ""
      ],
      "id": "8592c856",
      "execution_count": null,
      "outputs": []
    },
    {
      "cell_type": "code",
      "metadata": {
        "papermill": {
          "duration": 0.052415,
          "end_time": "2021-09-16T12:32:57.268259",
          "exception": false,
          "start_time": "2021-09-16T12:32:57.215844",
          "status": "completed"
        },
        "tags": [],
        "id": "bf8c706a"
      },
      "source": [
        ""
      ],
      "id": "bf8c706a",
      "execution_count": null,
      "outputs": []
    },
    {
      "cell_type": "markdown",
      "metadata": {
        "papermill": {
          "duration": 0.051617,
          "end_time": "2021-09-16T12:32:57.371727",
          "exception": false,
          "start_time": "2021-09-16T12:32:57.320110",
          "status": "completed"
        },
        "tags": [],
        "id": "ba549835"
      },
      "source": [
        "Additionally to `torch.nn`, there is also `torch.nn.functional`.\n",
        "It contains functions that are used in network layers.\n",
        "This is in contrast to `torch.nn` which defines them as `nn.Modules` (more on it below), and `torch.nn` actually uses a lot of functionalities from `torch.nn.functional`.\n",
        "Hence, the functional package is useful in many situations, and so we import it as well here."
      ],
      "id": "ba549835"
    },
    {
      "cell_type": "markdown",
      "metadata": {
        "lines_to_next_cell": 2,
        "papermill": {
          "duration": 0.052024,
          "end_time": "2021-09-16T12:32:57.475971",
          "exception": false,
          "start_time": "2021-09-16T12:32:57.423947",
          "status": "completed"
        },
        "tags": [],
        "id": "acc7d527"
      },
      "source": [
        "#### nn.Module\n",
        "\n",
        "In PyTorch, a neural network is build up out of modules.\n",
        "Modules can contain other modules, and a neural network is considered to be a module itself as well.\n",
        "The basic template of a module is as follows:"
      ],
      "id": "acc7d527"
    },
    {
      "cell_type": "code",
      "metadata": {
        "execution": {
          "iopub.execute_input": "2021-09-16T12:32:57.583596Z",
          "iopub.status.busy": "2021-09-16T12:32:57.583131Z",
          "iopub.status.idle": "2021-09-16T12:32:57.585190Z",
          "shell.execute_reply": "2021-09-16T12:32:57.584806Z"
        },
        "lines_to_next_cell": 2,
        "papermill": {
          "duration": 0.057057,
          "end_time": "2021-09-16T12:32:57.585292",
          "exception": false,
          "start_time": "2021-09-16T12:32:57.528235",
          "status": "completed"
        },
        "tags": [],
        "id": "34d1a3d7"
      },
      "source": [
        "class MyModule(nn.Module):\n",
        "    def __init__(self):\n",
        "        super().__init__()\n",
        "        # Some init for my module\n",
        "\n",
        "    def forward(self, x):\n",
        "        # Function for performing the calculation of the module.\n",
        "        pass"
      ],
      "id": "34d1a3d7",
      "execution_count": null,
      "outputs": []
    },
    {
      "cell_type": "markdown",
      "metadata": {
        "lines_to_next_cell": 2,
        "papermill": {
          "duration": 0.051843,
          "end_time": "2021-09-16T12:32:57.689235",
          "exception": false,
          "start_time": "2021-09-16T12:32:57.637392",
          "status": "completed"
        },
        "tags": [],
        "id": "04b470dc"
      },
      "source": [
        "The forward function is where the computation of the module is taken place, and is executed when you call the module (`nn = MyModule(); nn(x)`).\n",
        "In the init function, we usually create the parameters of the module, using `nn.Parameter`, or defining other modules that are used in the forward function.\n",
        "The backward calculation is done automatically, but could be overwritten as well if wanted.\n",
        "\n",
        "#### Simple classifier\n",
        "We can now make use of the pre-defined modules in the `torch.nn` package, and define our own small neural network.\n",
        "We will use a minimal network with a input layer, one hidden layer with tanh as activation function, and a output layer.\n",
        "In other words, our networks should look something like this:\n",
        "\n",
        "<center width=\"100%\"><img src=\"https://github.com/PyTorchLightning/lightning-tutorials/raw/main/course_UvA-DL/01-introduction-to-pytorch/small_neural_network.svg\" width=\"300px\"></center>\n",
        "\n",
        "The input neurons are shown in blue, which represent the coordinates $x_1$ and $x_2$ of a data point.\n",
        "The hidden neurons including a tanh activation are shown in white, and the output neuron in red.\n",
        "In PyTorch, we can define this as follows:"
      ],
      "id": "04b470dc"
    },
    {
      "cell_type": "code",
      "metadata": {
        "execution": {
          "iopub.execute_input": "2021-09-16T12:32:57.800277Z",
          "iopub.status.busy": "2021-09-16T12:32:57.799807Z",
          "iopub.status.idle": "2021-09-16T12:32:57.801874Z",
          "shell.execute_reply": "2021-09-16T12:32:57.801393Z"
        },
        "papermill": {
          "duration": 0.057783,
          "end_time": "2021-09-16T12:32:57.801973",
          "exception": false,
          "start_time": "2021-09-16T12:32:57.744190",
          "status": "completed"
        },
        "tags": [],
        "id": "2606872c"
      },
      "source": [
        "class SimpleClassifier(nn.Module):\n",
        "    def __init__(self, num_inputs, num_hidden, num_outputs):\n",
        "        super().__init__()\n",
        "        # Initialize the modules we need to build the network\n",
        "        self.linear1 = nn.Linear(num_inputs, num_hidden)\n",
        "        self.act_fn = nn.Tanh()\n",
        "        self.linear2 = nn.Linear(num_hidden, num_outputs)\n",
        "\n",
        "    def forward(self, x):\n",
        "        # Perform the calculation of the model to determine the prediction\n",
        "        x = self.linear1(x)\n",
        "        x = self.act_fn(x)\n",
        "        x = self.linear2(x)\n",
        "        return x"
      ],
      "id": "2606872c",
      "execution_count": null,
      "outputs": []
    },
    {
      "cell_type": "markdown",
      "metadata": {
        "papermill": {
          "duration": 0.051977,
          "end_time": "2021-09-16T12:32:57.905865",
          "exception": false,
          "start_time": "2021-09-16T12:32:57.853888",
          "status": "completed"
        },
        "tags": [],
        "id": "708b426d"
      },
      "source": [
        "For the examples in this notebook, we will use a tiny neural network with two input neurons and four hidden neurons.\n",
        "As we perform binary classification, we will use a single output neuron.\n",
        "Note that we do not apply a sigmoid on the output yet.\n",
        "This is because other functions, especially the loss, are more efficient and precise to calculate on the original outputs instead of the sigmoid output.\n",
        "We will discuss the detailed reason later."
      ],
      "id": "708b426d"
    },
    {
      "cell_type": "code",
      "metadata": {
        "execution": {
          "iopub.execute_input": "2021-09-16T12:32:58.014018Z",
          "iopub.status.busy": "2021-09-16T12:32:58.013529Z",
          "iopub.status.idle": "2021-09-16T12:32:58.016608Z",
          "shell.execute_reply": "2021-09-16T12:32:58.016147Z"
        },
        "papermill": {
          "duration": 0.058322,
          "end_time": "2021-09-16T12:32:58.016706",
          "exception": false,
          "start_time": "2021-09-16T12:32:57.958384",
          "status": "completed"
        },
        "tags": [],
        "id": "f8c99074",
        "outputId": "472ac145-a50c-42e7-f25f-c05cc72be78c"
      },
      "source": [
        "model = SimpleClassifier(num_inputs=2, num_hidden=4, num_outputs=1)\n",
        "# Printing a module shows all its submodules\n",
        "print(model)"
      ],
      "id": "f8c99074",
      "execution_count": null,
      "outputs": [
        {
          "name": "stdout",
          "output_type": "stream",
          "text": [
            "SimpleClassifier(\n",
            "  (linear1): Linear(in_features=2, out_features=4, bias=True)\n",
            "  (act_fn): Tanh()\n",
            "  (linear2): Linear(in_features=4, out_features=1, bias=True)\n",
            ")\n"
          ]
        }
      ]
    },
    {
      "cell_type": "markdown",
      "metadata": {
        "papermill": {
          "duration": 0.0523,
          "end_time": "2021-09-16T12:32:58.121280",
          "exception": false,
          "start_time": "2021-09-16T12:32:58.068980",
          "status": "completed"
        },
        "tags": [],
        "id": "7b432a95"
      },
      "source": [
        "Printing the model lists all submodules it contains.\n",
        "The parameters of a module can be obtained by using its `parameters()` functions, or `named_parameters()` to get a name to each parameter object.\n",
        "For our small neural network, we have the following parameters:"
      ],
      "id": "7b432a95"
    },
    {
      "cell_type": "code",
      "metadata": {
        "execution": {
          "iopub.execute_input": "2021-09-16T12:32:58.230366Z",
          "iopub.status.busy": "2021-09-16T12:32:58.229902Z",
          "iopub.status.idle": "2021-09-16T12:32:58.232813Z",
          "shell.execute_reply": "2021-09-16T12:32:58.232352Z"
        },
        "papermill": {
          "duration": 0.059317,
          "end_time": "2021-09-16T12:32:58.232913",
          "exception": false,
          "start_time": "2021-09-16T12:32:58.173596",
          "status": "completed"
        },
        "tags": [],
        "id": "52c7230d",
        "outputId": "2333aa10-d564-4873-a505-3f73dbf6f76e"
      },
      "source": [
        "for name, param in model.named_parameters():\n",
        "    print(f\"Parameter {name}, shape {param.shape}\")"
      ],
      "id": "52c7230d",
      "execution_count": null,
      "outputs": [
        {
          "name": "stdout",
          "output_type": "stream",
          "text": [
            "Parameter linear1.weight, shape torch.Size([4, 2])\n",
            "Parameter linear1.bias, shape torch.Size([4])\n",
            "Parameter linear2.weight, shape torch.Size([1, 4])\n",
            "Parameter linear2.bias, shape torch.Size([1])\n"
          ]
        }
      ]
    },
    {
      "cell_type": "markdown",
      "metadata": {
        "papermill": {
          "duration": 0.053627,
          "end_time": "2021-09-16T12:32:58.340801",
          "exception": false,
          "start_time": "2021-09-16T12:32:58.287174",
          "status": "completed"
        },
        "tags": [],
        "id": "b2650ef9"
      },
      "source": [
        "Each linear layer has a weight matrix of the shape `[output, input]`, and a bias of the shape `[output]`.\n",
        "The tanh activation function does not have any parameters.\n",
        "Note that parameters are only registered for `nn.Module` objects that are direct object attributes, i.e. `self.a = ...`.\n",
        "If you define a list of modules, the parameters of those are not registered for the outer module and can cause some issues when you try to optimize your module.\n",
        "There are alternatives, like `nn.ModuleList`, `nn.ModuleDict` and `nn.Sequential`, that allow you to have different data structures of modules.\n",
        "We will use them in a few later tutorials and explain them there."
      ],
      "id": "b2650ef9"
    },
    {
      "cell_type": "markdown",
      "metadata": {
        "papermill": {
          "duration": 0.052923,
          "end_time": "2021-09-16T12:32:58.446527",
          "exception": false,
          "start_time": "2021-09-16T12:32:58.393604",
          "status": "completed"
        },
        "tags": [],
        "id": "463b7836"
      },
      "source": [
        "### The data\n",
        "\n",
        "PyTorch also provides a few functionalities to load the training and\n",
        "test data efficiently, summarized in the package `torch.utils.data`."
      ],
      "id": "463b7836"
    },
    {
      "cell_type": "code",
      "metadata": {
        "papermill": {
          "duration": 0.052877,
          "end_time": "2021-09-16T12:32:58.552525",
          "exception": false,
          "start_time": "2021-09-16T12:32:58.499648",
          "status": "completed"
        },
        "tags": [],
        "id": "0ab84d11"
      },
      "source": [
        ""
      ],
      "id": "0ab84d11",
      "execution_count": null,
      "outputs": []
    },
    {
      "cell_type": "markdown",
      "metadata": {
        "papermill": {
          "duration": 0.052744,
          "end_time": "2021-09-16T12:32:58.658400",
          "exception": false,
          "start_time": "2021-09-16T12:32:58.605656",
          "status": "completed"
        },
        "tags": [],
        "id": "21c14544"
      },
      "source": [
        "The data package defines two classes which are the standard interface for handling data in PyTorch: `data.Dataset`, and `data.DataLoader`.\n",
        "The dataset class provides an uniform interface to access the\n",
        "training/test data, while the data loader makes sure to efficiently load\n",
        "and stack the data points from the dataset into batches during training."
      ],
      "id": "21c14544"
    },
    {
      "cell_type": "markdown",
      "metadata": {
        "papermill": {
          "duration": 0.055595,
          "end_time": "2021-09-16T12:32:58.767233",
          "exception": false,
          "start_time": "2021-09-16T12:32:58.711638",
          "status": "completed"
        },
        "tags": [],
        "id": "fb7ac0a3"
      },
      "source": [
        "#### The dataset class\n",
        "\n",
        "The dataset class summarizes the basic functionality of a dataset in a natural way.\n",
        "To define a dataset in PyTorch, we simply specify two functions: `__getitem__`, and `__len__`.\n",
        "The get-item function has to return the $i$-th data point in the dataset, while the len function returns the size of the dataset.\n",
        "For the XOR dataset, we can define the dataset class as follows:"
      ],
      "id": "fb7ac0a3"
    },
    {
      "cell_type": "code",
      "metadata": {
        "execution": {
          "iopub.execute_input": "2021-09-16T12:32:58.880519Z",
          "iopub.status.busy": "2021-09-16T12:32:58.880040Z",
          "iopub.status.idle": "2021-09-16T12:32:58.881657Z",
          "shell.execute_reply": "2021-09-16T12:32:58.882056Z"
        },
        "papermill": {
          "duration": 0.061328,
          "end_time": "2021-09-16T12:32:58.882175",
          "exception": false,
          "start_time": "2021-09-16T12:32:58.820847",
          "status": "completed"
        },
        "tags": [],
        "id": "85adf0a4"
      },
      "source": [
        "\n",
        "\n",
        "class XORDataset(data.Dataset):\n",
        "    def __init__(self, size, std=0.1):\n",
        "        \"\"\"\n",
        "        Inputs:\n",
        "            size - Number of data points we want to generate\n",
        "            std - Standard deviation of the noise (see generate_continuous_xor function)\n",
        "        \"\"\"\n",
        "        super().__init__()\n",
        "        self.size = size\n",
        "        self.std = std\n",
        "        self.generate_continuous_xor()\n",
        "\n",
        "    def generate_continuous_xor(self):\n",
        "        # Each data point in the XOR dataset has two variables, x and y, that can be either 0 or 1\n",
        "        # The label is their XOR combination, i.e. 1 if only x or only y is 1 while the other is 0.\n",
        "        # If x=y, the label is 0.\n",
        "        data = torch.randint(low=0, high=2, size=(self.size, 2), dtype=torch.float32)\n",
        "        label = (data.sum(dim=1) == 1).to(torch.long)\n",
        "        # To make it slightly more challenging, we add a bit of gaussian noise to the data points.\n",
        "        data += self.std * torch.randn(data.shape)\n",
        "\n",
        "        self.data = data\n",
        "        self.label = label\n",
        "\n",
        "    def __len__(self):\n",
        "        # Number of data point we have. Alternatively self.data.shape[0], or self.label.shape[0]\n",
        "        return self.size\n",
        "\n",
        "    def __getitem__(self, idx):\n",
        "        # Return the idx-th data point of the dataset\n",
        "        # If we have multiple things to return (data point and label), we can return them as tuple\n",
        "        data_point = self.data[idx]\n",
        "        data_label = self.label[idx]\n",
        "        return data_point, data_label"
      ],
      "id": "85adf0a4",
      "execution_count": null,
      "outputs": []
    },
    {
      "cell_type": "markdown",
      "metadata": {
        "papermill": {
          "duration": 0.053132,
          "end_time": "2021-09-16T12:32:58.988271",
          "exception": false,
          "start_time": "2021-09-16T12:32:58.935139",
          "status": "completed"
        },
        "tags": [],
        "id": "82143473"
      },
      "source": [
        "Let's try to create such a dataset and inspect it:"
      ],
      "id": "82143473"
    },
    {
      "cell_type": "code",
      "metadata": {
        "execution": {
          "iopub.execute_input": "2021-09-16T12:32:59.100298Z",
          "iopub.status.busy": "2021-09-16T12:32:59.099829Z",
          "iopub.status.idle": "2021-09-16T12:32:59.103186Z",
          "shell.execute_reply": "2021-09-16T12:32:59.103565Z"
        },
        "papermill": {
          "duration": 0.059959,
          "end_time": "2021-09-16T12:32:59.103683",
          "exception": false,
          "start_time": "2021-09-16T12:32:59.043724",
          "status": "completed"
        },
        "tags": [],
        "id": "d35a9331",
        "outputId": "6af17e28-2bc7-4324-b13d-8a92bfd9508c"
      },
      "source": [
        "dataset = XORDataset(size=200)\n",
        "print(\"Size of dataset:\", len(dataset))\n",
        "print(\"Data point 0:\", dataset[0])"
      ],
      "id": "d35a9331",
      "execution_count": null,
      "outputs": [
        {
          "name": "stdout",
          "output_type": "stream",
          "text": [
            "Size of dataset: 200\n",
            "Data point 0: (tensor([0.9632, 0.1117]), tensor(1))\n"
          ]
        }
      ]
    },
    {
      "cell_type": "markdown",
      "metadata": {
        "lines_to_next_cell": 2,
        "papermill": {
          "duration": 0.053101,
          "end_time": "2021-09-16T12:32:59.210237",
          "exception": false,
          "start_time": "2021-09-16T12:32:59.157136",
          "status": "completed"
        },
        "tags": [],
        "id": "f8eeb814"
      },
      "source": [
        "To better relate to the dataset, we visualize the samples below."
      ],
      "id": "f8eeb814"
    },
    {
      "cell_type": "code",
      "metadata": {
        "execution": {
          "iopub.execute_input": "2021-09-16T12:32:59.324080Z",
          "iopub.status.busy": "2021-09-16T12:32:59.323610Z",
          "iopub.status.idle": "2021-09-16T12:32:59.325640Z",
          "shell.execute_reply": "2021-09-16T12:32:59.325245Z"
        },
        "papermill": {
          "duration": 0.060548,
          "end_time": "2021-09-16T12:32:59.325755",
          "exception": false,
          "start_time": "2021-09-16T12:32:59.265207",
          "status": "completed"
        },
        "tags": [],
        "id": "40b4cbff"
      },
      "source": [
        "def visualize_samples(data, label):\n",
        "    if isinstance(data, torch.Tensor):\n",
        "        data = data.cpu().numpy()\n",
        "    if isinstance(label, torch.Tensor):\n",
        "        label = label.cpu().numpy()\n",
        "    data_0 = data[label == 0]\n",
        "    data_1 = data[label == 1]\n",
        "\n",
        "    plt.figure(figsize=(4, 4))\n",
        "    plt.scatter(data_0[:, 0], data_0[:, 1], edgecolor=\"#333\", label=\"Class 0\")\n",
        "    plt.scatter(data_1[:, 0], data_1[:, 1], edgecolor=\"#333\", label=\"Class 1\")\n",
        "    plt.title(\"Dataset samples\")\n",
        "    plt.ylabel(r\"$x_2$\")\n",
        "    plt.xlabel(r\"$x_1$\")\n",
        "    plt.legend()"
      ],
      "id": "40b4cbff",
      "execution_count": null,
      "outputs": []
    },
    {
      "cell_type": "code",
      "metadata": {
        "execution": {
          "iopub.execute_input": "2021-09-16T12:32:59.448747Z",
          "iopub.status.busy": "2021-09-16T12:32:59.448284Z",
          "iopub.status.idle": "2021-09-16T12:32:59.938181Z",
          "shell.execute_reply": "2021-09-16T12:32:59.938567Z"
        },
        "papermill": {
          "duration": 0.560114,
          "end_time": "2021-09-16T12:32:59.938710",
          "exception": false,
          "start_time": "2021-09-16T12:32:59.378596",
          "status": "completed"
        },
        "tags": [],
        "id": "44e7f18f",
        "outputId": "f35672d9-f0e6-43e0-b163-e35e481a29a5"
      },
      "source": [
        "visualize_samples(dataset.data, dataset.label)\n",
        "plt.show()"
      ],
      "id": "44e7f18f",
      "execution_count": null,
      "outputs": [
        {
          "data": {
            "application/pdf": "[encoded data removed]",
            "image/svg+xml": [
              "<?xml version=\"1.0\" encoding=\"utf-8\" standalone=\"no\"?>\n",
              "<!DOCTYPE svg PUBLIC \"-//W3C//DTD SVG 1.1//EN\"\n",
              "  \"http://www.w3.org/Graphics/SVG/1.1/DTD/svg11.dtd\">\n",
              "<svg height=\"277.314375pt\" version=\"1.1\" viewBox=\"0 0 288.985258 277.314375\" width=\"288.985258pt\" xmlns=\"http://www.w3.org/2000/svg\" xmlns:xlink=\"http://www.w3.org/1999/xlink\">\n",
              " <metadata>\n",
              "  <rdf:RDF xmlns:cc=\"http://creativecommons.org/ns#\" xmlns:dc=\"http://purl.org/dc/elements/1.1/\" xmlns:rdf=\"http://www.w3.org/1999/02/22-rdf-syntax-ns#\">\n",
              "   <cc:Work>\n",
              "    <dc:type rdf:resource=\"http://purl.org/dc/dcmitype/StillImage\"/>\n",
              "    <dc:date>2021-09-16T14:32:59.687476</dc:date>\n",
              "    <dc:format>image/svg+xml</dc:format>\n",
              "    <dc:creator>\n",
              "     <cc:Agent>\n",
              "      <dc:title>Matplotlib v3.4.3, https://matplotlib.org/</dc:title>\n",
              "     </cc:Agent>\n",
              "    </dc:creator>\n",
              "   </cc:Work>\n",
              "  </rdf:RDF>\n",
              " </metadata>\n",
              " <defs>\n",
              "  <style type=\"text/css\">*{stroke-linecap:butt;stroke-linejoin:round;}</style>\n",
              " </defs>\n",
              " <g id=\"figure_1\">\n",
              "  <g id=\"patch_1\">\n",
              "   <path d=\"M 0 277.314375 \n",
              "L 288.985258 277.314375 \n",
              "L 288.985258 0 \n",
              "L 0 0 \n",
              "z\n",
              "\" style=\"fill:none;\"/>\n",
              "  </g>\n",
              "  <g id=\"axes_1\">\n",
              "   <g id=\"patch_2\">\n",
              "    <path d=\"M 52.160938 239.758125 \n",
              "L 275.360937 239.758125 \n",
              "L 275.360937 22.318125 \n",
              "L 52.160938 22.318125 \n",
              "z\n",
              "\" style=\"fill:#ffffff;\"/>\n",
              "   </g>\n",
              "   <g id=\"PathCollection_1\">\n",
              "    <defs>\n",
              "     <path d=\"M 0 3 \n",
              "C 0.795609 3 1.55874 2.683901 2.12132 2.12132 \n",
              "C 2.683901 1.55874 3 0.795609 3 0 \n",
              "C 3 -0.795609 2.683901 -1.55874 2.12132 -2.12132 \n",
              "C 1.55874 -2.683901 0.795609 -3 0 -3 \n",
              "C -0.795609 -3 -1.55874 -2.683901 -2.12132 -2.12132 \n",
              "C -2.683901 -1.55874 -3 -0.795609 -3 0 \n",
              "C -3 0.795609 -2.683901 1.55874 -2.12132 2.12132 \n",
              "C -1.55874 2.683901 -0.795609 3 0 3 \n",
              "z\n",
              "\" id=\"m34ab08d8cd\" style=\"stroke:#333333;\"/>\n",
              "    </defs>\n",
              "    <g clip-path=\"url(#p0aca4b1374)\">\n",
              "     <use style=\"fill:#1f77b4;stroke:#333333;\" x=\"96.31168\" xlink:href=\"#m34ab08d8cd\" y=\"193.325344\"/>\n",
              "     <use style=\"fill:#1f77b4;stroke:#333333;\" x=\"232.057657\" xlink:href=\"#m34ab08d8cd\" y=\"62.145049\"/>\n",
              "     <use style=\"fill:#1f77b4;stroke:#333333;\" x=\"258.979442\" xlink:href=\"#m34ab08d8cd\" y=\"63.780462\"/>\n",
              "     <use style=\"fill:#1f77b4;stroke:#333333;\" x=\"108.913368\" xlink:href=\"#m34ab08d8cd\" y=\"204.409578\"/>\n",
              "     <use style=\"fill:#1f77b4;stroke:#333333;\" x=\"101.325808\" xlink:href=\"#m34ab08d8cd\" y=\"205.043015\"/>\n",
              "     <use style=\"fill:#1f77b4;stroke:#333333;\" x=\"70.983454\" xlink:href=\"#m34ab08d8cd\" y=\"189.560429\"/>\n",
              "     <use style=\"fill:#1f77b4;stroke:#333333;\" x=\"242.885541\" xlink:href=\"#m34ab08d8cd\" y=\"58.566133\"/>\n",
              "     <use style=\"fill:#1f77b4;stroke:#333333;\" x=\"232.016709\" xlink:href=\"#m34ab08d8cd\" y=\"51.440521\"/>\n",
              "     <use style=\"fill:#1f77b4;stroke:#333333;\" x=\"93.978943\" xlink:href=\"#m34ab08d8cd\" y=\"204.550687\"/>\n",
              "     <use style=\"fill:#1f77b4;stroke:#333333;\" x=\"237.538974\" xlink:href=\"#m34ab08d8cd\" y=\"53.572047\"/>\n",
              "     <use style=\"fill:#1f77b4;stroke:#333333;\" x=\"103.543109\" xlink:href=\"#m34ab08d8cd\" y=\"200.309835\"/>\n",
              "     <use style=\"fill:#1f77b4;stroke:#333333;\" x=\"255.555098\" xlink:href=\"#m34ab08d8cd\" y=\"32.201761\"/>\n",
              "     <use style=\"fill:#1f77b4;stroke:#333333;\" x=\"238.058002\" xlink:href=\"#m34ab08d8cd\" y=\"62.589723\"/>\n",
              "     <use style=\"fill:#1f77b4;stroke:#333333;\" x=\"232.170061\" xlink:href=\"#m34ab08d8cd\" y=\"57.754453\"/>\n",
              "     <use style=\"fill:#1f77b4;stroke:#333333;\" x=\"94.264177\" xlink:href=\"#m34ab08d8cd\" y=\"212.626168\"/>\n",
              "     <use style=\"fill:#1f77b4;stroke:#333333;\" x=\"89.231835\" xlink:href=\"#m34ab08d8cd\" y=\"185.037671\"/>\n",
              "     <use style=\"fill:#1f77b4;stroke:#333333;\" x=\"251.267421\" xlink:href=\"#m34ab08d8cd\" y=\"90.813692\"/>\n",
              "     <use style=\"fill:#1f77b4;stroke:#333333;\" x=\"254.815479\" xlink:href=\"#m34ab08d8cd\" y=\"83.753102\"/>\n",
              "     <use style=\"fill:#1f77b4;stroke:#333333;\" x=\"226.105337\" xlink:href=\"#m34ab08d8cd\" y=\"59.138235\"/>\n",
              "     <use style=\"fill:#1f77b4;stroke:#333333;\" x=\"82.022892\" xlink:href=\"#m34ab08d8cd\" y=\"209.202243\"/>\n",
              "     <use style=\"fill:#1f77b4;stroke:#333333;\" x=\"253.973129\" xlink:href=\"#m34ab08d8cd\" y=\"32.62492\"/>\n",
              "     <use style=\"fill:#1f77b4;stroke:#333333;\" x=\"245.15091\" xlink:href=\"#m34ab08d8cd\" y=\"59.955798\"/>\n",
              "     <use style=\"fill:#1f77b4;stroke:#333333;\" x=\"114.421987\" xlink:href=\"#m34ab08d8cd\" y=\"175.83743\"/>\n",
              "     <use style=\"fill:#1f77b4;stroke:#333333;\" x=\"228.657784\" xlink:href=\"#m34ab08d8cd\" y=\"32.336249\"/>\n",
              "     <use style=\"fill:#1f77b4;stroke:#333333;\" x=\"99.781014\" xlink:href=\"#m34ab08d8cd\" y=\"194.777215\"/>\n",
              "     <use style=\"fill:#1f77b4;stroke:#333333;\" x=\"227.807175\" xlink:href=\"#m34ab08d8cd\" y=\"51.50491\"/>\n",
              "     <use style=\"fill:#1f77b4;stroke:#333333;\" x=\"86.881354\" xlink:href=\"#m34ab08d8cd\" y=\"179.492748\"/>\n",
              "     <use style=\"fill:#1f77b4;stroke:#333333;\" x=\"250.727063\" xlink:href=\"#m34ab08d8cd\" y=\"48.77409\"/>\n",
              "     <use style=\"fill:#1f77b4;stroke:#333333;\" x=\"246.39628\" xlink:href=\"#m34ab08d8cd\" y=\"61.512745\"/>\n",
              "     <use style=\"fill:#1f77b4;stroke:#333333;\" x=\"240.179519\" xlink:href=\"#m34ab08d8cd\" y=\"43.69401\"/>\n",
              "     <use style=\"fill:#1f77b4;stroke:#333333;\" x=\"92.34098\" xlink:href=\"#m34ab08d8cd\" y=\"184.373252\"/>\n",
              "     <use style=\"fill:#1f77b4;stroke:#333333;\" x=\"104.506115\" xlink:href=\"#m34ab08d8cd\" y=\"209.709719\"/>\n",
              "     <use style=\"fill:#1f77b4;stroke:#333333;\" x=\"87.360439\" xlink:href=\"#m34ab08d8cd\" y=\"169.625602\"/>\n",
              "     <use style=\"fill:#1f77b4;stroke:#333333;\" x=\"97.745486\" xlink:href=\"#m34ab08d8cd\" y=\"201.318829\"/>\n",
              "     <use style=\"fill:#1f77b4;stroke:#333333;\" x=\"112.202457\" xlink:href=\"#m34ab08d8cd\" y=\"200.867622\"/>\n",
              "     <use style=\"fill:#1f77b4;stroke:#333333;\" x=\"93.386735\" xlink:href=\"#m34ab08d8cd\" y=\"195.701852\"/>\n",
              "     <use style=\"fill:#1f77b4;stroke:#333333;\" x=\"112.962408\" xlink:href=\"#m34ab08d8cd\" y=\"212.211753\"/>\n",
              "     <use style=\"fill:#1f77b4;stroke:#333333;\" x=\"213.923524\" xlink:href=\"#m34ab08d8cd\" y=\"39.620323\"/>\n",
              "     <use style=\"fill:#1f77b4;stroke:#333333;\" x=\"253.408944\" xlink:href=\"#m34ab08d8cd\" y=\"64.604829\"/>\n",
              "     <use style=\"fill:#1f77b4;stroke:#333333;\" x=\"238.202599\" xlink:href=\"#m34ab08d8cd\" y=\"63.759786\"/>\n",
              "     <use style=\"fill:#1f77b4;stroke:#333333;\" x=\"93.334759\" xlink:href=\"#m34ab08d8cd\" y=\"205.410605\"/>\n",
              "     <use style=\"fill:#1f77b4;stroke:#333333;\" x=\"222.697015\" xlink:href=\"#m34ab08d8cd\" y=\"89.092646\"/>\n",
              "     <use style=\"fill:#1f77b4;stroke:#333333;\" x=\"246.067518\" xlink:href=\"#m34ab08d8cd\" y=\"56.781365\"/>\n",
              "     <use style=\"fill:#1f77b4;stroke:#333333;\" x=\"97.908356\" xlink:href=\"#m34ab08d8cd\" y=\"212.127081\"/>\n",
              "     <use style=\"fill:#1f77b4;stroke:#333333;\" x=\"110.608912\" xlink:href=\"#m34ab08d8cd\" y=\"217.677792\"/>\n",
              "     <use style=\"fill:#1f77b4;stroke:#333333;\" x=\"119.278606\" xlink:href=\"#m34ab08d8cd\" y=\"177.02797\"/>\n",
              "     <use style=\"fill:#1f77b4;stroke:#333333;\" x=\"229.431275\" xlink:href=\"#m34ab08d8cd\" y=\"71.868079\"/>\n",
              "     <use style=\"fill:#1f77b4;stroke:#333333;\" x=\"217.108023\" xlink:href=\"#m34ab08d8cd\" y=\"44.358713\"/>\n",
              "     <use style=\"fill:#1f77b4;stroke:#333333;\" x=\"90.421001\" xlink:href=\"#m34ab08d8cd\" y=\"205.813556\"/>\n",
              "     <use style=\"fill:#1f77b4;stroke:#333333;\" x=\"230.637614\" xlink:href=\"#m34ab08d8cd\" y=\"68.485687\"/>\n",
              "     <use style=\"fill:#1f77b4;stroke:#333333;\" x=\"98.642521\" xlink:href=\"#m34ab08d8cd\" y=\"201.033344\"/>\n",
              "     <use style=\"fill:#1f77b4;stroke:#333333;\" x=\"242.296554\" xlink:href=\"#m34ab08d8cd\" y=\"33.609264\"/>\n",
              "     <use style=\"fill:#1f77b4;stroke:#333333;\" x=\"95.167044\" xlink:href=\"#m34ab08d8cd\" y=\"188.760034\"/>\n",
              "     <use style=\"fill:#1f77b4;stroke:#333333;\" x=\"227.659933\" xlink:href=\"#m34ab08d8cd\" y=\"76.575953\"/>\n",
              "     <use style=\"fill:#1f77b4;stroke:#333333;\" x=\"239.162594\" xlink:href=\"#m34ab08d8cd\" y=\"47.436505\"/>\n",
              "     <use style=\"fill:#1f77b4;stroke:#333333;\" x=\"70.985535\" xlink:href=\"#m34ab08d8cd\" y=\"190.609003\"/>\n",
              "     <use style=\"fill:#1f77b4;stroke:#333333;\" x=\"216.984682\" xlink:href=\"#m34ab08d8cd\" y=\"47.197067\"/>\n",
              "     <use style=\"fill:#1f77b4;stroke:#333333;\" x=\"247.342435\" xlink:href=\"#m34ab08d8cd\" y=\"65.6149\"/>\n",
              "     <use style=\"fill:#1f77b4;stroke:#333333;\" x=\"82.942512\" xlink:href=\"#m34ab08d8cd\" y=\"196.823089\"/>\n",
              "     <use style=\"fill:#1f77b4;stroke:#333333;\" x=\"94.610207\" xlink:href=\"#m34ab08d8cd\" y=\"229.874489\"/>\n",
              "     <use style=\"fill:#1f77b4;stroke:#333333;\" x=\"94.065144\" xlink:href=\"#m34ab08d8cd\" y=\"199.872245\"/>\n",
              "     <use style=\"fill:#1f77b4;stroke:#333333;\" x=\"75.9265\" xlink:href=\"#m34ab08d8cd\" y=\"200.007537\"/>\n",
              "     <use style=\"fill:#1f77b4;stroke:#333333;\" x=\"261.562131\" xlink:href=\"#m34ab08d8cd\" y=\"65.752612\"/>\n",
              "     <use style=\"fill:#1f77b4;stroke:#333333;\" x=\"227.651459\" xlink:href=\"#m34ab08d8cd\" y=\"73.759575\"/>\n",
              "     <use style=\"fill:#1f77b4;stroke:#333333;\" x=\"253.566025\" xlink:href=\"#m34ab08d8cd\" y=\"39.679857\"/>\n",
              "     <use style=\"fill:#1f77b4;stroke:#333333;\" x=\"76.490724\" xlink:href=\"#m34ab08d8cd\" y=\"185.321057\"/>\n",
              "     <use style=\"fill:#1f77b4;stroke:#333333;\" x=\"238.897525\" xlink:href=\"#m34ab08d8cd\" y=\"82.429587\"/>\n",
              "     <use style=\"fill:#1f77b4;stroke:#333333;\" x=\"249.223089\" xlink:href=\"#m34ab08d8cd\" y=\"89.661589\"/>\n",
              "     <use style=\"fill:#1f77b4;stroke:#333333;\" x=\"118.387936\" xlink:href=\"#m34ab08d8cd\" y=\"218.303568\"/>\n",
              "     <use style=\"fill:#1f77b4;stroke:#333333;\" x=\"108.710707\" xlink:href=\"#m34ab08d8cd\" y=\"207.070547\"/>\n",
              "     <use style=\"fill:#1f77b4;stroke:#333333;\" x=\"94.960359\" xlink:href=\"#m34ab08d8cd\" y=\"190.023846\"/>\n",
              "     <use style=\"fill:#1f77b4;stroke:#333333;\" x=\"95.804305\" xlink:href=\"#m34ab08d8cd\" y=\"187.711556\"/>\n",
              "     <use style=\"fill:#1f77b4;stroke:#333333;\" x=\"239.509346\" xlink:href=\"#m34ab08d8cd\" y=\"53.869424\"/>\n",
              "     <use style=\"fill:#1f77b4;stroke:#333333;\" x=\"226.971018\" xlink:href=\"#m34ab08d8cd\" y=\"88.154106\"/>\n",
              "     <use style=\"fill:#1f77b4;stroke:#333333;\" x=\"94.916859\" xlink:href=\"#m34ab08d8cd\" y=\"195.521558\"/>\n",
              "     <use style=\"fill:#1f77b4;stroke:#333333;\" x=\"106.991269\" xlink:href=\"#m34ab08d8cd\" y=\"186.850471\"/>\n",
              "     <use style=\"fill:#1f77b4;stroke:#333333;\" x=\"108.567957\" xlink:href=\"#m34ab08d8cd\" y=\"194.117803\"/>\n",
              "     <use style=\"fill:#1f77b4;stroke:#333333;\" x=\"239.227411\" xlink:href=\"#m34ab08d8cd\" y=\"37.590473\"/>\n",
              "     <use style=\"fill:#1f77b4;stroke:#333333;\" x=\"238.317384\" xlink:href=\"#m34ab08d8cd\" y=\"35.754283\"/>\n",
              "     <use style=\"fill:#1f77b4;stroke:#333333;\" x=\"96.994499\" xlink:href=\"#m34ab08d8cd\" y=\"208.108344\"/>\n",
              "     <use style=\"fill:#1f77b4;stroke:#333333;\" x=\"250.032038\" xlink:href=\"#m34ab08d8cd\" y=\"37.701594\"/>\n",
              "     <use style=\"fill:#1f77b4;stroke:#333333;\" x=\"232.359401\" xlink:href=\"#m34ab08d8cd\" y=\"72.374698\"/>\n",
              "     <use style=\"fill:#1f77b4;stroke:#333333;\" x=\"248.199716\" xlink:href=\"#m34ab08d8cd\" y=\"33.573869\"/>\n",
              "     <use style=\"fill:#1f77b4;stroke:#333333;\" x=\"88.429047\" xlink:href=\"#m34ab08d8cd\" y=\"192.95304\"/>\n",
              "     <use style=\"fill:#1f77b4;stroke:#333333;\" x=\"234.27057\" xlink:href=\"#m34ab08d8cd\" y=\"47.995435\"/>\n",
              "     <use style=\"fill:#1f77b4;stroke:#333333;\" x=\"98.536004\" xlink:href=\"#m34ab08d8cd\" y=\"212.515425\"/>\n",
              "     <use style=\"fill:#1f77b4;stroke:#333333;\" x=\"107.800107\" xlink:href=\"#m34ab08d8cd\" y=\"204.310706\"/>\n",
              "     <use style=\"fill:#1f77b4;stroke:#333333;\" x=\"87.726796\" xlink:href=\"#m34ab08d8cd\" y=\"191.216589\"/>\n",
              "     <use style=\"fill:#1f77b4;stroke:#333333;\" x=\"212.816998\" xlink:href=\"#m34ab08d8cd\" y=\"53.841351\"/>\n",
              "     <use style=\"fill:#1f77b4;stroke:#333333;\" x=\"225.168168\" xlink:href=\"#m34ab08d8cd\" y=\"47.841136\"/>\n",
              "     <use style=\"fill:#1f77b4;stroke:#333333;\" x=\"202.642744\" xlink:href=\"#m34ab08d8cd\" y=\"44.693113\"/>\n",
              "     <use style=\"fill:#1f77b4;stroke:#333333;\" x=\"86.981531\" xlink:href=\"#m34ab08d8cd\" y=\"191.534849\"/>\n",
              "     <use style=\"fill:#1f77b4;stroke:#333333;\" x=\"116.687423\" xlink:href=\"#m34ab08d8cd\" y=\"206.975146\"/>\n",
              "     <use style=\"fill:#1f77b4;stroke:#333333;\" x=\"91.776781\" xlink:href=\"#m34ab08d8cd\" y=\"209.817871\"/>\n",
              "     <use style=\"fill:#1f77b4;stroke:#333333;\" x=\"225.892096\" xlink:href=\"#m34ab08d8cd\" y=\"90.705434\"/>\n",
              "     <use style=\"fill:#1f77b4;stroke:#333333;\" x=\"102.087238\" xlink:href=\"#m34ab08d8cd\" y=\"195.303274\"/>\n",
              "     <use style=\"fill:#1f77b4;stroke:#333333;\" x=\"94.905243\" xlink:href=\"#m34ab08d8cd\" y=\"189.148117\"/>\n",
              "     <use style=\"fill:#1f77b4;stroke:#333333;\" x=\"89.515988\" xlink:href=\"#m34ab08d8cd\" y=\"200.223394\"/>\n",
              "     <use style=\"fill:#1f77b4;stroke:#333333;\" x=\"99.167164\" xlink:href=\"#m34ab08d8cd\" y=\"208.206126\"/>\n",
              "     <use style=\"fill:#1f77b4;stroke:#333333;\" x=\"211.577945\" xlink:href=\"#m34ab08d8cd\" y=\"57.867977\"/>\n",
              "     <use style=\"fill:#1f77b4;stroke:#333333;\" x=\"220.751413\" xlink:href=\"#m34ab08d8cd\" y=\"41.469595\"/>\n",
              "     <use style=\"fill:#1f77b4;stroke:#333333;\" x=\"72.137778\" xlink:href=\"#m34ab08d8cd\" y=\"214.445482\"/>\n",
              "     <use style=\"fill:#1f77b4;stroke:#333333;\" x=\"235.916363\" xlink:href=\"#m34ab08d8cd\" y=\"80.464924\"/>\n",
              "    </g>\n",
              "   </g>\n",
              "   <g id=\"PathCollection_2\">\n",
              "    <defs>\n",
              "     <path d=\"M 0 3 \n",
              "C 0.795609 3 1.55874 2.683901 2.12132 2.12132 \n",
              "C 2.683901 1.55874 3 0.795609 3 0 \n",
              "C 3 -0.795609 2.683901 -1.55874 2.12132 -2.12132 \n",
              "C 1.55874 -2.683901 0.795609 -3 0 -3 \n",
              "C -0.795609 -3 -1.55874 -2.683901 -2.12132 -2.12132 \n",
              "C -2.683901 -1.55874 -3 -0.795609 -3 0 \n",
              "C -3 0.795609 -2.683901 1.55874 -2.12132 2.12132 \n",
              "C -1.55874 2.683901 -0.795609 3 0 3 \n",
              "z\n",
              "\" id=\"m7d17331941\" style=\"stroke:#333333;\"/>\n",
              "    </defs>\n",
              "    <g clip-path=\"url(#p0aca4b1374)\">\n",
              "     <use style=\"fill:#ff7f0e;stroke:#333333;\" x=\"230.877063\" xlink:href=\"#m7d17331941\" y=\"180.913557\"/>\n",
              "     <use style=\"fill:#ff7f0e;stroke:#333333;\" x=\"243.842427\" xlink:href=\"#m7d17331941\" y=\"181.183986\"/>\n",
              "     <use style=\"fill:#ff7f0e;stroke:#333333;\" x=\"232.017097\" xlink:href=\"#m7d17331941\" y=\"198.932324\"/>\n",
              "     <use style=\"fill:#ff7f0e;stroke:#333333;\" x=\"89.746376\" xlink:href=\"#m7d17331941\" y=\"45.392998\"/>\n",
              "     <use style=\"fill:#ff7f0e;stroke:#333333;\" x=\"250.686437\" xlink:href=\"#m7d17331941\" y=\"201.599728\"/>\n",
              "     <use style=\"fill:#ff7f0e;stroke:#333333;\" x=\"100.400405\" xlink:href=\"#m7d17331941\" y=\"63.553489\"/>\n",
              "     <use style=\"fill:#ff7f0e;stroke:#333333;\" x=\"219.862038\" xlink:href=\"#m7d17331941\" y=\"211.350014\"/>\n",
              "     <use style=\"fill:#ff7f0e;stroke:#333333;\" x=\"130.59866\" xlink:href=\"#m7d17331941\" y=\"59.599027\"/>\n",
              "     <use style=\"fill:#ff7f0e;stroke:#333333;\" x=\"247.536058\" xlink:href=\"#m7d17331941\" y=\"217.196966\"/>\n",
              "     <use style=\"fill:#ff7f0e;stroke:#333333;\" x=\"214.797166\" xlink:href=\"#m7d17331941\" y=\"185.557909\"/>\n",
              "     <use style=\"fill:#ff7f0e;stroke:#333333;\" x=\"229.906907\" xlink:href=\"#m7d17331941\" y=\"173.017888\"/>\n",
              "     <use style=\"fill:#ff7f0e;stroke:#333333;\" x=\"65.731142\" xlink:href=\"#m7d17331941\" y=\"44.566804\"/>\n",
              "     <use style=\"fill:#ff7f0e;stroke:#333333;\" x=\"116.585574\" xlink:href=\"#m7d17331941\" y=\"45.533014\"/>\n",
              "     <use style=\"fill:#ff7f0e;stroke:#333333;\" x=\"96.4775\" xlink:href=\"#m7d17331941\" y=\"76.495825\"/>\n",
              "     <use style=\"fill:#ff7f0e;stroke:#333333;\" x=\"96.788387\" xlink:href=\"#m7d17331941\" y=\"42.091466\"/>\n",
              "     <use style=\"fill:#ff7f0e;stroke:#333333;\" x=\"75.708547\" xlink:href=\"#m7d17331941\" y=\"39.030573\"/>\n",
              "     <use style=\"fill:#ff7f0e;stroke:#333333;\" x=\"233.922057\" xlink:href=\"#m7d17331941\" y=\"201.757218\"/>\n",
              "     <use style=\"fill:#ff7f0e;stroke:#333333;\" x=\"216.28277\" xlink:href=\"#m7d17331941\" y=\"180.766731\"/>\n",
              "     <use style=\"fill:#ff7f0e;stroke:#333333;\" x=\"225.945553\" xlink:href=\"#m7d17331941\" y=\"182.832732\"/>\n",
              "     <use style=\"fill:#ff7f0e;stroke:#333333;\" x=\"107.888844\" xlink:href=\"#m7d17331941\" y=\"59.25904\"/>\n",
              "     <use style=\"fill:#ff7f0e;stroke:#333333;\" x=\"212.266314\" xlink:href=\"#m7d17331941\" y=\"192.147409\"/>\n",
              "     <use style=\"fill:#ff7f0e;stroke:#333333;\" x=\"257.089413\" xlink:href=\"#m7d17331941\" y=\"200.542537\"/>\n",
              "     <use style=\"fill:#ff7f0e;stroke:#333333;\" x=\"248.528097\" xlink:href=\"#m7d17331941\" y=\"198.107913\"/>\n",
              "     <use style=\"fill:#ff7f0e;stroke:#333333;\" x=\"223.275659\" xlink:href=\"#m7d17331941\" y=\"202.11576\"/>\n",
              "     <use style=\"fill:#ff7f0e;stroke:#333333;\" x=\"254.62465\" xlink:href=\"#m7d17331941\" y=\"176.456154\"/>\n",
              "     <use style=\"fill:#ff7f0e;stroke:#333333;\" x=\"83.200733\" xlink:href=\"#m7d17331941\" y=\"70.175377\"/>\n",
              "     <use style=\"fill:#ff7f0e;stroke:#333333;\" x=\"251.724096\" xlink:href=\"#m7d17331941\" y=\"179.390064\"/>\n",
              "     <use style=\"fill:#ff7f0e;stroke:#333333;\" x=\"110.819287\" xlink:href=\"#m7d17331941\" y=\"55.123203\"/>\n",
              "     <use style=\"fill:#ff7f0e;stroke:#333333;\" x=\"232.126351\" xlink:href=\"#m7d17331941\" y=\"178.669064\"/>\n",
              "     <use style=\"fill:#ff7f0e;stroke:#333333;\" x=\"68.497902\" xlink:href=\"#m7d17331941\" y=\"56.973626\"/>\n",
              "     <use style=\"fill:#ff7f0e;stroke:#333333;\" x=\"95.226666\" xlink:href=\"#m7d17331941\" y=\"66.120244\"/>\n",
              "     <use style=\"fill:#ff7f0e;stroke:#333333;\" x=\"223.392974\" xlink:href=\"#m7d17331941\" y=\"208.672634\"/>\n",
              "     <use style=\"fill:#ff7f0e;stroke:#333333;\" x=\"214.945261\" xlink:href=\"#m7d17331941\" y=\"183.133722\"/>\n",
              "     <use style=\"fill:#ff7f0e;stroke:#333333;\" x=\"100.205618\" xlink:href=\"#m7d17331941\" y=\"60.661631\"/>\n",
              "     <use style=\"fill:#ff7f0e;stroke:#333333;\" x=\"244.127174\" xlink:href=\"#m7d17331941\" y=\"183.85959\"/>\n",
              "     <use style=\"fill:#ff7f0e;stroke:#333333;\" x=\"100.782099\" xlink:href=\"#m7d17331941\" y=\"68.534007\"/>\n",
              "     <use style=\"fill:#ff7f0e;stroke:#333333;\" x=\"97.685973\" xlink:href=\"#m7d17331941\" y=\"71.284393\"/>\n",
              "     <use style=\"fill:#ff7f0e;stroke:#333333;\" x=\"261.24119\" xlink:href=\"#m7d17331941\" y=\"209.357586\"/>\n",
              "     <use style=\"fill:#ff7f0e;stroke:#333333;\" x=\"231.536281\" xlink:href=\"#m7d17331941\" y=\"180.074569\"/>\n",
              "     <use style=\"fill:#ff7f0e;stroke:#333333;\" x=\"84.432042\" xlink:href=\"#m7d17331941\" y=\"55.826098\"/>\n",
              "     <use style=\"fill:#ff7f0e;stroke:#333333;\" x=\"114.704427\" xlink:href=\"#m7d17331941\" y=\"57.881371\"/>\n",
              "     <use style=\"fill:#ff7f0e;stroke:#333333;\" x=\"118.139583\" xlink:href=\"#m7d17331941\" y=\"40.282525\"/>\n",
              "     <use style=\"fill:#ff7f0e;stroke:#333333;\" x=\"244.331312\" xlink:href=\"#m7d17331941\" y=\"206.328325\"/>\n",
              "     <use style=\"fill:#ff7f0e;stroke:#333333;\" x=\"84.937455\" xlink:href=\"#m7d17331941\" y=\"59.985039\"/>\n",
              "     <use style=\"fill:#ff7f0e;stroke:#333333;\" x=\"229.111028\" xlink:href=\"#m7d17331941\" y=\"185.254639\"/>\n",
              "     <use style=\"fill:#ff7f0e;stroke:#333333;\" x=\"99.865846\" xlink:href=\"#m7d17331941\" y=\"73.50443\"/>\n",
              "     <use style=\"fill:#ff7f0e;stroke:#333333;\" x=\"107.774522\" xlink:href=\"#m7d17331941\" y=\"50.128195\"/>\n",
              "     <use style=\"fill:#ff7f0e;stroke:#333333;\" x=\"106.681533\" xlink:href=\"#m7d17331941\" y=\"53.57626\"/>\n",
              "     <use style=\"fill:#ff7f0e;stroke:#333333;\" x=\"220.300095\" xlink:href=\"#m7d17331941\" y=\"186.154142\"/>\n",
              "     <use style=\"fill:#ff7f0e;stroke:#333333;\" x=\"84.93114\" xlink:href=\"#m7d17331941\" y=\"77.508109\"/>\n",
              "     <use style=\"fill:#ff7f0e;stroke:#333333;\" x=\"105.491498\" xlink:href=\"#m7d17331941\" y=\"48.161599\"/>\n",
              "     <use style=\"fill:#ff7f0e;stroke:#333333;\" x=\"212.017878\" xlink:href=\"#m7d17331941\" y=\"182.204423\"/>\n",
              "     <use style=\"fill:#ff7f0e;stroke:#333333;\" x=\"238.780524\" xlink:href=\"#m7d17331941\" y=\"210.592034\"/>\n",
              "     <use style=\"fill:#ff7f0e;stroke:#333333;\" x=\"102.920944\" xlink:href=\"#m7d17331941\" y=\"48.671279\"/>\n",
              "     <use style=\"fill:#ff7f0e;stroke:#333333;\" x=\"109.227118\" xlink:href=\"#m7d17331941\" y=\"67.791241\"/>\n",
              "     <use style=\"fill:#ff7f0e;stroke:#333333;\" x=\"218.916511\" xlink:href=\"#m7d17331941\" y=\"195.110735\"/>\n",
              "     <use style=\"fill:#ff7f0e;stroke:#333333;\" x=\"210.412471\" xlink:href=\"#m7d17331941\" y=\"197.807546\"/>\n",
              "     <use style=\"fill:#ff7f0e;stroke:#333333;\" x=\"106.409234\" xlink:href=\"#m7d17331941\" y=\"62.370039\"/>\n",
              "     <use style=\"fill:#ff7f0e;stroke:#333333;\" x=\"62.306392\" xlink:href=\"#m7d17331941\" y=\"69.539331\"/>\n",
              "     <use style=\"fill:#ff7f0e;stroke:#333333;\" x=\"91.834453\" xlink:href=\"#m7d17331941\" y=\"77.469177\"/>\n",
              "     <use style=\"fill:#ff7f0e;stroke:#333333;\" x=\"109.483259\" xlink:href=\"#m7d17331941\" y=\"52.116365\"/>\n",
              "     <use style=\"fill:#ff7f0e;stroke:#333333;\" x=\"87.52736\" xlink:href=\"#m7d17331941\" y=\"63.223243\"/>\n",
              "     <use style=\"fill:#ff7f0e;stroke:#333333;\" x=\"94.034599\" xlink:href=\"#m7d17331941\" y=\"55.768785\"/>\n",
              "     <use style=\"fill:#ff7f0e;stroke:#333333;\" x=\"110.113367\" xlink:href=\"#m7d17331941\" y=\"68.261083\"/>\n",
              "     <use style=\"fill:#ff7f0e;stroke:#333333;\" x=\"257.318305\" xlink:href=\"#m7d17331941\" y=\"202.317721\"/>\n",
              "     <use style=\"fill:#ff7f0e;stroke:#333333;\" x=\"79.762115\" xlink:href=\"#m7d17331941\" y=\"39.847979\"/>\n",
              "     <use style=\"fill:#ff7f0e;stroke:#333333;\" x=\"258.048499\" xlink:href=\"#m7d17331941\" y=\"185.012766\"/>\n",
              "     <use style=\"fill:#ff7f0e;stroke:#333333;\" x=\"244.789162\" xlink:href=\"#m7d17331941\" y=\"171.865302\"/>\n",
              "     <use style=\"fill:#ff7f0e;stroke:#333333;\" x=\"214.47439\" xlink:href=\"#m7d17331941\" y=\"211.299351\"/>\n",
              "     <use style=\"fill:#ff7f0e;stroke:#333333;\" x=\"218.387835\" xlink:href=\"#m7d17331941\" y=\"227.253664\"/>\n",
              "     <use style=\"fill:#ff7f0e;stroke:#333333;\" x=\"98.247032\" xlink:href=\"#m7d17331941\" y=\"41.347367\"/>\n",
              "     <use style=\"fill:#ff7f0e;stroke:#333333;\" x=\"221.09122\" xlink:href=\"#m7d17331941\" y=\"178.959826\"/>\n",
              "     <use style=\"fill:#ff7f0e;stroke:#333333;\" x=\"207.783237\" xlink:href=\"#m7d17331941\" y=\"165.02484\"/>\n",
              "     <use style=\"fill:#ff7f0e;stroke:#333333;\" x=\"84.486389\" xlink:href=\"#m7d17331941\" y=\"47.120304\"/>\n",
              "     <use style=\"fill:#ff7f0e;stroke:#333333;\" x=\"108.320496\" xlink:href=\"#m7d17331941\" y=\"59.847104\"/>\n",
              "     <use style=\"fill:#ff7f0e;stroke:#333333;\" x=\"247.02495\" xlink:href=\"#m7d17331941\" y=\"184.293941\"/>\n",
              "     <use style=\"fill:#ff7f0e;stroke:#333333;\" x=\"92.024123\" xlink:href=\"#m7d17331941\" y=\"51.399993\"/>\n",
              "     <use style=\"fill:#ff7f0e;stroke:#333333;\" x=\"103.976033\" xlink:href=\"#m7d17331941\" y=\"61.578541\"/>\n",
              "     <use style=\"fill:#ff7f0e;stroke:#333333;\" x=\"102.375453\" xlink:href=\"#m7d17331941\" y=\"64.816787\"/>\n",
              "     <use style=\"fill:#ff7f0e;stroke:#333333;\" x=\"230.527021\" xlink:href=\"#m7d17331941\" y=\"177.171327\"/>\n",
              "     <use style=\"fill:#ff7f0e;stroke:#333333;\" x=\"238.484799\" xlink:href=\"#m7d17331941\" y=\"167.950176\"/>\n",
              "     <use style=\"fill:#ff7f0e;stroke:#333333;\" x=\"247.340005\" xlink:href=\"#m7d17331941\" y=\"185.179964\"/>\n",
              "     <use style=\"fill:#ff7f0e;stroke:#333333;\" x=\"134.8086\" xlink:href=\"#m7d17331941\" y=\"59.304711\"/>\n",
              "     <use style=\"fill:#ff7f0e;stroke:#333333;\" x=\"213.726653\" xlink:href=\"#m7d17331941\" y=\"213.578161\"/>\n",
              "     <use style=\"fill:#ff7f0e;stroke:#333333;\" x=\"265.215483\" xlink:href=\"#m7d17331941\" y=\"212.626448\"/>\n",
              "     <use style=\"fill:#ff7f0e;stroke:#333333;\" x=\"226.839442\" xlink:href=\"#m7d17331941\" y=\"209.593202\"/>\n",
              "     <use style=\"fill:#ff7f0e;stroke:#333333;\" x=\"88.454985\" xlink:href=\"#m7d17331941\" y=\"69.802283\"/>\n",
              "     <use style=\"fill:#ff7f0e;stroke:#333333;\" x=\"86.200641\" xlink:href=\"#m7d17331941\" y=\"59.30147\"/>\n",
              "     <use style=\"fill:#ff7f0e;stroke:#333333;\" x=\"249.708568\" xlink:href=\"#m7d17331941\" y=\"212.467168\"/>\n",
              "     <use style=\"fill:#ff7f0e;stroke:#333333;\" x=\"86.639713\" xlink:href=\"#m7d17331941\" y=\"66.734504\"/>\n",
              "     <use style=\"fill:#ff7f0e;stroke:#333333;\" x=\"72.549088\" xlink:href=\"#m7d17331941\" y=\"61.78785\"/>\n",
              "     <use style=\"fill:#ff7f0e;stroke:#333333;\" x=\"116.327234\" xlink:href=\"#m7d17331941\" y=\"48.616483\"/>\n",
              "     <use style=\"fill:#ff7f0e;stroke:#333333;\" x=\"89.624632\" xlink:href=\"#m7d17331941\" y=\"51.591563\"/>\n",
              "     <use style=\"fill:#ff7f0e;stroke:#333333;\" x=\"257.369976\" xlink:href=\"#m7d17331941\" y=\"209.982902\"/>\n",
              "     <use style=\"fill:#ff7f0e;stroke:#333333;\" x=\"209.334228\" xlink:href=\"#m7d17331941\" y=\"191.955712\"/>\n",
              "     <use style=\"fill:#ff7f0e;stroke:#333333;\" x=\"98.138755\" xlink:href=\"#m7d17331941\" y=\"44.566278\"/>\n",
              "     <use style=\"fill:#ff7f0e;stroke:#333333;\" x=\"254.619078\" xlink:href=\"#m7d17331941\" y=\"207.56031\"/>\n",
              "    </g>\n",
              "   </g>\n",
              "   <g id=\"matplotlib.axis_1\">\n",
              "    <g id=\"xtick_1\">\n",
              "     <g id=\"line2d_1\">\n",
              "      <defs>\n",
              "       <path d=\"M 0 0 \n",
              "L 0 3.5 \n",
              "\" id=\"m776cb1d52d\" style=\"stroke:#000000;stroke-width:0.8;\"/>\n",
              "      </defs>\n",
              "      <g>\n",
              "       <use style=\"stroke:#000000;stroke-width:0.8;\" x=\"62.596276\" xlink:href=\"#m776cb1d52d\" y=\"239.758125\"/>\n",
              "      </g>\n",
              "     </g>\n",
              "     <g id=\"text_1\">\n",
              "      <!-- −0.25 -->\n",
              "      <g transform=\"translate(47.27362 254.356562)scale(0.1 -0.1)\">\n",
              "       <defs>\n",
              "        <path d=\"M 678 2272 \n",
              "L 4684 2272 \n",
              "L 4684 1741 \n",
              "L 678 1741 \n",
              "L 678 2272 \n",
              "z\n",
              "\" id=\"DejaVuSans-2212\" transform=\"scale(0.015625)\"/>\n",
              "        <path d=\"M 2034 4250 \n",
              "Q 1547 4250 1301 3770 \n",
              "Q 1056 3291 1056 2328 \n",
              "Q 1056 1369 1301 889 \n",
              "Q 1547 409 2034 409 \n",
              "Q 2525 409 2770 889 \n",
              "Q 3016 1369 3016 2328 \n",
              "Q 3016 3291 2770 3770 \n",
              "Q 2525 4250 2034 4250 \n",
              "z\n",
              "M 2034 4750 \n",
              "Q 2819 4750 3233 4129 \n",
              "Q 3647 3509 3647 2328 \n",
              "Q 3647 1150 3233 529 \n",
              "Q 2819 -91 2034 -91 \n",
              "Q 1250 -91 836 529 \n",
              "Q 422 1150 422 2328 \n",
              "Q 422 3509 836 4129 \n",
              "Q 1250 4750 2034 4750 \n",
              "z\n",
              "\" id=\"DejaVuSans-30\" transform=\"scale(0.015625)\"/>\n",
              "        <path d=\"M 684 794 \n",
              "L 1344 794 \n",
              "L 1344 0 \n",
              "L 684 0 \n",
              "L 684 794 \n",
              "z\n",
              "\" id=\"DejaVuSans-2e\" transform=\"scale(0.015625)\"/>\n",
              "        <path d=\"M 1228 531 \n",
              "L 3431 531 \n",
              "L 3431 0 \n",
              "L 469 0 \n",
              "L 469 531 \n",
              "Q 828 903 1448 1529 \n",
              "Q 2069 2156 2228 2338 \n",
              "Q 2531 2678 2651 2914 \n",
              "Q 2772 3150 2772 3378 \n",
              "Q 2772 3750 2511 3984 \n",
              "Q 2250 4219 1831 4219 \n",
              "Q 1534 4219 1204 4116 \n",
              "Q 875 4013 500 3803 \n",
              "L 500 4441 \n",
              "Q 881 4594 1212 4672 \n",
              "Q 1544 4750 1819 4750 \n",
              "Q 2544 4750 2975 4387 \n",
              "Q 3406 4025 3406 3419 \n",
              "Q 3406 3131 3298 2873 \n",
              "Q 3191 2616 2906 2266 \n",
              "Q 2828 2175 2409 1742 \n",
              "Q 1991 1309 1228 531 \n",
              "z\n",
              "\" id=\"DejaVuSans-32\" transform=\"scale(0.015625)\"/>\n",
              "        <path d=\"M 691 4666 \n",
              "L 3169 4666 \n",
              "L 3169 4134 \n",
              "L 1269 4134 \n",
              "L 1269 2991 \n",
              "Q 1406 3038 1543 3061 \n",
              "Q 1681 3084 1819 3084 \n",
              "Q 2600 3084 3056 2656 \n",
              "Q 3513 2228 3513 1497 \n",
              "Q 3513 744 3044 326 \n",
              "Q 2575 -91 1722 -91 \n",
              "Q 1428 -91 1123 -41 \n",
              "Q 819 9 494 109 \n",
              "L 494 744 \n",
              "Q 775 591 1075 516 \n",
              "Q 1375 441 1709 441 \n",
              "Q 2250 441 2565 725 \n",
              "Q 2881 1009 2881 1497 \n",
              "Q 2881 1984 2565 2268 \n",
              "Q 2250 2553 1709 2553 \n",
              "Q 1456 2553 1204 2497 \n",
              "Q 953 2441 691 2322 \n",
              "L 691 4666 \n",
              "z\n",
              "\" id=\"DejaVuSans-35\" transform=\"scale(0.015625)\"/>\n",
              "       </defs>\n",
              "       <use xlink:href=\"#DejaVuSans-2212\"/>\n",
              "       <use x=\"83.789062\" xlink:href=\"#DejaVuSans-30\"/>\n",
              "       <use x=\"147.412109\" xlink:href=\"#DejaVuSans-2e\"/>\n",
              "       <use x=\"179.199219\" xlink:href=\"#DejaVuSans-32\"/>\n",
              "       <use x=\"242.822266\" xlink:href=\"#DejaVuSans-35\"/>\n",
              "      </g>\n",
              "     </g>\n",
              "    </g>\n",
              "    <g id=\"xtick_2\">\n",
              "     <g id=\"line2d_2\">\n",
              "      <g>\n",
              "       <use style=\"stroke:#000000;stroke-width:0.8;\" x=\"97.272305\" xlink:href=\"#m776cb1d52d\" y=\"239.758125\"/>\n",
              "      </g>\n",
              "     </g>\n",
              "     <g id=\"text_2\">\n",
              "      <!-- 0.00 -->\n",
              "      <g transform=\"translate(86.139492 254.356562)scale(0.1 -0.1)\">\n",
              "       <use xlink:href=\"#DejaVuSans-30\"/>\n",
              "       <use x=\"63.623047\" xlink:href=\"#DejaVuSans-2e\"/>\n",
              "       <use x=\"95.410156\" xlink:href=\"#DejaVuSans-30\"/>\n",
              "       <use x=\"159.033203\" xlink:href=\"#DejaVuSans-30\"/>\n",
              "      </g>\n",
              "     </g>\n",
              "    </g>\n",
              "    <g id=\"xtick_3\">\n",
              "     <g id=\"line2d_3\">\n",
              "      <g>\n",
              "       <use style=\"stroke:#000000;stroke-width:0.8;\" x=\"131.948333\" xlink:href=\"#m776cb1d52d\" y=\"239.758125\"/>\n",
              "      </g>\n",
              "     </g>\n",
              "     <g id=\"text_3\">\n",
              "      <!-- 0.25 -->\n",
              "      <g transform=\"translate(120.81552 254.356562)scale(0.1 -0.1)\">\n",
              "       <use xlink:href=\"#DejaVuSans-30\"/>\n",
              "       <use x=\"63.623047\" xlink:href=\"#DejaVuSans-2e\"/>\n",
              "       <use x=\"95.410156\" xlink:href=\"#DejaVuSans-32\"/>\n",
              "       <use x=\"159.033203\" xlink:href=\"#DejaVuSans-35\"/>\n",
              "      </g>\n",
              "     </g>\n",
              "    </g>\n",
              "    <g id=\"xtick_4\">\n",
              "     <g id=\"line2d_4\">\n",
              "      <g>\n",
              "       <use style=\"stroke:#000000;stroke-width:0.8;\" x=\"166.624361\" xlink:href=\"#m776cb1d52d\" y=\"239.758125\"/>\n",
              "      </g>\n",
              "     </g>\n",
              "     <g id=\"text_4\">\n",
              "      <!-- 0.50 -->\n",
              "      <g transform=\"translate(155.491548 254.356562)scale(0.1 -0.1)\">\n",
              "       <use xlink:href=\"#DejaVuSans-30\"/>\n",
              "       <use x=\"63.623047\" xlink:href=\"#DejaVuSans-2e\"/>\n",
              "       <use x=\"95.410156\" xlink:href=\"#DejaVuSans-35\"/>\n",
              "       <use x=\"159.033203\" xlink:href=\"#DejaVuSans-30\"/>\n",
              "      </g>\n",
              "     </g>\n",
              "    </g>\n",
              "    <g id=\"xtick_5\">\n",
              "     <g id=\"line2d_5\">\n",
              "      <g>\n",
              "       <use style=\"stroke:#000000;stroke-width:0.8;\" x=\"201.300389\" xlink:href=\"#m776cb1d52d\" y=\"239.758125\"/>\n",
              "      </g>\n",
              "     </g>\n",
              "     <g id=\"text_5\">\n",
              "      <!-- 0.75 -->\n",
              "      <g transform=\"translate(190.167577 254.356562)scale(0.1 -0.1)\">\n",
              "       <defs>\n",
              "        <path d=\"M 525 4666 \n",
              "L 3525 4666 \n",
              "L 3525 4397 \n",
              "L 1831 0 \n",
              "L 1172 0 \n",
              "L 2766 4134 \n",
              "L 525 4134 \n",
              "L 525 4666 \n",
              "z\n",
              "\" id=\"DejaVuSans-37\" transform=\"scale(0.015625)\"/>\n",
              "       </defs>\n",
              "       <use xlink:href=\"#DejaVuSans-30\"/>\n",
              "       <use x=\"63.623047\" xlink:href=\"#DejaVuSans-2e\"/>\n",
              "       <use x=\"95.410156\" xlink:href=\"#DejaVuSans-37\"/>\n",
              "       <use x=\"159.033203\" xlink:href=\"#DejaVuSans-35\"/>\n",
              "      </g>\n",
              "     </g>\n",
              "    </g>\n",
              "    <g id=\"xtick_6\">\n",
              "     <g id=\"line2d_6\">\n",
              "      <g>\n",
              "       <use style=\"stroke:#000000;stroke-width:0.8;\" x=\"235.976417\" xlink:href=\"#m776cb1d52d\" y=\"239.758125\"/>\n",
              "      </g>\n",
              "     </g>\n",
              "     <g id=\"text_6\">\n",
              "      <!-- 1.00 -->\n",
              "      <g transform=\"translate(224.843605 254.356562)scale(0.1 -0.1)\">\n",
              "       <defs>\n",
              "        <path d=\"M 794 531 \n",
              "L 1825 531 \n",
              "L 1825 4091 \n",
              "L 703 3866 \n",
              "L 703 4441 \n",
              "L 1819 4666 \n",
              "L 2450 4666 \n",
              "L 2450 531 \n",
              "L 3481 531 \n",
              "L 3481 0 \n",
              "L 794 0 \n",
              "L 794 531 \n",
              "z\n",
              "\" id=\"DejaVuSans-31\" transform=\"scale(0.015625)\"/>\n",
              "       </defs>\n",
              "       <use xlink:href=\"#DejaVuSans-31\"/>\n",
              "       <use x=\"63.623047\" xlink:href=\"#DejaVuSans-2e\"/>\n",
              "       <use x=\"95.410156\" xlink:href=\"#DejaVuSans-30\"/>\n",
              "       <use x=\"159.033203\" xlink:href=\"#DejaVuSans-30\"/>\n",
              "      </g>\n",
              "     </g>\n",
              "    </g>\n",
              "    <g id=\"xtick_7\">\n",
              "     <g id=\"line2d_7\">\n",
              "      <g>\n",
              "       <use style=\"stroke:#000000;stroke-width:0.8;\" x=\"270.652446\" xlink:href=\"#m776cb1d52d\" y=\"239.758125\"/>\n",
              "      </g>\n",
              "     </g>\n",
              "     <g id=\"text_7\">\n",
              "      <!-- 1.25 -->\n",
              "      <g transform=\"translate(259.519633 254.356562)scale(0.1 -0.1)\">\n",
              "       <use xlink:href=\"#DejaVuSans-31\"/>\n",
              "       <use x=\"63.623047\" xlink:href=\"#DejaVuSans-2e\"/>\n",
              "       <use x=\"95.410156\" xlink:href=\"#DejaVuSans-32\"/>\n",
              "       <use x=\"159.033203\" xlink:href=\"#DejaVuSans-35\"/>\n",
              "      </g>\n",
              "     </g>\n",
              "    </g>\n",
              "    <g id=\"text_8\">\n",
              "     <!-- $x_1$ -->\n",
              "     <g transform=\"translate(158.410938 268.034687)scale(0.1 -0.1)\">\n",
              "      <defs>\n",
              "       <path d=\"M 3841 3500 \n",
              "L 2234 1784 \n",
              "L 3219 0 \n",
              "L 2559 0 \n",
              "L 1819 1388 \n",
              "L 531 0 \n",
              "L -166 0 \n",
              "L 1556 1844 \n",
              "L 641 3500 \n",
              "L 1300 3500 \n",
              "L 1972 2234 \n",
              "L 3144 3500 \n",
              "L 3841 3500 \n",
              "z\n",
              "\" id=\"DejaVuSans-Oblique-78\" transform=\"scale(0.015625)\"/>\n",
              "      </defs>\n",
              "      <use transform=\"translate(0 0.3125)\" xlink:href=\"#DejaVuSans-Oblique-78\"/>\n",
              "      <use transform=\"translate(59.179688 -16.09375)scale(0.7)\" xlink:href=\"#DejaVuSans-31\"/>\n",
              "     </g>\n",
              "    </g>\n",
              "   </g>\n",
              "   <g id=\"matplotlib.axis_2\">\n",
              "    <g id=\"ytick_1\">\n",
              "     <g id=\"line2d_8\">\n",
              "      <defs>\n",
              "       <path d=\"M 0 0 \n",
              "L -3.5 0 \n",
              "\" id=\"m1c1870356a\" style=\"stroke:#000000;stroke-width:0.8;\"/>\n",
              "      </defs>\n",
              "      <g>\n",
              "       <use style=\"stroke:#000000;stroke-width:0.8;\" x=\"52.160938\" xlink:href=\"#m1c1870356a\" y=\"223.94267\"/>\n",
              "      </g>\n",
              "     </g>\n",
              "     <g id=\"text_9\">\n",
              "      <!-- −0.2 -->\n",
              "      <g transform=\"translate(20.878125 227.741889)scale(0.1 -0.1)\">\n",
              "       <use xlink:href=\"#DejaVuSans-2212\"/>\n",
              "       <use x=\"83.789062\" xlink:href=\"#DejaVuSans-30\"/>\n",
              "       <use x=\"147.412109\" xlink:href=\"#DejaVuSans-2e\"/>\n",
              "       <use x=\"179.199219\" xlink:href=\"#DejaVuSans-32\"/>\n",
              "      </g>\n",
              "     </g>\n",
              "    </g>\n",
              "    <g id=\"ytick_2\">\n",
              "     <g id=\"line2d_9\">\n",
              "      <g>\n",
              "       <use style=\"stroke:#000000;stroke-width:0.8;\" x=\"52.160938\" xlink:href=\"#m1c1870356a\" y=\"196.335617\"/>\n",
              "      </g>\n",
              "     </g>\n",
              "     <g id=\"text_10\">\n",
              "      <!-- 0.0 -->\n",
              "      <g transform=\"translate(29.257812 200.134836)scale(0.1 -0.1)\">\n",
              "       <use xlink:href=\"#DejaVuSans-30\"/>\n",
              "       <use x=\"63.623047\" xlink:href=\"#DejaVuSans-2e\"/>\n",
              "       <use x=\"95.410156\" xlink:href=\"#DejaVuSans-30\"/>\n",
              "      </g>\n",
              "     </g>\n",
              "    </g>\n",
              "    <g id=\"ytick_3\">\n",
              "     <g id=\"line2d_10\">\n",
              "      <g>\n",
              "       <use style=\"stroke:#000000;stroke-width:0.8;\" x=\"52.160938\" xlink:href=\"#m1c1870356a\" y=\"168.728564\"/>\n",
              "      </g>\n",
              "     </g>\n",
              "     <g id=\"text_11\">\n",
              "      <!-- 0.2 -->\n",
              "      <g transform=\"translate(29.257812 172.527783)scale(0.1 -0.1)\">\n",
              "       <use xlink:href=\"#DejaVuSans-30\"/>\n",
              "       <use x=\"63.623047\" xlink:href=\"#DejaVuSans-2e\"/>\n",
              "       <use x=\"95.410156\" xlink:href=\"#DejaVuSans-32\"/>\n",
              "      </g>\n",
              "     </g>\n",
              "    </g>\n",
              "    <g id=\"ytick_4\">\n",
              "     <g id=\"line2d_11\">\n",
              "      <g>\n",
              "       <use style=\"stroke:#000000;stroke-width:0.8;\" x=\"52.160938\" xlink:href=\"#m1c1870356a\" y=\"141.12151\"/>\n",
              "      </g>\n",
              "     </g>\n",
              "     <g id=\"text_12\">\n",
              "      <!-- 0.4 -->\n",
              "      <g transform=\"translate(29.257812 144.920729)scale(0.1 -0.1)\">\n",
              "       <defs>\n",
              "        <path d=\"M 2419 4116 \n",
              "L 825 1625 \n",
              "L 2419 1625 \n",
              "L 2419 4116 \n",
              "z\n",
              "M 2253 4666 \n",
              "L 3047 4666 \n",
              "L 3047 1625 \n",
              "L 3713 1625 \n",
              "L 3713 1100 \n",
              "L 3047 1100 \n",
              "L 3047 0 \n",
              "L 2419 0 \n",
              "L 2419 1100 \n",
              "L 313 1100 \n",
              "L 313 1709 \n",
              "L 2253 4666 \n",
              "z\n",
              "\" id=\"DejaVuSans-34\" transform=\"scale(0.015625)\"/>\n",
              "       </defs>\n",
              "       <use xlink:href=\"#DejaVuSans-30\"/>\n",
              "       <use x=\"63.623047\" xlink:href=\"#DejaVuSans-2e\"/>\n",
              "       <use x=\"95.410156\" xlink:href=\"#DejaVuSans-34\"/>\n",
              "      </g>\n",
              "     </g>\n",
              "    </g>\n",
              "    <g id=\"ytick_5\">\n",
              "     <g id=\"line2d_12\">\n",
              "      <g>\n",
              "       <use style=\"stroke:#000000;stroke-width:0.8;\" x=\"52.160938\" xlink:href=\"#m1c1870356a\" y=\"113.514457\"/>\n",
              "      </g>\n",
              "     </g>\n",
              "     <g id=\"text_13\">\n",
              "      <!-- 0.6 -->\n",
              "      <g transform=\"translate(29.257812 117.313676)scale(0.1 -0.1)\">\n",
              "       <defs>\n",
              "        <path d=\"M 2113 2584 \n",
              "Q 1688 2584 1439 2293 \n",
              "Q 1191 2003 1191 1497 \n",
              "Q 1191 994 1439 701 \n",
              "Q 1688 409 2113 409 \n",
              "Q 2538 409 2786 701 \n",
              "Q 3034 994 3034 1497 \n",
              "Q 3034 2003 2786 2293 \n",
              "Q 2538 2584 2113 2584 \n",
              "z\n",
              "M 3366 4563 \n",
              "L 3366 3988 \n",
              "Q 3128 4100 2886 4159 \n",
              "Q 2644 4219 2406 4219 \n",
              "Q 1781 4219 1451 3797 \n",
              "Q 1122 3375 1075 2522 \n",
              "Q 1259 2794 1537 2939 \n",
              "Q 1816 3084 2150 3084 \n",
              "Q 2853 3084 3261 2657 \n",
              "Q 3669 2231 3669 1497 \n",
              "Q 3669 778 3244 343 \n",
              "Q 2819 -91 2113 -91 \n",
              "Q 1303 -91 875 529 \n",
              "Q 447 1150 447 2328 \n",
              "Q 447 3434 972 4092 \n",
              "Q 1497 4750 2381 4750 \n",
              "Q 2619 4750 2861 4703 \n",
              "Q 3103 4656 3366 4563 \n",
              "z\n",
              "\" id=\"DejaVuSans-36\" transform=\"scale(0.015625)\"/>\n",
              "       </defs>\n",
              "       <use xlink:href=\"#DejaVuSans-30\"/>\n",
              "       <use x=\"63.623047\" xlink:href=\"#DejaVuSans-2e\"/>\n",
              "       <use x=\"95.410156\" xlink:href=\"#DejaVuSans-36\"/>\n",
              "      </g>\n",
              "     </g>\n",
              "    </g>\n",
              "    <g id=\"ytick_6\">\n",
              "     <g id=\"line2d_13\">\n",
              "      <g>\n",
              "       <use style=\"stroke:#000000;stroke-width:0.8;\" x=\"52.160938\" xlink:href=\"#m1c1870356a\" y=\"85.907404\"/>\n",
              "      </g>\n",
              "     </g>\n",
              "     <g id=\"text_14\">\n",
              "      <!-- 0.8 -->\n",
              "      <g transform=\"translate(29.257812 89.706623)scale(0.1 -0.1)\">\n",
              "       <defs>\n",
              "        <path d=\"M 2034 2216 \n",
              "Q 1584 2216 1326 1975 \n",
              "Q 1069 1734 1069 1313 \n",
              "Q 1069 891 1326 650 \n",
              "Q 1584 409 2034 409 \n",
              "Q 2484 409 2743 651 \n",
              "Q 3003 894 3003 1313 \n",
              "Q 3003 1734 2745 1975 \n",
              "Q 2488 2216 2034 2216 \n",
              "z\n",
              "M 1403 2484 \n",
              "Q 997 2584 770 2862 \n",
              "Q 544 3141 544 3541 \n",
              "Q 544 4100 942 4425 \n",
              "Q 1341 4750 2034 4750 \n",
              "Q 2731 4750 3128 4425 \n",
              "Q 3525 4100 3525 3541 \n",
              "Q 3525 3141 3298 2862 \n",
              "Q 3072 2584 2669 2484 \n",
              "Q 3125 2378 3379 2068 \n",
              "Q 3634 1759 3634 1313 \n",
              "Q 3634 634 3220 271 \n",
              "Q 2806 -91 2034 -91 \n",
              "Q 1263 -91 848 271 \n",
              "Q 434 634 434 1313 \n",
              "Q 434 1759 690 2068 \n",
              "Q 947 2378 1403 2484 \n",
              "z\n",
              "M 1172 3481 \n",
              "Q 1172 3119 1398 2916 \n",
              "Q 1625 2713 2034 2713 \n",
              "Q 2441 2713 2670 2916 \n",
              "Q 2900 3119 2900 3481 \n",
              "Q 2900 3844 2670 4047 \n",
              "Q 2441 4250 2034 4250 \n",
              "Q 1625 4250 1398 4047 \n",
              "Q 1172 3844 1172 3481 \n",
              "z\n",
              "\" id=\"DejaVuSans-38\" transform=\"scale(0.015625)\"/>\n",
              "       </defs>\n",
              "       <use xlink:href=\"#DejaVuSans-30\"/>\n",
              "       <use x=\"63.623047\" xlink:href=\"#DejaVuSans-2e\"/>\n",
              "       <use x=\"95.410156\" xlink:href=\"#DejaVuSans-38\"/>\n",
              "      </g>\n",
              "     </g>\n",
              "    </g>\n",
              "    <g id=\"ytick_7\">\n",
              "     <g id=\"line2d_14\">\n",
              "      <g>\n",
              "       <use style=\"stroke:#000000;stroke-width:0.8;\" x=\"52.160938\" xlink:href=\"#m1c1870356a\" y=\"58.300351\"/>\n",
              "      </g>\n",
              "     </g>\n",
              "     <g id=\"text_15\">\n",
              "      <!-- 1.0 -->\n",
              "      <g transform=\"translate(29.257812 62.099569)scale(0.1 -0.1)\">\n",
              "       <use xlink:href=\"#DejaVuSans-31\"/>\n",
              "       <use x=\"63.623047\" xlink:href=\"#DejaVuSans-2e\"/>\n",
              "       <use x=\"95.410156\" xlink:href=\"#DejaVuSans-30\"/>\n",
              "      </g>\n",
              "     </g>\n",
              "    </g>\n",
              "    <g id=\"ytick_8\">\n",
              "     <g id=\"line2d_15\">\n",
              "      <g>\n",
              "       <use style=\"stroke:#000000;stroke-width:0.8;\" x=\"52.160938\" xlink:href=\"#m1c1870356a\" y=\"30.693297\"/>\n",
              "      </g>\n",
              "     </g>\n",
              "     <g id=\"text_16\">\n",
              "      <!-- 1.2 -->\n",
              "      <g transform=\"translate(29.257812 34.492516)scale(0.1 -0.1)\">\n",
              "       <use xlink:href=\"#DejaVuSans-31\"/>\n",
              "       <use x=\"63.623047\" xlink:href=\"#DejaVuSans-2e\"/>\n",
              "       <use x=\"95.410156\" xlink:href=\"#DejaVuSans-32\"/>\n",
              "      </g>\n",
              "     </g>\n",
              "    </g>\n",
              "    <g id=\"text_17\">\n",
              "     <!-- $x_2$ -->\n",
              "     <g transform=\"translate(14.798438 136.388125)rotate(-90)scale(0.1 -0.1)\">\n",
              "      <use transform=\"translate(0 0.3125)\" xlink:href=\"#DejaVuSans-Oblique-78\"/>\n",
              "      <use transform=\"translate(59.179688 -16.09375)scale(0.7)\" xlink:href=\"#DejaVuSans-32\"/>\n",
              "     </g>\n",
              "    </g>\n",
              "   </g>\n",
              "   <g id=\"patch_3\">\n",
              "    <path d=\"M 52.160938 239.758125 \n",
              "L 52.160938 22.318125 \n",
              "\" style=\"fill:none;stroke:#000000;stroke-linecap:square;stroke-linejoin:miter;stroke-width:0.8;\"/>\n",
              "   </g>\n",
              "   <g id=\"patch_4\">\n",
              "    <path d=\"M 275.360937 239.758125 \n",
              "L 275.360937 22.318125 \n",
              "\" style=\"fill:none;stroke:#000000;stroke-linecap:square;stroke-linejoin:miter;stroke-width:0.8;\"/>\n",
              "   </g>\n",
              "   <g id=\"patch_5\">\n",
              "    <path d=\"M 52.160937 239.758125 \n",
              "L 275.360937 239.758125 \n",
              "\" style=\"fill:none;stroke:#000000;stroke-linecap:square;stroke-linejoin:miter;stroke-width:0.8;\"/>\n",
              "   </g>\n",
              "   <g id=\"patch_6\">\n",
              "    <path d=\"M 52.160937 22.318125 \n",
              "L 275.360937 22.318125 \n",
              "\" style=\"fill:none;stroke:#000000;stroke-linecap:square;stroke-linejoin:miter;stroke-width:0.8;\"/>\n",
              "   </g>\n",
              "   <g id=\"text_18\">\n",
              "    <!-- Dataset samples -->\n",
              "    <g transform=\"translate(113.418125 16.318125)scale(0.12 -0.12)\">\n",
              "     <defs>\n",
              "      <path d=\"M 1259 4147 \n",
              "L 1259 519 \n",
              "L 2022 519 \n",
              "Q 2988 519 3436 956 \n",
              "Q 3884 1394 3884 2338 \n",
              "Q 3884 3275 3436 3711 \n",
              "Q 2988 4147 2022 4147 \n",
              "L 1259 4147 \n",
              "z\n",
              "M 628 4666 \n",
              "L 1925 4666 \n",
              "Q 3281 4666 3915 4102 \n",
              "Q 4550 3538 4550 2338 \n",
              "Q 4550 1131 3912 565 \n",
              "Q 3275 0 1925 0 \n",
              "L 628 0 \n",
              "L 628 4666 \n",
              "z\n",
              "\" id=\"DejaVuSans-44\" transform=\"scale(0.015625)\"/>\n",
              "      <path d=\"M 2194 1759 \n",
              "Q 1497 1759 1228 1600 \n",
              "Q 959 1441 959 1056 \n",
              "Q 959 750 1161 570 \n",
              "Q 1363 391 1709 391 \n",
              "Q 2188 391 2477 730 \n",
              "Q 2766 1069 2766 1631 \n",
              "L 2766 1759 \n",
              "L 2194 1759 \n",
              "z\n",
              "M 3341 1997 \n",
              "L 3341 0 \n",
              "L 2766 0 \n",
              "L 2766 531 \n",
              "Q 2569 213 2275 61 \n",
              "Q 1981 -91 1556 -91 \n",
              "Q 1019 -91 701 211 \n",
              "Q 384 513 384 1019 \n",
              "Q 384 1609 779 1909 \n",
              "Q 1175 2209 1959 2209 \n",
              "L 2766 2209 \n",
              "L 2766 2266 \n",
              "Q 2766 2663 2505 2880 \n",
              "Q 2244 3097 1772 3097 \n",
              "Q 1472 3097 1187 3025 \n",
              "Q 903 2953 641 2809 \n",
              "L 641 3341 \n",
              "Q 956 3463 1253 3523 \n",
              "Q 1550 3584 1831 3584 \n",
              "Q 2591 3584 2966 3190 \n",
              "Q 3341 2797 3341 1997 \n",
              "z\n",
              "\" id=\"DejaVuSans-61\" transform=\"scale(0.015625)\"/>\n",
              "      <path d=\"M 1172 4494 \n",
              "L 1172 3500 \n",
              "L 2356 3500 \n",
              "L 2356 3053 \n",
              "L 1172 3053 \n",
              "L 1172 1153 \n",
              "Q 1172 725 1289 603 \n",
              "Q 1406 481 1766 481 \n",
              "L 2356 481 \n",
              "L 2356 0 \n",
              "L 1766 0 \n",
              "Q 1100 0 847 248 \n",
              "Q 594 497 594 1153 \n",
              "L 594 3053 \n",
              "L 172 3053 \n",
              "L 172 3500 \n",
              "L 594 3500 \n",
              "L 594 4494 \n",
              "L 1172 4494 \n",
              "z\n",
              "\" id=\"DejaVuSans-74\" transform=\"scale(0.015625)\"/>\n",
              "      <path d=\"M 2834 3397 \n",
              "L 2834 2853 \n",
              "Q 2591 2978 2328 3040 \n",
              "Q 2066 3103 1784 3103 \n",
              "Q 1356 3103 1142 2972 \n",
              "Q 928 2841 928 2578 \n",
              "Q 928 2378 1081 2264 \n",
              "Q 1234 2150 1697 2047 \n",
              "L 1894 2003 \n",
              "Q 2506 1872 2764 1633 \n",
              "Q 3022 1394 3022 966 \n",
              "Q 3022 478 2636 193 \n",
              "Q 2250 -91 1575 -91 \n",
              "Q 1294 -91 989 -36 \n",
              "Q 684 19 347 128 \n",
              "L 347 722 \n",
              "Q 666 556 975 473 \n",
              "Q 1284 391 1588 391 \n",
              "Q 1994 391 2212 530 \n",
              "Q 2431 669 2431 922 \n",
              "Q 2431 1156 2273 1281 \n",
              "Q 2116 1406 1581 1522 \n",
              "L 1381 1569 \n",
              "Q 847 1681 609 1914 \n",
              "Q 372 2147 372 2553 \n",
              "Q 372 3047 722 3315 \n",
              "Q 1072 3584 1716 3584 \n",
              "Q 2034 3584 2315 3537 \n",
              "Q 2597 3491 2834 3397 \n",
              "z\n",
              "\" id=\"DejaVuSans-73\" transform=\"scale(0.015625)\"/>\n",
              "      <path d=\"M 3597 1894 \n",
              "L 3597 1613 \n",
              "L 953 1613 \n",
              "Q 991 1019 1311 708 \n",
              "Q 1631 397 2203 397 \n",
              "Q 2534 397 2845 478 \n",
              "Q 3156 559 3463 722 \n",
              "L 3463 178 \n",
              "Q 3153 47 2828 -22 \n",
              "Q 2503 -91 2169 -91 \n",
              "Q 1331 -91 842 396 \n",
              "Q 353 884 353 1716 \n",
              "Q 353 2575 817 3079 \n",
              "Q 1281 3584 2069 3584 \n",
              "Q 2775 3584 3186 3129 \n",
              "Q 3597 2675 3597 1894 \n",
              "z\n",
              "M 3022 2063 \n",
              "Q 3016 2534 2758 2815 \n",
              "Q 2500 3097 2075 3097 \n",
              "Q 1594 3097 1305 2825 \n",
              "Q 1016 2553 972 2059 \n",
              "L 3022 2063 \n",
              "z\n",
              "\" id=\"DejaVuSans-65\" transform=\"scale(0.015625)\"/>\n",
              "      <path id=\"DejaVuSans-20\" transform=\"scale(0.015625)\"/>\n",
              "      <path d=\"M 3328 2828 \n",
              "Q 3544 3216 3844 3400 \n",
              "Q 4144 3584 4550 3584 \n",
              "Q 5097 3584 5394 3201 \n",
              "Q 5691 2819 5691 2113 \n",
              "L 5691 0 \n",
              "L 5113 0 \n",
              "L 5113 2094 \n",
              "Q 5113 2597 4934 2840 \n",
              "Q 4756 3084 4391 3084 \n",
              "Q 3944 3084 3684 2787 \n",
              "Q 3425 2491 3425 1978 \n",
              "L 3425 0 \n",
              "L 2847 0 \n",
              "L 2847 2094 \n",
              "Q 2847 2600 2669 2842 \n",
              "Q 2491 3084 2119 3084 \n",
              "Q 1678 3084 1418 2786 \n",
              "Q 1159 2488 1159 1978 \n",
              "L 1159 0 \n",
              "L 581 0 \n",
              "L 581 3500 \n",
              "L 1159 3500 \n",
              "L 1159 2956 \n",
              "Q 1356 3278 1631 3431 \n",
              "Q 1906 3584 2284 3584 \n",
              "Q 2666 3584 2933 3390 \n",
              "Q 3200 3197 3328 2828 \n",
              "z\n",
              "\" id=\"DejaVuSans-6d\" transform=\"scale(0.015625)\"/>\n",
              "      <path d=\"M 1159 525 \n",
              "L 1159 -1331 \n",
              "L 581 -1331 \n",
              "L 581 3500 \n",
              "L 1159 3500 \n",
              "L 1159 2969 \n",
              "Q 1341 3281 1617 3432 \n",
              "Q 1894 3584 2278 3584 \n",
              "Q 2916 3584 3314 3078 \n",
              "Q 3713 2572 3713 1747 \n",
              "Q 3713 922 3314 415 \n",
              "Q 2916 -91 2278 -91 \n",
              "Q 1894 -91 1617 61 \n",
              "Q 1341 213 1159 525 \n",
              "z\n",
              "M 3116 1747 \n",
              "Q 3116 2381 2855 2742 \n",
              "Q 2594 3103 2138 3103 \n",
              "Q 1681 3103 1420 2742 \n",
              "Q 1159 2381 1159 1747 \n",
              "Q 1159 1113 1420 752 \n",
              "Q 1681 391 2138 391 \n",
              "Q 2594 391 2855 752 \n",
              "Q 3116 1113 3116 1747 \n",
              "z\n",
              "\" id=\"DejaVuSans-70\" transform=\"scale(0.015625)\"/>\n",
              "      <path d=\"M 603 4863 \n",
              "L 1178 4863 \n",
              "L 1178 0 \n",
              "L 603 0 \n",
              "L 603 4863 \n",
              "z\n",
              "\" id=\"DejaVuSans-6c\" transform=\"scale(0.015625)\"/>\n",
              "     </defs>\n",
              "     <use xlink:href=\"#DejaVuSans-44\"/>\n",
              "     <use x=\"77.001953\" xlink:href=\"#DejaVuSans-61\"/>\n",
              "     <use x=\"138.28125\" xlink:href=\"#DejaVuSans-74\"/>\n",
              "     <use x=\"177.490234\" xlink:href=\"#DejaVuSans-61\"/>\n",
              "     <use x=\"238.769531\" xlink:href=\"#DejaVuSans-73\"/>\n",
              "     <use x=\"290.869141\" xlink:href=\"#DejaVuSans-65\"/>\n",
              "     <use x=\"352.392578\" xlink:href=\"#DejaVuSans-74\"/>\n",
              "     <use x=\"391.601562\" xlink:href=\"#DejaVuSans-20\"/>\n",
              "     <use x=\"423.388672\" xlink:href=\"#DejaVuSans-73\"/>\n",
              "     <use x=\"475.488281\" xlink:href=\"#DejaVuSans-61\"/>\n",
              "     <use x=\"536.767578\" xlink:href=\"#DejaVuSans-6d\"/>\n",
              "     <use x=\"634.179688\" xlink:href=\"#DejaVuSans-70\"/>\n",
              "     <use x=\"697.65625\" xlink:href=\"#DejaVuSans-6c\"/>\n",
              "     <use x=\"725.439453\" xlink:href=\"#DejaVuSans-65\"/>\n",
              "     <use x=\"786.962891\" xlink:href=\"#DejaVuSans-73\"/>\n",
              "    </g>\n",
              "   </g>\n",
              "   <g id=\"legend_1\">\n",
              "    <g id=\"patch_7\">\n",
              "     <path d=\"M 200.5125 147.21625 \n",
              "L 268.360937 147.21625 \n",
              "Q 270.360937 147.21625 270.360937 145.21625 \n",
              "L 270.360937 116.86 \n",
              "Q 270.360937 114.86 268.360937 114.86 \n",
              "L 200.5125 114.86 \n",
              "Q 198.5125 114.86 198.5125 116.86 \n",
              "L 198.5125 145.21625 \n",
              "Q 198.5125 147.21625 200.5125 147.21625 \n",
              "z\n",
              "\" style=\"fill:#ffffff;opacity:0.8;stroke:#cccccc;stroke-linejoin:miter;\"/>\n",
              "    </g>\n",
              "    <g id=\"PathCollection_3\">\n",
              "     <g>\n",
              "      <use style=\"fill:#1f77b4;stroke:#333333;\" x=\"212.5125\" xlink:href=\"#m34ab08d8cd\" y=\"123.833437\"/>\n",
              "     </g>\n",
              "    </g>\n",
              "    <g id=\"text_19\">\n",
              "     <!-- Class 0 -->\n",
              "     <g transform=\"translate(230.5125 126.458437)scale(0.1 -0.1)\">\n",
              "      <defs>\n",
              "       <path d=\"M 4122 4306 \n",
              "L 4122 3641 \n",
              "Q 3803 3938 3442 4084 \n",
              "Q 3081 4231 2675 4231 \n",
              "Q 1875 4231 1450 3742 \n",
              "Q 1025 3253 1025 2328 \n",
              "Q 1025 1406 1450 917 \n",
              "Q 1875 428 2675 428 \n",
              "Q 3081 428 3442 575 \n",
              "Q 3803 722 4122 1019 \n",
              "L 4122 359 \n",
              "Q 3791 134 3420 21 \n",
              "Q 3050 -91 2638 -91 \n",
              "Q 1578 -91 968 557 \n",
              "Q 359 1206 359 2328 \n",
              "Q 359 3453 968 4101 \n",
              "Q 1578 4750 2638 4750 \n",
              "Q 3056 4750 3426 4639 \n",
              "Q 3797 4528 4122 4306 \n",
              "z\n",
              "\" id=\"DejaVuSans-43\" transform=\"scale(0.015625)\"/>\n",
              "      </defs>\n",
              "      <use xlink:href=\"#DejaVuSans-43\"/>\n",
              "      <use x=\"69.824219\" xlink:href=\"#DejaVuSans-6c\"/>\n",
              "      <use x=\"97.607422\" xlink:href=\"#DejaVuSans-61\"/>\n",
              "      <use x=\"158.886719\" xlink:href=\"#DejaVuSans-73\"/>\n",
              "      <use x=\"210.986328\" xlink:href=\"#DejaVuSans-73\"/>\n",
              "      <use x=\"263.085938\" xlink:href=\"#DejaVuSans-20\"/>\n",
              "      <use x=\"294.873047\" xlink:href=\"#DejaVuSans-30\"/>\n",
              "     </g>\n",
              "    </g>\n",
              "    <g id=\"PathCollection_4\">\n",
              "     <g>\n",
              "      <use style=\"fill:#ff7f0e;stroke:#333333;\" x=\"212.5125\" xlink:href=\"#m7d17331941\" y=\"138.511562\"/>\n",
              "     </g>\n",
              "    </g>\n",
              "    <g id=\"text_20\">\n",
              "     <!-- Class 1 -->\n",
              "     <g transform=\"translate(230.5125 141.136562)scale(0.1 -0.1)\">\n",
              "      <use xlink:href=\"#DejaVuSans-43\"/>\n",
              "      <use x=\"69.824219\" xlink:href=\"#DejaVuSans-6c\"/>\n",
              "      <use x=\"97.607422\" xlink:href=\"#DejaVuSans-61\"/>\n",
              "      <use x=\"158.886719\" xlink:href=\"#DejaVuSans-73\"/>\n",
              "      <use x=\"210.986328\" xlink:href=\"#DejaVuSans-73\"/>\n",
              "      <use x=\"263.085938\" xlink:href=\"#DejaVuSans-20\"/>\n",
              "      <use x=\"294.873047\" xlink:href=\"#DejaVuSans-31\"/>\n",
              "     </g>\n",
              "    </g>\n",
              "   </g>\n",
              "  </g>\n",
              " </g>\n",
              " <defs>\n",
              "  <clipPath id=\"p0aca4b1374\">\n",
              "   <rect height=\"217.44\" width=\"223.2\" x=\"52.160938\" y=\"22.318125\"/>\n",
              "  </clipPath>\n",
              " </defs>\n",
              "</svg>\n"
            ],
            "text/plain": [
              "<Figure size 288x288 with 1 Axes>"
            ]
          },
          "metadata": {
            "needs_background": "light"
          },
          "output_type": "display_data"
        }
      ]
    },
    {
      "cell_type": "markdown",
      "metadata": {
        "papermill": {
          "duration": 0.069271,
          "end_time": "2021-09-16T12:33:00.064326",
          "exception": false,
          "start_time": "2021-09-16T12:32:59.995055",
          "status": "completed"
        },
        "tags": [],
        "id": "b8baab8e"
      },
      "source": [
        "#### The data loader class\n",
        "\n",
        "The class `torch.utils.data.DataLoader` represents a Python iterable over a dataset with support for automatic batching, multi-process data loading and many more features.\n",
        "The data loader communicates with the dataset using the function `__getitem__`, and stacks its outputs as tensors over the first dimension to form a batch.\n",
        "In contrast to the dataset class, we usually don't have to define our own data loader class, but can just create an object of it with the dataset as input.\n",
        "Additionally, we can configure our data loader with the following input arguments (only a selection, see full list [here](https://pytorch.org/docs/stable/data.html#torch.utils.data.DataLoader)):\n",
        "\n",
        "* `batch_size`: Number of samples to stack per batch\n",
        "* `shuffle`: If True, the data is returned in a random order.\n",
        "This is important during training for introducing stochasticity.\n",
        "* `num_workers`: Number of subprocesses to use for data loading.\n",
        "The default, 0, means that the data will be loaded in the main process which can slow down training for datasets where loading a data point takes a considerable amount of time (e.g. large images).\n",
        "More workers are recommended for those, but can cause issues on Windows computers.\n",
        "For tiny datasets as ours, 0 workers are usually faster.\n",
        "* `pin_memory`: If True, the data loader will copy Tensors into CUDA pinned memory before returning them.\n",
        "This can save some time for large data points on GPUs.\n",
        "Usually a good practice to use for a training set, but not necessarily for validation and test to save memory on the GPU.\n",
        "* `drop_last`: If True, the last batch is dropped in case it is smaller than the specified batch size.\n",
        "This occurs when the dataset size is not a multiple of the batch size.\n",
        "Only potentially helpful during training to keep a consistent batch size.\n",
        "\n",
        "Let's create a simple data loader below:"
      ],
      "id": "b8baab8e"
    },
    {
      "cell_type": "code",
      "metadata": {
        "execution": {
          "iopub.execute_input": "2021-09-16T12:33:00.214548Z",
          "iopub.status.busy": "2021-09-16T12:33:00.214081Z",
          "iopub.status.idle": "2021-09-16T12:33:00.217620Z",
          "shell.execute_reply": "2021-09-16T12:33:00.217155Z"
        },
        "papermill": {
          "duration": 0.094527,
          "end_time": "2021-09-16T12:33:00.217739",
          "exception": false,
          "start_time": "2021-09-16T12:33:00.123212",
          "status": "completed"
        },
        "tags": [],
        "id": "8641d26c"
      },
      "source": [
        "data_loader = data.DataLoader(dataset, batch_size=8, shuffle=True)"
      ],
      "id": "8641d26c",
      "execution_count": null,
      "outputs": []
    },
    {
      "cell_type": "code",
      "metadata": {
        "execution": {
          "iopub.execute_input": "2021-09-16T12:33:00.334680Z",
          "iopub.status.busy": "2021-09-16T12:33:00.334204Z",
          "iopub.status.idle": "2021-09-16T12:33:00.339109Z",
          "shell.execute_reply": "2021-09-16T12:33:00.338644Z"
        },
        "papermill": {
          "duration": 0.063837,
          "end_time": "2021-09-16T12:33:00.339208",
          "exception": false,
          "start_time": "2021-09-16T12:33:00.275371",
          "status": "completed"
        },
        "tags": [],
        "id": "5a119351",
        "outputId": "ac0a3133-3cfd-45cd-c035-a08a14adf48e"
      },
      "source": [
        "# next(iter(...)) catches the first batch of the data loader\n",
        "# If shuffle is True, this will return a different batch every time we run this cell\n",
        "# For iterating over the whole dataset, we can simple use \"for batch in data_loader: ...\"\n",
        "data_inputs, data_labels = next(iter(data_loader))\n",
        "\n",
        "# The shape of the outputs are [batch_size, d_1,...,d_N] where d_1,...,d_N are the\n",
        "# dimensions of the data point returned from the dataset class\n",
        "print(\"Data inputs\", data_inputs.shape, \"\\n\", data_inputs)\n",
        "print(\"Data labels\", data_labels.shape, \"\\n\", data_labels)"
      ],
      "id": "5a119351",
      "execution_count": null,
      "outputs": [
        {
          "name": "stdout",
          "output_type": "stream",
          "text": [
            "Data inputs torch.Size([8, 2]) \n",
            " tensor([[ 1.2108, -0.1180],\n",
            "        [-0.1895,  0.0415],\n",
            "        [ 1.1542, -0.0989],\n",
            "        [ 1.1135,  0.1228],\n",
            "        [-0.0280,  0.0046],\n",
            "        [-0.0378,  1.0500],\n",
            "        [-0.0636,  0.9167],\n",
            "        [-0.0392,  0.8611]])\n",
            "Data labels torch.Size([8]) \n",
            " tensor([1, 0, 1, 1, 0, 1, 1, 1])\n"
          ]
        }
      ]
    },
    {
      "cell_type": "markdown",
      "metadata": {
        "papermill": {
          "duration": 0.056177,
          "end_time": "2021-09-16T12:33:00.451414",
          "exception": false,
          "start_time": "2021-09-16T12:33:00.395237",
          "status": "completed"
        },
        "tags": [],
        "id": "e0dc65f2"
      },
      "source": [
        "### Optimization\n",
        "\n",
        "After defining the model and the dataset, it is time to prepare the optimization of the model.\n",
        "During training, we will perform the following steps:\n",
        "\n",
        "1. Get a batch from the data loader\n",
        "2. Obtain the predictions from the model for the batch\n",
        "3. Calculate the loss based on the difference between predictions and labels\n",
        "4. Backpropagation: calculate the gradients for every parameter with respect to the loss\n",
        "5. Update the parameters of the model in the direction of the gradients\n",
        "\n",
        "We have seen how we can do step 1, 2 and 4 in PyTorch. Now, we will look at step 3 and 5."
      ],
      "id": "e0dc65f2"
    },
    {
      "cell_type": "markdown",
      "metadata": {
        "papermill": {
          "duration": 0.059693,
          "end_time": "2021-09-16T12:33:00.567796",
          "exception": false,
          "start_time": "2021-09-16T12:33:00.508103",
          "status": "completed"
        },
        "tags": [],
        "id": "8385c05e"
      },
      "source": [
        "#### Loss modules\n",
        "\n",
        "We can calculate the loss for a batch by simply performing a few tensor operations as those are automatically added to the computation graph.\n",
        "For instance, for binary classification, we can use Binary Cross Entropy (BCE) which is defined as follows:\n",
        "\n",
        "$$\\mathcal{L}_{BCE} = -\\sum_i \\left[ y_i \\log x_i + (1 - y_i) \\log (1 - x_i) \\right]$$\n",
        "\n",
        "where $y$ are our labels, and $x$ our predictions, both in the range of $[0,1]$.\n",
        "However, PyTorch already provides a list of predefined loss functions which we can use (see [here](https://pytorch.org/docs/stable/nn.html#loss-functions) for a full list).\n",
        "For instance, for BCE, PyTorch has two modules: `nn.BCELoss()`, `nn.BCEWithLogitsLoss()`.\n",
        "While `nn.BCELoss` expects the inputs $x$ to be in the range $[0,1]$, i.e. the output of a sigmoid, `nn.BCEWithLogitsLoss` combines a sigmoid layer and the BCE loss in a single class.\n",
        "This version is numerically more stable than using a plain Sigmoid followed by a BCE loss because of the logarithms applied in the loss function.\n",
        "Hence, it is adviced to use loss functions applied on \"logits\" where possible (remember to not apply a sigmoid on the output of the model in this case!).\n",
        "For our model defined above, we therefore use the module `nn.BCEWithLogitsLoss`."
      ],
      "id": "8385c05e"
    },
    {
      "cell_type": "code",
      "metadata": {
        "execution": {
          "iopub.execute_input": "2021-09-16T12:33:00.684490Z",
          "iopub.status.busy": "2021-09-16T12:33:00.683973Z",
          "iopub.status.idle": "2021-09-16T12:33:00.686124Z",
          "shell.execute_reply": "2021-09-16T12:33:00.685712Z"
        },
        "papermill": {
          "duration": 0.061359,
          "end_time": "2021-09-16T12:33:00.686225",
          "exception": false,
          "start_time": "2021-09-16T12:33:00.624866",
          "status": "completed"
        },
        "tags": [],
        "id": "72102e7a"
      },
      "source": [
        "loss_module = nn.BCEWithLogitsLoss()"
      ],
      "id": "72102e7a",
      "execution_count": null,
      "outputs": []
    },
    {
      "cell_type": "markdown",
      "metadata": {
        "papermill": {
          "duration": 0.056071,
          "end_time": "2021-09-16T12:33:00.801022",
          "exception": false,
          "start_time": "2021-09-16T12:33:00.744951",
          "status": "completed"
        },
        "tags": [],
        "id": "00874cba"
      },
      "source": [
        "#### Stochastic Gradient Descent\n",
        "\n",
        "For updating the parameters, PyTorch provides the package `torch.optim` that has most popular optimizers implemented.\n",
        "We will discuss the specific optimizers and their differences later in the course, but will for now use the simplest of them: `torch.optim.SGD`.\n",
        "Stochastic Gradient Descent updates parameters by multiplying the gradients with a small constant, called learning rate, and subtracting those from the parameters (hence minimizing the loss).\n",
        "Therefore, we slowly move towards the direction of minimizing the loss.\n",
        "A good default value of the learning rate for a small network as ours is 0.1."
      ],
      "id": "00874cba"
    },
    {
      "cell_type": "code",
      "metadata": {
        "execution": {
          "iopub.execute_input": "2021-09-16T12:33:00.917260Z",
          "iopub.status.busy": "2021-09-16T12:33:00.916796Z",
          "iopub.status.idle": "2021-09-16T12:33:00.918881Z",
          "shell.execute_reply": "2021-09-16T12:33:00.918420Z"
        },
        "papermill": {
          "duration": 0.061061,
          "end_time": "2021-09-16T12:33:00.918979",
          "exception": false,
          "start_time": "2021-09-16T12:33:00.857918",
          "status": "completed"
        },
        "tags": [],
        "id": "3fde9ac7"
      },
      "source": [
        "# Input to the optimizer are the parameters of the model: model.parameters()\n",
        "optimizer = torch.optim.SGD(model.parameters(), lr=0.1)"
      ],
      "id": "3fde9ac7",
      "execution_count": null,
      "outputs": []
    },
    {
      "cell_type": "markdown",
      "metadata": {
        "papermill": {
          "duration": 0.057881,
          "end_time": "2021-09-16T12:33:01.033356",
          "exception": false,
          "start_time": "2021-09-16T12:33:00.975475",
          "status": "completed"
        },
        "tags": [],
        "id": "cf05359f"
      },
      "source": [
        "The optimizer provides two useful functions: `optimizer.step()`, and `optimizer.zero_grad()`.\n",
        "The step function updates the parameters based on the gradients as explained above.\n",
        "The function `optimizer.zero_grad()` sets the gradients of all parameters to zero.\n",
        "While this function seems less relevant at first, it is a crucial pre-step before performing backpropagation.\n",
        "If we would call the `backward` function on the loss while the parameter gradients are non-zero from the previous batch, the new gradients would actually be added to the previous ones instead of overwriting them.\n",
        "This is done because a parameter might occur multiple times in a computation graph, and we need to sum the gradients in this case instead of replacing them.\n",
        "Hence, remember to call `optimizer.zero_grad()` before calculating the gradients of a batch."
      ],
      "id": "cf05359f"
    },
    {
      "cell_type": "markdown",
      "metadata": {
        "papermill": {
          "duration": 0.056592,
          "end_time": "2021-09-16T12:33:01.149423",
          "exception": false,
          "start_time": "2021-09-16T12:33:01.092831",
          "status": "completed"
        },
        "tags": [],
        "id": "f5744461"
      },
      "source": [
        "### Training\n",
        "\n",
        "Finally, we are ready to train our model.\n",
        "As a first step, we create a slightly larger dataset and specify a data loader with a larger batch size."
      ],
      "id": "f5744461"
    },
    {
      "cell_type": "code",
      "metadata": {
        "execution": {
          "iopub.execute_input": "2021-09-16T12:33:01.267375Z",
          "iopub.status.busy": "2021-09-16T12:33:01.266909Z",
          "iopub.status.idle": "2021-09-16T12:33:01.268980Z",
          "shell.execute_reply": "2021-09-16T12:33:01.269359Z"
        },
        "papermill": {
          "duration": 0.063516,
          "end_time": "2021-09-16T12:33:01.269475",
          "exception": false,
          "start_time": "2021-09-16T12:33:01.205959",
          "status": "completed"
        },
        "tags": [],
        "id": "d1b7f9c1"
      },
      "source": [
        "train_dataset = XORDataset(size=1000)\n",
        "train_data_loader = data.DataLoader(train_dataset, batch_size=128, shuffle=True)"
      ],
      "id": "d1b7f9c1",
      "execution_count": null,
      "outputs": []
    },
    {
      "cell_type": "markdown",
      "metadata": {
        "papermill": {
          "duration": 0.056307,
          "end_time": "2021-09-16T12:33:01.382623",
          "exception": false,
          "start_time": "2021-09-16T12:33:01.326316",
          "status": "completed"
        },
        "tags": [],
        "id": "efee300f"
      },
      "source": [
        "Now, we can write a small training function.\n",
        "Remember our five steps: load a batch, obtain the predictions, calculate the loss, backpropagate, and update.\n",
        "Additionally, we have to push all data and model parameters to the device of our choice (GPU if available).\n",
        "For the tiny neural network we have, communicating the data to the GPU actually takes much more time than we could save from running the operation on GPU.\n",
        "For large networks, the communication time is significantly smaller than the actual runtime making a GPU crucial in these cases.\n",
        "Still, to practice, we will push the data to GPU here."
      ],
      "id": "efee300f"
    },
    {
      "cell_type": "code",
      "metadata": {
        "execution": {
          "iopub.execute_input": "2021-09-16T12:33:01.498773Z",
          "iopub.status.busy": "2021-09-16T12:33:01.498306Z",
          "iopub.status.idle": "2021-09-16T12:33:01.501891Z",
          "shell.execute_reply": "2021-09-16T12:33:01.501403Z"
        },
        "papermill": {
          "duration": 0.062907,
          "end_time": "2021-09-16T12:33:01.501989",
          "exception": false,
          "start_time": "2021-09-16T12:33:01.439082",
          "status": "completed"
        },
        "tags": [],
        "id": "c08b3e3e",
        "outputId": "aa854b75-adec-4b15-af86-b9537268b21c"
      },
      "source": [
        "# Push model to device. Has to be only done once\n",
        "model.to(device)"
      ],
      "id": "c08b3e3e",
      "execution_count": null,
      "outputs": [
        {
          "data": {
            "text/plain": [
              "SimpleClassifier(\n",
              "  (linear1): Linear(in_features=2, out_features=4, bias=True)\n",
              "  (act_fn): Tanh()\n",
              "  (linear2): Linear(in_features=4, out_features=1, bias=True)\n",
              ")"
            ]
          },
          "execution_count": 48,
          "metadata": {},
          "output_type": "execute_result"
        }
      ]
    },
    {
      "cell_type": "markdown",
      "metadata": {
        "lines_to_next_cell": 2,
        "papermill": {
          "duration": 0.058857,
          "end_time": "2021-09-16T12:33:01.617784",
          "exception": false,
          "start_time": "2021-09-16T12:33:01.558927",
          "status": "completed"
        },
        "tags": [],
        "id": "a07afbc8"
      },
      "source": [
        "In addition, we set our model to training mode.\n",
        "This is done by calling `model.train()`.\n",
        "There exist certain modules that need to perform a different forward\n",
        "step during training than during testing (e.g. BatchNorm and Dropout),\n",
        "and we can switch between them using `model.train()` and `model.eval()`."
      ],
      "id": "a07afbc8"
    },
    {
      "cell_type": "code",
      "metadata": {
        "execution": {
          "iopub.execute_input": "2021-09-16T12:33:01.738599Z",
          "iopub.status.busy": "2021-09-16T12:33:01.737571Z",
          "iopub.status.idle": "2021-09-16T12:33:01.739548Z",
          "shell.execute_reply": "2021-09-16T12:33:01.739099Z"
        },
        "papermill": {
          "duration": 0.065058,
          "end_time": "2021-09-16T12:33:01.739646",
          "exception": false,
          "start_time": "2021-09-16T12:33:01.674588",
          "status": "completed"
        },
        "tags": [],
        "id": "6633a5fc"
      },
      "source": [
        "def train_model(model, optimizer, data_loader, loss_module, num_epochs=100):\n",
        "    # Set model to train mode\n",
        "    model.train()\n",
        "\n",
        "    # Training loop\n",
        "    for epoch in tqdm(range(num_epochs)):\n",
        "        for data_inputs, data_labels in data_loader:\n",
        "\n",
        "            # Step 1: Move input data to device (only strictly necessary if we use GPU)\n",
        "            data_inputs = data_inputs.to(device)\n",
        "            data_labels = data_labels.to(device)\n",
        "\n",
        "            # Step 2: Run the model on the input data\n",
        "            preds = model(data_inputs)\n",
        "            preds = preds.squeeze(dim=1)  # Output is [Batch size, 1], but we want [Batch size]\n",
        "\n",
        "            # Step 3: Calculate the loss\n",
        "            loss = loss_module(preds, data_labels.float())\n",
        "\n",
        "            # Step 4: Perform backpropagation\n",
        "            # Before calculating the gradients, we need to ensure that they are all zero.\n",
        "            # The gradients would not be overwritten, but actually added to the existing ones.\n",
        "            optimizer.zero_grad()\n",
        "            # Perform backpropagation\n",
        "            loss.backward()\n",
        "\n",
        "            # Step 5: Update the parameters\n",
        "            optimizer.step()"
      ],
      "id": "6633a5fc",
      "execution_count": null,
      "outputs": []
    },
    {
      "cell_type": "code",
      "metadata": {
        "execution": {
          "iopub.execute_input": "2021-09-16T12:33:01.857296Z",
          "iopub.status.busy": "2021-09-16T12:33:01.856831Z",
          "iopub.status.idle": "2021-09-16T12:33:03.289262Z",
          "shell.execute_reply": "2021-09-16T12:33:03.288844Z"
        },
        "papermill": {
          "duration": 1.492924,
          "end_time": "2021-09-16T12:33:03.289376",
          "exception": false,
          "start_time": "2021-09-16T12:33:01.796452",
          "status": "completed"
        },
        "tags": [],
        "id": "34a34a0a",
        "outputId": "d9e6e9f5-e86a-4164-f565-4ea4f92c5bb4"
      },
      "source": [
        "train_model(model, optimizer, train_data_loader, loss_module)"
      ],
      "id": "34a34a0a",
      "execution_count": null,
      "outputs": [
        {
          "data": {
            "application/vnd.jupyter.widget-view+json": {
              "model_id": "8bfec2a0ce3e474ebac953f8e7415f83",
              "version_major": 2,
              "version_minor": 0
            },
            "text/plain": [
              "  0%|          | 0/100 [00:00<?, ?it/s]"
            ]
          },
          "metadata": {},
          "output_type": "display_data"
        }
      ]
    },
    {
      "cell_type": "markdown",
      "metadata": {
        "papermill": {
          "duration": 0.061623,
          "end_time": "2021-09-16T12:33:03.411850",
          "exception": false,
          "start_time": "2021-09-16T12:33:03.350227",
          "status": "completed"
        },
        "tags": [],
        "id": "5384b7fb"
      },
      "source": [
        "#### Saving a model\n",
        "\n",
        "After finish training a model, we save the model to disk so that we can load the same weights at a later time.\n",
        "For this, we extract the so-called `state_dict` from the model which contains all learnable parameters.\n",
        "For our simple model, the state dict contains the following entries:"
      ],
      "id": "5384b7fb"
    },
    {
      "cell_type": "code",
      "metadata": {
        "execution": {
          "iopub.execute_input": "2021-09-16T12:33:03.529067Z",
          "iopub.status.busy": "2021-09-16T12:33:03.527960Z",
          "iopub.status.idle": "2021-09-16T12:33:03.535175Z",
          "shell.execute_reply": "2021-09-16T12:33:03.534712Z"
        },
        "papermill": {
          "duration": 0.066185,
          "end_time": "2021-09-16T12:33:03.535277",
          "exception": false,
          "start_time": "2021-09-16T12:33:03.469092",
          "status": "completed"
        },
        "tags": [],
        "id": "32f70c2d",
        "outputId": "5394fd01-1c2f-44e9-f81e-a86983e758f1"
      },
      "source": [
        "state_dict = model.state_dict()\n",
        "print(state_dict)"
      ],
      "id": "32f70c2d",
      "execution_count": null,
      "outputs": [
        {
          "name": "stdout",
          "output_type": "stream",
          "text": [
            "OrderedDict([('linear1.weight', tensor([[-2.0670, -2.2975],\n",
            "        [ 1.2786, -1.8345],\n",
            "        [-1.4951, -0.5205],\n",
            "        [-0.6117, -0.7444]], device='cuda:0')), ('linear1.bias', tensor([ 0.7173, -0.8690,  1.3082, -0.2268], device='cuda:0')), ('linear2.weight', tensor([[-2.6062,  1.9208,  2.1200, -0.2700]], device='cuda:0')), ('linear2.bias', tensor([-0.9445], device='cuda:0'))])\n"
          ]
        }
      ]
    },
    {
      "cell_type": "markdown",
      "metadata": {
        "papermill": {
          "duration": 0.057617,
          "end_time": "2021-09-16T12:33:03.650878",
          "exception": false,
          "start_time": "2021-09-16T12:33:03.593261",
          "status": "completed"
        },
        "tags": [],
        "id": "31776293"
      },
      "source": [
        "To save the state dictionary, we can use `torch.save`:"
      ],
      "id": "31776293"
    },
    {
      "cell_type": "code",
      "metadata": {
        "execution": {
          "iopub.execute_input": "2021-09-16T12:33:03.771706Z",
          "iopub.status.busy": "2021-09-16T12:33:03.771226Z",
          "iopub.status.idle": "2021-09-16T12:33:03.774943Z",
          "shell.execute_reply": "2021-09-16T12:33:03.774533Z"
        },
        "papermill": {
          "duration": 0.06682,
          "end_time": "2021-09-16T12:33:03.775057",
          "exception": false,
          "start_time": "2021-09-16T12:33:03.708237",
          "status": "completed"
        },
        "tags": [],
        "id": "884c535b"
      },
      "source": [
        "# torch.save(object, filename). For the filename, any extension can be used\n",
        "torch.save(state_dict, \"our_model.tar\")"
      ],
      "id": "884c535b",
      "execution_count": null,
      "outputs": []
    },
    {
      "cell_type": "markdown",
      "metadata": {
        "papermill": {
          "duration": 0.059451,
          "end_time": "2021-09-16T12:33:03.897902",
          "exception": false,
          "start_time": "2021-09-16T12:33:03.838451",
          "status": "completed"
        },
        "tags": [],
        "id": "e72305ba"
      },
      "source": [
        "To load a model from a state dict, we use the function `torch.load` to\n",
        "load the state dict from the disk, and the module function\n",
        "`load_state_dict` to overwrite our parameters with the new values:"
      ],
      "id": "e72305ba"
    },
    {
      "cell_type": "code",
      "metadata": {
        "execution": {
          "iopub.execute_input": "2021-09-16T12:33:04.017272Z",
          "iopub.status.busy": "2021-09-16T12:33:04.016798Z",
          "iopub.status.idle": "2021-09-16T12:33:04.026285Z",
          "shell.execute_reply": "2021-09-16T12:33:04.025821Z"
        },
        "papermill": {
          "duration": 0.070753,
          "end_time": "2021-09-16T12:33:04.026388",
          "exception": false,
          "start_time": "2021-09-16T12:33:03.955635",
          "status": "completed"
        },
        "tags": [],
        "id": "f7bd5172",
        "outputId": "e703ccca-ccf2-4e60-ae58-ef4ce359ca95"
      },
      "source": [
        "# Load state dict from the disk (make sure it is the same name as above)\n",
        "state_dict = torch.load(\"our_model.tar\")\n",
        "\n",
        "# Create a new model and load the state\n",
        "new_model = SimpleClassifier(num_inputs=2, num_hidden=4, num_outputs=1)\n",
        "new_model.load_state_dict(state_dict)\n",
        "\n",
        "# Verify that the parameters are the same\n",
        "print(\"Original model\\n\", model.state_dict())\n",
        "print(\"\\nLoaded model\\n\", new_model.state_dict())"
      ],
      "id": "f7bd5172",
      "execution_count": null,
      "outputs": [
        {
          "name": "stdout",
          "output_type": "stream",
          "text": [
            "Original model\n",
            " OrderedDict([('linear1.weight', tensor([[-2.0670, -2.2975],\n",
            "        [ 1.2786, -1.8345],\n",
            "        [-1.4951, -0.5205],\n",
            "        [-0.6117, -0.7444]], device='cuda:0')), ('linear1.bias', tensor([ 0.7173, -0.8690,  1.3082, -0.2268], device='cuda:0')), ('linear2.weight', tensor([[-2.6062,  1.9208,  2.1200, -0.2700]], device='cuda:0')), ('linear2.bias', tensor([-0.9445], device='cuda:0'))])\n",
            "\n",
            "Loaded model\n",
            " OrderedDict([('linear1.weight', tensor([[-2.0670, -2.2975],\n",
            "        [ 1.2786, -1.8345],\n",
            "        [-1.4951, -0.5205],\n",
            "        [-0.6117, -0.7444]])), ('linear1.bias', tensor([ 0.7173, -0.8690,  1.3082, -0.2268])), ('linear2.weight', tensor([[-2.6062,  1.9208,  2.1200, -0.2700]])), ('linear2.bias', tensor([-0.9445]))])\n"
          ]
        }
      ]
    },
    {
      "cell_type": "markdown",
      "metadata": {
        "papermill": {
          "duration": 0.057606,
          "end_time": "2021-09-16T12:33:04.142452",
          "exception": false,
          "start_time": "2021-09-16T12:33:04.084846",
          "status": "completed"
        },
        "tags": [],
        "id": "bd86cef7"
      },
      "source": [
        "A detailed tutorial on saving and loading models in PyTorch can be found\n",
        "[here](https://pytorch.org/tutorials/beginner/saving_loading_models.html)."
      ],
      "id": "bd86cef7"
    },
    {
      "cell_type": "markdown",
      "metadata": {
        "papermill": {
          "duration": 0.057666,
          "end_time": "2021-09-16T12:33:04.257844",
          "exception": false,
          "start_time": "2021-09-16T12:33:04.200178",
          "status": "completed"
        },
        "tags": [],
        "id": "80104ef8"
      },
      "source": [
        "### Evaluation\n",
        "\n",
        "Once we have trained a model, it is time to evaluate it on a held-out test set.\n",
        "As our dataset consist of randomly generated data points, we need to\n",
        "first create a test set with a corresponding data loader."
      ],
      "id": "80104ef8"
    },
    {
      "cell_type": "code",
      "metadata": {
        "execution": {
          "iopub.execute_input": "2021-09-16T12:33:04.383322Z",
          "iopub.status.busy": "2021-09-16T12:33:04.382851Z",
          "iopub.status.idle": "2021-09-16T12:33:04.385431Z",
          "shell.execute_reply": "2021-09-16T12:33:04.385037Z"
        },
        "papermill": {
          "duration": 0.064643,
          "end_time": "2021-09-16T12:33:04.385533",
          "exception": false,
          "start_time": "2021-09-16T12:33:04.320890",
          "status": "completed"
        },
        "tags": [],
        "id": "bb9d1b00"
      },
      "source": [
        "test_dataset = XORDataset(size=500)\n",
        "# drop_last -> Don't drop the last batch although it is smaller than 128\n",
        "test_data_loader = data.DataLoader(test_dataset, batch_size=128, shuffle=False, drop_last=False)"
      ],
      "id": "bb9d1b00",
      "execution_count": null,
      "outputs": []
    },
    {
      "cell_type": "markdown",
      "metadata": {
        "lines_to_next_cell": 2,
        "papermill": {
          "duration": 0.057647,
          "end_time": "2021-09-16T12:33:04.501159",
          "exception": false,
          "start_time": "2021-09-16T12:33:04.443512",
          "status": "completed"
        },
        "tags": [],
        "id": "3d9bd3db"
      },
      "source": [
        "As metric, we will use accuracy which is calculated as follows:\n",
        "\n",
        "$$acc = \\frac{\\#\\text{correct predictions}}{\\#\\text{all predictions}} = \\frac{TP+TN}{TP+TN+FP+FN}$$\n",
        "\n",
        "where TP are the true positives, TN true negatives, FP false positives, and FN the fale negatives.\n",
        "\n",
        "When evaluating the model, we don't need to keep track of the computation graph as we don't intend to calculate the gradients.\n",
        "This reduces the required memory and speed up the model.\n",
        "In PyTorch, we can deactivate the computation graph using `with torch.no_grad(): ...`.\n",
        "Remember to additionally set the model to eval mode."
      ],
      "id": "3d9bd3db"
    },
    {
      "cell_type": "code",
      "metadata": {
        "execution": {
          "iopub.execute_input": "2021-09-16T12:33:04.623119Z",
          "iopub.status.busy": "2021-09-16T12:33:04.622644Z",
          "iopub.status.idle": "2021-09-16T12:33:04.624728Z",
          "shell.execute_reply": "2021-09-16T12:33:04.624331Z"
        },
        "papermill": {
          "duration": 0.065533,
          "end_time": "2021-09-16T12:33:04.624827",
          "exception": false,
          "start_time": "2021-09-16T12:33:04.559294",
          "status": "completed"
        },
        "tags": [],
        "id": "ee3254a7"
      },
      "source": [
        "def eval_model(model, data_loader):\n",
        "    model.eval()  # Set model to eval mode\n",
        "    true_preds, num_preds = 0.0, 0.0\n",
        "\n",
        "    with torch.no_grad():  # Deactivate gradients for the following code\n",
        "        for data_inputs, data_labels in data_loader:\n",
        "\n",
        "            # Determine prediction of model on dev set\n",
        "            data_inputs, data_labels = data_inputs.to(device), data_labels.to(device)\n",
        "            preds = model(data_inputs)\n",
        "            preds = preds.squeeze(dim=1)\n",
        "            preds = torch.sigmoid(preds)  # Sigmoid to map predictions between 0 and 1\n",
        "            pred_labels = (preds >= 0.5).long()  # Binarize predictions to 0 and 1\n",
        "\n",
        "            # Keep records of predictions for the accuracy metric (true_preds=TP+TN, num_preds=TP+TN+FP+FN)\n",
        "            true_preds += (pred_labels == data_labels).sum()\n",
        "            num_preds += data_labels.shape[0]\n",
        "\n",
        "    acc = true_preds / num_preds\n",
        "    print(f\"Accuracy of the model: {100.0*acc:4.2f}%\")"
      ],
      "id": "ee3254a7",
      "execution_count": null,
      "outputs": []
    },
    {
      "cell_type": "code",
      "metadata": {
        "execution": {
          "iopub.execute_input": "2021-09-16T12:33:04.746517Z",
          "iopub.status.busy": "2021-09-16T12:33:04.746051Z",
          "iopub.status.idle": "2021-09-16T12:33:04.754165Z",
          "shell.execute_reply": "2021-09-16T12:33:04.754547Z"
        },
        "papermill": {
          "duration": 0.071433,
          "end_time": "2021-09-16T12:33:04.754673",
          "exception": false,
          "start_time": "2021-09-16T12:33:04.683240",
          "status": "completed"
        },
        "tags": [],
        "id": "5272400b",
        "outputId": "68148616-f205-412d-d607-bb6fb4aea4a3"
      },
      "source": [
        "eval_model(model, test_data_loader)"
      ],
      "id": "5272400b",
      "execution_count": null,
      "outputs": [
        {
          "name": "stdout",
          "output_type": "stream",
          "text": [
            "Accuracy of the model: 100.00%\n"
          ]
        }
      ]
    },
    {
      "cell_type": "markdown",
      "metadata": {
        "papermill": {
          "duration": 0.058108,
          "end_time": "2021-09-16T12:33:04.871215",
          "exception": false,
          "start_time": "2021-09-16T12:33:04.813107",
          "status": "completed"
        },
        "tags": [],
        "id": "70e6957c"
      },
      "source": [
        "If we trained our model correctly, we should see a score close to 100% accuracy.\n",
        "However, this is only possible because of our simple task, and\n",
        "unfortunately, we usually don't get such high scores on test sets of\n",
        "more complex tasks."
      ],
      "id": "70e6957c"
    },
    {
      "cell_type": "markdown",
      "metadata": {
        "lines_to_next_cell": 2,
        "papermill": {
          "duration": 0.057859,
          "end_time": "2021-09-16T12:33:04.987289",
          "exception": false,
          "start_time": "2021-09-16T12:33:04.929430",
          "status": "completed"
        },
        "tags": [],
        "id": "939b0237"
      },
      "source": [
        "#### Visualizing classification boundaries\n",
        "\n",
        "To visualize what our model has learned, we can perform a prediction for every data point in a range of $[-0.5, 1.5]$, and visualize the predicted class as in the sample figure at the beginning of this section.\n",
        "This shows where the model has created decision boundaries, and which points would be classified as $0$, and which as $1$.\n",
        "We therefore get a background image out of blue (class 0) and orange (class 1).\n",
        "The spots where the model is uncertain we will see a blurry overlap.\n",
        "The specific code is less relevant compared to the output figure which\n",
        "should hopefully show us a clear separation of classes:"
      ],
      "id": "939b0237"
    },
    {
      "cell_type": "code",
      "metadata": {
        "execution": {
          "iopub.execute_input": "2021-09-16T12:33:05.128533Z",
          "iopub.status.busy": "2021-09-16T12:33:05.120427Z",
          "iopub.status.idle": "2021-09-16T12:33:05.504515Z",
          "shell.execute_reply": "2021-09-16T12:33:05.504900Z"
        },
        "papermill": {
          "duration": 0.451291,
          "end_time": "2021-09-16T12:33:05.505038",
          "exception": false,
          "start_time": "2021-09-16T12:33:05.053747",
          "status": "completed"
        },
        "tags": [],
        "id": "9abcbe24",
        "outputId": "88a89d9b-40e8-4e61-dbbe-f4a14c6e3347"
      },
      "source": [
        "@torch.no_grad()  # Decorator, same effect as \"with torch.no_grad(): ...\" over the whole function.\n",
        "def visualize_classification(model, data, label):\n",
        "    if isinstance(data, torch.Tensor):\n",
        "        data = data.cpu().numpy()\n",
        "    if isinstance(label, torch.Tensor):\n",
        "        label = label.cpu().numpy()\n",
        "    data_0 = data[label == 0]\n",
        "    data_1 = data[label == 1]\n",
        "\n",
        "    plt.figure(figsize=(4, 4))\n",
        "    plt.scatter(data_0[:, 0], data_0[:, 1], edgecolor=\"#333\", label=\"Class 0\")\n",
        "    plt.scatter(data_1[:, 0], data_1[:, 1], edgecolor=\"#333\", label=\"Class 1\")\n",
        "    plt.title(\"Dataset samples\")\n",
        "    plt.ylabel(r\"$x_2$\")\n",
        "    plt.xlabel(r\"$x_1$\")\n",
        "    plt.legend()\n",
        "\n",
        "    # Let's make use of a lot of operations we have learned above\n",
        "    model.to(device)\n",
        "    c0 = torch.Tensor(to_rgba(\"C0\")).to(device)\n",
        "    c1 = torch.Tensor(to_rgba(\"C1\")).to(device)\n",
        "    x1 = torch.arange(-0.5, 1.5, step=0.01, device=device)\n",
        "    x2 = torch.arange(-0.5, 1.5, step=0.01, device=device)\n",
        "    xx1, xx2 = torch.meshgrid(x1, x2)  # Meshgrid function as in numpy\n",
        "    model_inputs = torch.stack([xx1, xx2], dim=-1)\n",
        "    preds = model(model_inputs)\n",
        "    preds = torch.sigmoid(preds)\n",
        "    # Specifying \"None\" in a dimension creates a new one\n",
        "    output_image = preds * c0[None, None] + (1 - preds) * c1[None, None]\n",
        "    output_image = (\n",
        "        output_image.cpu().numpy()\n",
        "    )  # Convert to numpy array. This only works for tensors on CPU, hence first push to CPU\n",
        "    plt.imshow(output_image, origin=\"upper\", extent=(-0.5, 1.5, -0.5, 1.5))\n",
        "    plt.grid(False)\n",
        "\n",
        "\n",
        "visualize_classification(model, dataset.data, dataset.label)\n",
        "plt.show()"
      ],
      "id": "9abcbe24",
      "execution_count": null,
      "outputs": [
        {
          "data": {
            "application/pdf": "[encoded data removed]",
            "image/svg+xml": [
              "<?xml version=\"1.0\" encoding=\"utf-8\" standalone=\"no\"?>\n",
              "<!DOCTYPE svg PUBLIC \"-//W3C//DTD SVG 1.1//EN\"\n",
              "  \"http://www.w3.org/Graphics/SVG/1.1/DTD/svg11.dtd\">\n",
              "<svg height=\"277.314375pt\" version=\"1.1\" viewBox=\"0 0 291.115 277.314375\" width=\"291.115pt\" xmlns=\"http://www.w3.org/2000/svg\" xmlns:xlink=\"http://www.w3.org/1999/xlink\">\n",
              " <metadata>\n",
              "  <rdf:RDF xmlns:cc=\"http://creativecommons.org/ns#\" xmlns:dc=\"http://purl.org/dc/elements/1.1/\" xmlns:rdf=\"http://www.w3.org/1999/02/22-rdf-syntax-ns#\">\n",
              "   <cc:Work>\n",
              "    <dc:type rdf:resource=\"http://purl.org/dc/dcmitype/StillImage\"/>\n",
              "    <dc:date>2021-09-16T14:33:05.240257</dc:date>\n",
              "    <dc:format>image/svg+xml</dc:format>\n",
              "    <dc:creator>\n",
              "     <cc:Agent>\n",
              "      <dc:title>Matplotlib v3.4.3, https://matplotlib.org/</dc:title>\n",
              "     </cc:Agent>\n",
              "    </dc:creator>\n",
              "   </cc:Work>\n",
              "  </rdf:RDF>\n",
              " </metadata>\n",
              " <defs>\n",
              "  <style type=\"text/css\">*{stroke-linecap:butt;stroke-linejoin:round;}</style>\n",
              " </defs>\n",
              " <g id=\"figure_1\">\n",
              "  <g id=\"patch_1\">\n",
              "   <path d=\"M 0 277.314375 \n",
              "L 291.115 277.314375 \n",
              "L 291.115 0 \n",
              "L 0 0 \n",
              "z\n",
              "\" style=\"fill:none;\"/>\n",
              "  </g>\n",
              "  <g id=\"axes_1\">\n",
              "   <g id=\"patch_2\">\n",
              "    <path d=\"M 58.523438 239.758125 \n",
              "L 275.963437 239.758125 \n",
              "L 275.963437 22.318125 \n",
              "L 58.523438 22.318125 \n",
              "z\n",
              "\" style=\"fill:#ffffff;\"/>\n",
              "   </g>\n",
              "   <g clip-path=\"url(#p1d47a8e31b)\">\n",
              "    <image height=\"218\" id=\"imagee448ca4de9\" transform=\"scale(1 -1)translate(0 -218)\" width=\"218\" x=\"58.523438\" xlink:href=\"data:image/png;base64,\n",
              "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\" y=\"-21.758125\"/>\n",
              "   </g>\n",
              "   <g id=\"PathCollection_1\">\n",
              "    <defs>\n",
              "     <path d=\"M 0 3 \n",
              "C 0.795609 3 1.55874 2.683901 2.12132 2.12132 \n",
              "C 2.683901 1.55874 3 0.795609 3 0 \n",
              "C 3 -0.795609 2.683901 -1.55874 2.12132 -2.12132 \n",
              "C 1.55874 -2.683901 0.795609 -3 0 -3 \n",
              "C -0.795609 -3 -1.55874 -2.683901 -2.12132 -2.12132 \n",
              "C -2.683901 -1.55874 -3 -0.795609 -3 0 \n",
              "C -3 0.795609 -2.683901 1.55874 -2.12132 2.12132 \n",
              "C -1.55874 2.683901 -0.795609 3 0 3 \n",
              "z\n",
              "\" id=\"m14e5f9d88e\" style=\"stroke:#333333;\"/>\n",
              "    </defs>\n",
              "    <g clip-path=\"url(#p1d47a8e31b)\">\n",
              "     <use style=\"fill:#1f77b4;stroke:#333333;\" x=\"112.130475\" xlink:href=\"#m14e5f9d88e\" y=\"183.02716\"/>\n",
              "     <use style=\"fill:#1f77b4;stroke:#333333;\" x=\"218.531808\" xlink:href=\"#m14e5f9d88e\" y=\"79.706304\"/>\n",
              "     <use style=\"fill:#1f77b4;stroke:#333333;\" x=\"239.633825\" xlink:href=\"#m14e5f9d88e\" y=\"80.994397\"/>\n",
              "     <use style=\"fill:#1f77b4;stroke:#333333;\" x=\"122.008015\" xlink:href=\"#m14e5f9d88e\" y=\"191.757377\"/>\n",
              "     <use style=\"fill:#1f77b4;stroke:#333333;\" x=\"116.060682\" xlink:href=\"#m14e5f9d88e\" y=\"192.256288\"/>\n",
              "     <use style=\"fill:#1f77b4;stroke:#333333;\" x=\"92.277532\" xlink:href=\"#m14e5f9d88e\" y=\"180.061819\"/>\n",
              "     <use style=\"fill:#1f77b4;stroke:#333333;\" x=\"227.018994\" xlink:href=\"#m14e5f9d88e\" y=\"76.887462\"/>\n",
              "     <use style=\"fill:#1f77b4;stroke:#333333;\" x=\"218.499712\" xlink:href=\"#m14e5f9d88e\" y=\"71.275153\"/>\n",
              "     <use style=\"fill:#1f77b4;stroke:#333333;\" x=\"110.302013\" xlink:href=\"#m14e5f9d88e\" y=\"191.868518\"/>\n",
              "     <use style=\"fill:#1f77b4;stroke:#333333;\" x=\"222.828211\" xlink:href=\"#m14e5f9d88e\" y=\"72.953996\"/>\n",
              "     <use style=\"fill:#1f77b4;stroke:#333333;\" x=\"117.798662\" xlink:href=\"#m14e5f9d88e\" y=\"188.528318\"/>\n",
              "     <use style=\"fill:#1f77b4;stroke:#333333;\" x=\"236.949732\" xlink:href=\"#m14e5f9d88e\" y=\"56.122229\"/>\n",
              "     <use style=\"fill:#1f77b4;stroke:#333333;\" x=\"223.235039\" xlink:href=\"#m14e5f9d88e\" y=\"80.056541\"/>\n",
              "     <use style=\"fill:#1f77b4;stroke:#333333;\" x=\"218.619913\" xlink:href=\"#m14e5f9d88e\" y=\"76.248163\"/>\n",
              "     <use style=\"fill:#1f77b4;stroke:#333333;\" x=\"110.525586\" xlink:href=\"#m14e5f9d88e\" y=\"198.228967\"/>\n",
              "     <use style=\"fill:#1f77b4;stroke:#333333;\" x=\"106.581102\" xlink:href=\"#m14e5f9d88e\" y=\"176.499583\"/>\n",
              "     <use style=\"fill:#1f77b4;stroke:#333333;\" x=\"233.588936\" xlink:href=\"#m14e5f9d88e\" y=\"102.286439\"/>\n",
              "     <use style=\"fill:#1f77b4;stroke:#333333;\" x=\"236.369999\" xlink:href=\"#m14e5f9d88e\" y=\"96.725344\"/>\n",
              "     <use style=\"fill:#1f77b4;stroke:#333333;\" x=\"213.86622\" xlink:href=\"#m14e5f9d88e\" y=\"77.338064\"/>\n",
              "     <use style=\"fill:#1f77b4;stroke:#333333;\" x=\"100.93054\" xlink:href=\"#m14e5f9d88e\" y=\"195.532199\"/>\n",
              "     <use style=\"fill:#1f77b4;stroke:#333333;\" x=\"235.709742\" xlink:href=\"#m14e5f9d88e\" y=\"56.455519\"/>\n",
              "     <use style=\"fill:#1f77b4;stroke:#333333;\" x=\"228.794651\" xlink:href=\"#m14e5f9d88e\" y=\"77.981996\"/>\n",
              "     <use style=\"fill:#1f77b4;stroke:#333333;\" x=\"126.325818\" xlink:href=\"#m14e5f9d88e\" y=\"169.253244\"/>\n",
              "     <use style=\"fill:#1f77b4;stroke:#333333;\" x=\"215.866897\" xlink:href=\"#m14e5f9d88e\" y=\"56.228154\"/>\n",
              "     <use style=\"fill:#1f77b4;stroke:#333333;\" x=\"114.849831\" xlink:href=\"#m14e5f9d88e\" y=\"184.170689\"/>\n",
              "     <use style=\"fill:#1f77b4;stroke:#333333;\" x=\"215.200167\" xlink:href=\"#m14e5f9d88e\" y=\"71.325868\"/>\n",
              "     <use style=\"fill:#1f77b4;stroke:#333333;\" x=\"104.738732\" xlink:href=\"#m14e5f9d88e\" y=\"172.132264\"/>\n",
              "     <use style=\"fill:#1f77b4;stroke:#333333;\" x=\"233.165389\" xlink:href=\"#m14e5f9d88e\" y=\"69.175006\"/>\n",
              "     <use style=\"fill:#1f77b4;stroke:#333333;\" x=\"229.770805\" xlink:href=\"#m14e5f9d88e\" y=\"79.208287\"/>\n",
              "     <use style=\"fill:#1f77b4;stroke:#333333;\" x=\"224.897941\" xlink:href=\"#m14e5f9d88e\" y=\"65.173809\"/>\n",
              "     <use style=\"fill:#1f77b4;stroke:#333333;\" x=\"109.018133\" xlink:href=\"#m14e5f9d88e\" y=\"175.976269\"/>\n",
              "     <use style=\"fill:#1f77b4;stroke:#333333;\" x=\"118.553492\" xlink:href=\"#m14e5f9d88e\" y=\"195.931899\"/>\n",
              "     <use style=\"fill:#1f77b4;stroke:#333333;\" x=\"105.114252\" xlink:href=\"#m14e5f9d88e\" y=\"164.360655\"/>\n",
              "     <use style=\"fill:#1f77b4;stroke:#333333;\" x=\"113.25433\" xlink:href=\"#m14e5f9d88e\" y=\"189.323026\"/>\n",
              "     <use style=\"fill:#1f77b4;stroke:#333333;\" x=\"124.586091\" xlink:href=\"#m14e5f9d88e\" y=\"188.967644\"/>\n",
              "     <use style=\"fill:#1f77b4;stroke:#333333;\" x=\"109.837824\" xlink:href=\"#m14e5f9d88e\" y=\"184.898956\"/>\n",
              "     <use style=\"fill:#1f77b4;stroke:#333333;\" x=\"125.181761\" xlink:href=\"#m14e5f9d88e\" y=\"197.902563\"/>\n",
              "     <use style=\"fill:#1f77b4;stroke:#333333;\" x=\"204.317789\" xlink:href=\"#m14e5f9d88e\" y=\"61.965272\"/>\n",
              "     <use style=\"fill:#1f77b4;stroke:#333333;\" x=\"235.267519\" xlink:href=\"#m14e5f9d88e\" y=\"81.643688\"/>\n",
              "     <use style=\"fill:#1f77b4;stroke:#333333;\" x=\"223.348378\" xlink:href=\"#m14e5f9d88e\" y=\"80.978112\"/>\n",
              "     <use style=\"fill:#1f77b4;stroke:#333333;\" x=\"109.797084\" xlink:href=\"#m14e5f9d88e\" y=\"192.545811\"/>\n",
              "     <use style=\"fill:#1f77b4;stroke:#333333;\" x=\"211.194686\" xlink:href=\"#m14e5f9d88e\" y=\"100.930901\"/>\n",
              "     <use style=\"fill:#1f77b4;stroke:#333333;\" x=\"229.513113\" xlink:href=\"#m14e5f9d88e\" y=\"75.481734\"/>\n",
              "     <use style=\"fill:#1f77b4;stroke:#333333;\" x=\"113.381992\" xlink:href=\"#m14e5f9d88e\" y=\"197.835874\"/>\n",
              "     <use style=\"fill:#1f77b4;stroke:#333333;\" x=\"123.337028\" xlink:href=\"#m14e5f9d88e\" y=\"202.207751\"/>\n",
              "     <use style=\"fill:#1f77b4;stroke:#333333;\" x=\"130.132567\" xlink:href=\"#m14e5f9d88e\" y=\"170.190943\"/>\n",
              "     <use style=\"fill:#1f77b4;stroke:#333333;\" x=\"216.473179\" xlink:href=\"#m14e5f9d88e\" y=\"87.364405\"/>\n",
              "     <use style=\"fill:#1f77b4;stroke:#333333;\" x=\"206.813885\" xlink:href=\"#m14e5f9d88e\" y=\"65.697345\"/>\n",
              "     <use style=\"fill:#1f77b4;stroke:#333333;\" x=\"107.513202\" xlink:href=\"#m14e5f9d88e\" y=\"192.863185\"/>\n",
              "     <use style=\"fill:#1f77b4;stroke:#333333;\" x=\"217.41874\" xlink:href=\"#m14e5f9d88e\" y=\"84.700348\"/>\n",
              "     <use style=\"fill:#1f77b4;stroke:#333333;\" x=\"113.95745\" xlink:href=\"#m14e5f9d88e\" y=\"189.098171\"/>\n",
              "     <use style=\"fill:#1f77b4;stroke:#333333;\" x=\"226.55733\" xlink:href=\"#m14e5f9d88e\" y=\"57.230812\"/>\n",
              "     <use style=\"fill:#1f77b4;stroke:#333333;\" x=\"111.233278\" xlink:href=\"#m14e5f9d88e\" y=\"179.431408\"/>\n",
              "     <use style=\"fill:#1f77b4;stroke:#333333;\" x=\"215.084754\" xlink:href=\"#m14e5f9d88e\" y=\"91.072443\"/>\n",
              "     <use style=\"fill:#1f77b4;stroke:#333333;\" x=\"224.100848\" xlink:href=\"#m14e5f9d88e\" y=\"68.121491\"/>\n",
              "     <use style=\"fill:#1f77b4;stroke:#333333;\" x=\"92.279163\" xlink:href=\"#m14e5f9d88e\" y=\"180.887702\"/>\n",
              "     <use style=\"fill:#1f77b4;stroke:#333333;\" x=\"206.717206\" xlink:href=\"#m14e5f9d88e\" y=\"67.932904\"/>\n",
              "     <use style=\"fill:#1f77b4;stroke:#333333;\" x=\"230.512427\" xlink:href=\"#m14e5f9d88e\" y=\"82.439245\"/>\n",
              "     <use style=\"fill:#1f77b4;stroke:#333333;\" x=\"101.651362\" xlink:href=\"#m14e5f9d88e\" y=\"185.78207\"/>\n",
              "     <use style=\"fill:#1f77b4;stroke:#333333;\" x=\"110.796814\" xlink:href=\"#m14e5f9d88e\" y=\"211.814172\"/>\n",
              "     <use style=\"fill:#1f77b4;stroke:#333333;\" x=\"110.369579\" xlink:href=\"#m14e5f9d88e\" y=\"188.183661\"/>\n",
              "     <use style=\"fill:#1f77b4;stroke:#333333;\" x=\"96.152024\" xlink:href=\"#m14e5f9d88e\" y=\"188.29022\"/>\n",
              "     <use style=\"fill:#1f77b4;stroke:#333333;\" x=\"241.658206\" xlink:href=\"#m14e5f9d88e\" y=\"82.547711\"/>\n",
              "     <use style=\"fill:#1f77b4;stroke:#333333;\" x=\"215.078112\" xlink:href=\"#m14e5f9d88e\" y=\"88.854193\"/>\n",
              "     <use style=\"fill:#1f77b4;stroke:#333333;\" x=\"235.390643\" xlink:href=\"#m14e5f9d88e\" y=\"62.012163\"/>\n",
              "     <use style=\"fill:#1f77b4;stroke:#333333;\" x=\"96.594278\" xlink:href=\"#m14e5f9d88e\" y=\"176.722784\"/>\n",
              "     <use style=\"fill:#1f77b4;stroke:#333333;\" x=\"223.89308\" xlink:href=\"#m14e5f9d88e\" y=\"95.68291\"/>\n",
              "     <use style=\"fill:#1f77b4;stroke:#333333;\" x=\"231.986534\" xlink:href=\"#m14e5f9d88e\" y=\"101.379014\"/>\n",
              "     <use style=\"fill:#1f77b4;stroke:#333333;\" x=\"129.434435\" xlink:href=\"#m14e5f9d88e\" y=\"202.700628\"/>\n",
              "     <use style=\"fill:#1f77b4;stroke:#333333;\" x=\"121.849164\" xlink:href=\"#m14e5f9d88e\" y=\"193.853222\"/>\n",
              "     <use style=\"fill:#1f77b4;stroke:#333333;\" x=\"111.071273\" xlink:href=\"#m14e5f9d88e\" y=\"180.426817\"/>\n",
              "     <use style=\"fill:#1f77b4;stroke:#333333;\" x=\"111.73278\" xlink:href=\"#m14e5f9d88e\" y=\"178.6056\"/>\n",
              "     <use style=\"fill:#1f77b4;stroke:#333333;\" x=\"224.372642\" xlink:href=\"#m14e5f9d88e\" y=\"73.188217\"/>\n",
              "     <use style=\"fill:#1f77b4;stroke:#333333;\" x=\"214.544764\" xlink:href=\"#m14e5f9d88e\" y=\"100.191683\"/>\n",
              "     <use style=\"fill:#1f77b4;stroke:#333333;\" x=\"111.037176\" xlink:href=\"#m14e5f9d88e\" y=\"184.756952\"/>\n",
              "     <use style=\"fill:#1f77b4;stroke:#333333;\" x=\"120.501423\" xlink:href=\"#m14e5f9d88e\" y=\"177.927389\"/>\n",
              "     <use style=\"fill:#1f77b4;stroke:#333333;\" x=\"121.737273\" xlink:href=\"#m14e5f9d88e\" y=\"183.651319\"/>\n",
              "     <use style=\"fill:#1f77b4;stroke:#333333;\" x=\"224.151653\" xlink:href=\"#m14e5f9d88e\" y=\"60.366512\"/>\n",
              "     <use style=\"fill:#1f77b4;stroke:#333333;\" x=\"223.43835\" xlink:href=\"#m14e5f9d88e\" y=\"58.920283\"/>\n",
              "     <use style=\"fill:#1f77b4;stroke:#333333;\" x=\"112.665686\" xlink:href=\"#m14e5f9d88e\" y=\"194.670616\"/>\n",
              "     <use style=\"fill:#1f77b4;stroke:#333333;\" x=\"232.62061\" xlink:href=\"#m14e5f9d88e\" y=\"60.454033\"/>\n",
              "     <use style=\"fill:#1f77b4;stroke:#333333;\" x=\"218.768323\" xlink:href=\"#m14e5f9d88e\" y=\"87.76343\"/>\n",
              "     <use style=\"fill:#1f77b4;stroke:#333333;\" x=\"231.184386\" xlink:href=\"#m14e5f9d88e\" y=\"57.202935\"/>\n",
              "     <use style=\"fill:#1f77b4;stroke:#333333;\" x=\"105.951856\" xlink:href=\"#m14e5f9d88e\" y=\"182.733923\"/>\n",
              "     <use style=\"fill:#1f77b4;stroke:#333333;\" x=\"220.266348\" xlink:href=\"#m14e5f9d88e\" y=\"68.561718\"/>\n",
              "     <use style=\"fill:#1f77b4;stroke:#333333;\" x=\"113.873959\" xlink:href=\"#m14e5f9d88e\" y=\"198.141743\"/>\n",
              "     <use style=\"fill:#1f77b4;stroke:#333333;\" x=\"121.135411\" xlink:href=\"#m14e5f9d88e\" y=\"191.679503\"/>\n",
              "     <use style=\"fill:#1f77b4;stroke:#333333;\" x=\"105.401412\" xlink:href=\"#m14e5f9d88e\" y=\"181.366251\"/>\n",
              "     <use style=\"fill:#1f77b4;stroke:#333333;\" x=\"203.450464\" xlink:href=\"#m14e5f9d88e\" y=\"73.166107\"/>\n",
              "     <use style=\"fill:#1f77b4;stroke:#333333;\" x=\"213.131642\" xlink:href=\"#m14e5f9d88e\" y=\"68.440188\"/>\n",
              "     <use style=\"fill:#1f77b4;stroke:#333333;\" x=\"195.475611\" xlink:href=\"#m14e5f9d88e\" y=\"65.960727\"/>\n",
              "     <use style=\"fill:#1f77b4;stroke:#333333;\" x=\"104.817254\" xlink:href=\"#m14e5f9d88e\" y=\"181.616921\"/>\n",
              "     <use style=\"fill:#1f77b4;stroke:#333333;\" x=\"128.101527\" xlink:href=\"#m14e5f9d88e\" y=\"193.778082\"/>\n",
              "     <use style=\"fill:#1f77b4;stroke:#333333;\" x=\"108.575899\" xlink:href=\"#m14e5f9d88e\" y=\"196.017082\"/>\n",
              "     <use style=\"fill:#1f77b4;stroke:#333333;\" x=\"213.699076\" xlink:href=\"#m14e5f9d88e\" y=\"102.201172\"/>\n",
              "     <use style=\"fill:#1f77b4;stroke:#333333;\" x=\"116.657511\" xlink:href=\"#m14e5f9d88e\" y=\"184.585026\"/>\n",
              "     <use style=\"fill:#1f77b4;stroke:#333333;\" x=\"111.028071\" xlink:href=\"#m14e5f9d88e\" y=\"179.737071\"/>\n",
              "     <use style=\"fill:#1f77b4;stroke:#333333;\" x=\"106.803829\" xlink:href=\"#m14e5f9d88e\" y=\"188.460235\"/>\n",
              "     <use style=\"fill:#1f77b4;stroke:#333333;\" x=\"114.368679\" xlink:href=\"#m14e5f9d88e\" y=\"194.747632\"/>\n",
              "     <use style=\"fill:#1f77b4;stroke:#333333;\" x=\"202.479261\" xlink:href=\"#m14e5f9d88e\" y=\"76.337577\"/>\n",
              "     <use style=\"fill:#1f77b4;stroke:#333333;\" x=\"209.669671\" xlink:href=\"#m14e5f9d88e\" y=\"63.421804\"/>\n",
              "     <use style=\"fill:#1f77b4;stroke:#333333;\" x=\"93.182322\" xlink:href=\"#m14e5f9d88e\" y=\"199.661904\"/>\n",
              "     <use style=\"fill:#1f77b4;stroke:#333333;\" x=\"221.556365\" xlink:href=\"#m14e5f9d88e\" y=\"94.135493\"/>\n",
              "    </g>\n",
              "   </g>\n",
              "   <g id=\"PathCollection_2\">\n",
              "    <defs>\n",
              "     <path d=\"M 0 3 \n",
              "C 0.795609 3 1.55874 2.683901 2.12132 2.12132 \n",
              "C 2.683901 1.55874 3 0.795609 3 0 \n",
              "C 3 -0.795609 2.683901 -1.55874 2.12132 -2.12132 \n",
              "C 1.55874 -2.683901 0.795609 -3 0 -3 \n",
              "C -0.795609 -3 -1.55874 -2.683901 -2.12132 -2.12132 \n",
              "C -2.683901 -1.55874 -3 -0.795609 -3 0 \n",
              "C -3 0.795609 -2.683901 1.55874 -2.12132 2.12132 \n",
              "C -1.55874 2.683901 -0.795609 3 0 3 \n",
              "z\n",
              "\" id=\"m97a69ae040\" style=\"stroke:#333333;\"/>\n",
              "    </defs>\n",
              "    <g clip-path=\"url(#p1d47a8e31b)\">\n",
              "     <use style=\"fill:#ff7f0e;stroke:#333333;\" x=\"217.606427\" xlink:href=\"#m97a69ae040\" y=\"173.251328\"/>\n",
              "     <use style=\"fill:#ff7f0e;stroke:#333333;\" x=\"227.769027\" xlink:href=\"#m97a69ae040\" y=\"173.464324\"/>\n",
              "     <use style=\"fill:#ff7f0e;stroke:#333333;\" x=\"218.500016\" xlink:href=\"#m97a69ae040\" y=\"187.443356\"/>\n",
              "     <use style=\"fill:#ff7f0e;stroke:#333333;\" x=\"106.984413\" xlink:href=\"#m97a69ae040\" y=\"66.511974\"/>\n",
              "     <use style=\"fill:#ff7f0e;stroke:#333333;\" x=\"233.133545\" xlink:href=\"#m97a69ae040\" y=\"189.544269\"/>\n",
              "     <use style=\"fill:#ff7f0e;stroke:#333333;\" x=\"115.335326\" xlink:href=\"#m97a69ae040\" y=\"80.815627\"/>\n",
              "     <use style=\"fill:#ff7f0e;stroke:#333333;\" x=\"208.972555\" xlink:href=\"#m97a69ae040\" y=\"197.223837\"/>\n",
              "     <use style=\"fill:#ff7f0e;stroke:#333333;\" x=\"139.005527\" xlink:href=\"#m97a69ae040\" y=\"77.700995\"/>\n",
              "     <use style=\"fill:#ff7f0e;stroke:#333333;\" x=\"230.664194\" xlink:href=\"#m97a69ae040\" y=\"201.829041\"/>\n",
              "     <use style=\"fill:#ff7f0e;stroke:#333333;\" x=\"205.002573\" xlink:href=\"#m97a69ae040\" y=\"176.909335\"/>\n",
              "     <use style=\"fill:#ff7f0e;stroke:#333333;\" x=\"216.845993\" xlink:href=\"#m97a69ae040\" y=\"167.032503\"/>\n",
              "     <use style=\"fill:#ff7f0e;stroke:#333333;\" x=\"88.160629\" xlink:href=\"#m97a69ae040\" y=\"65.861243\"/>\n",
              "     <use style=\"fill:#ff7f0e;stroke:#333333;\" x=\"128.021696\" xlink:href=\"#m97a69ae040\" y=\"66.622254\"/>\n",
              "     <use style=\"fill:#ff7f0e;stroke:#333333;\" x=\"112.260448\" xlink:href=\"#m97a69ae040\" y=\"91.009332\"/>\n",
              "     <use style=\"fill:#ff7f0e;stroke:#333333;\" x=\"112.50413\" xlink:href=\"#m97a69ae040\" y=\"63.911605\"/>\n",
              "     <use style=\"fill:#ff7f0e;stroke:#333333;\" x=\"95.981186\" xlink:href=\"#m97a69ae040\" y=\"61.50077\"/>\n",
              "     <use style=\"fill:#ff7f0e;stroke:#333333;\" x=\"219.993175\" xlink:href=\"#m97a69ae040\" y=\"189.668312\"/>\n",
              "     <use style=\"fill:#ff7f0e;stroke:#333333;\" x=\"206.167029\" xlink:href=\"#m97a69ae040\" y=\"173.135684\"/>\n",
              "     <use style=\"fill:#ff7f0e;stroke:#333333;\" x=\"213.740977\" xlink:href=\"#m97a69ae040\" y=\"174.762918\"/>\n",
              "     <use style=\"fill:#ff7f0e;stroke:#333333;\" x=\"121.204965\" xlink:href=\"#m97a69ae040\" y=\"77.433213\"/>\n",
              "     <use style=\"fill:#ff7f0e;stroke:#333333;\" x=\"203.018823\" xlink:href=\"#m97a69ae040\" y=\"182.099388\"/>\n",
              "     <use style=\"fill:#ff7f0e;stroke:#333333;\" x=\"238.152369\" xlink:href=\"#m97a69ae040\" y=\"188.7116\"/>\n",
              "     <use style=\"fill:#ff7f0e;stroke:#333333;\" x=\"231.441781\" xlink:href=\"#m97a69ae040\" y=\"186.794029\"/>\n",
              "     <use style=\"fill:#ff7f0e;stroke:#333333;\" x=\"211.648243\" xlink:href=\"#m97a69ae040\" y=\"189.950709\"/>\n",
              "     <use style=\"fill:#ff7f0e;stroke:#333333;\" x=\"236.220422\" xlink:href=\"#m97a69ae040\" y=\"169.740566\"/>\n",
              "     <use style=\"fill:#ff7f0e;stroke:#333333;\" x=\"101.853762\" xlink:href=\"#m97a69ae040\" y=\"86.031191\"/>\n",
              "     <use style=\"fill:#ff7f0e;stroke:#333333;\" x=\"233.94689\" xlink:href=\"#m97a69ae040\" y=\"172.051387\"/>\n",
              "     <use style=\"fill:#ff7f0e;stroke:#333333;\" x=\"123.501925\" xlink:href=\"#m97a69ae040\" y=\"74.175724\"/>\n",
              "     <use style=\"fill:#ff7f0e;stroke:#333333;\" x=\"218.585652\" xlink:href=\"#m97a69ae040\" y=\"171.48351\"/>\n",
              "     <use style=\"fill:#ff7f0e;stroke:#333333;\" x=\"90.32929\" xlink:href=\"#m97a69ae040\" y=\"75.633164\"/>\n",
              "     <use style=\"fill:#ff7f0e;stroke:#333333;\" x=\"111.280011\" xlink:href=\"#m97a69ae040\" y=\"82.837267\"/>\n",
              "     <use style=\"fill:#ff7f0e;stroke:#333333;\" x=\"211.740197\" xlink:href=\"#m97a69ae040\" y=\"195.115065\"/>\n",
              "     <use style=\"fill:#ff7f0e;stroke:#333333;\" x=\"205.118653\" xlink:href=\"#m97a69ae040\" y=\"174.999985\"/>\n",
              "     <use style=\"fill:#ff7f0e;stroke:#333333;\" x=\"115.182647\" xlink:href=\"#m97a69ae040\" y=\"78.537928\"/>\n",
              "     <use style=\"fill:#ff7f0e;stroke:#333333;\" x=\"227.992219\" xlink:href=\"#m97a69ae040\" y=\"175.571697\"/>\n",
              "     <use style=\"fill:#ff7f0e;stroke:#333333;\" x=\"115.634509\" xlink:href=\"#m97a69ae040\" y=\"84.738407\"/>\n",
              "     <use style=\"fill:#ff7f0e;stroke:#333333;\" x=\"113.207682\" xlink:href=\"#m97a69ae040\" y=\"86.904679\"/>\n",
              "     <use style=\"fill:#ff7f0e;stroke:#333333;\" x=\"241.406644\" xlink:href=\"#m97a69ae040\" y=\"195.654551\"/>\n",
              "     <use style=\"fill:#ff7f0e;stroke:#333333;\" x=\"218.12314\" xlink:href=\"#m97a69ae040\" y=\"172.59052\"/>\n",
              "     <use style=\"fill:#ff7f0e;stroke:#333333;\" x=\"102.818896\" xlink:href=\"#m97a69ae040\" y=\"74.729342\"/>\n",
              "     <use style=\"fill:#ff7f0e;stroke:#333333;\" x=\"126.547202\" xlink:href=\"#m97a69ae040\" y=\"76.348126\"/>\n",
              "     <use style=\"fill:#ff7f0e;stroke:#333333;\" x=\"129.239769\" xlink:href=\"#m97a69ae040\" y=\"62.486839\"/>\n",
              "     <use style=\"fill:#ff7f0e;stroke:#333333;\" x=\"228.152228\" xlink:href=\"#m97a69ae040\" y=\"193.26863\"/>\n",
              "     <use style=\"fill:#ff7f0e;stroke:#333333;\" x=\"103.215052\" xlink:href=\"#m97a69ae040\" y=\"78.005027\"/>\n",
              "     <use style=\"fill:#ff7f0e;stroke:#333333;\" x=\"216.222162\" xlink:href=\"#m97a69ae040\" y=\"176.670472\"/>\n",
              "     <use style=\"fill:#ff7f0e;stroke:#333333;\" x=\"114.916325\" xlink:href=\"#m97a69ae040\" y=\"88.653235\"/>\n",
              "     <use style=\"fill:#ff7f0e;stroke:#333333;\" x=\"121.115357\" xlink:href=\"#m97a69ae040\" y=\"70.241533\"/>\n",
              "     <use style=\"fill:#ff7f0e;stroke:#333333;\" x=\"120.258643\" xlink:href=\"#m97a69ae040\" y=\"72.957314\"/>\n",
              "     <use style=\"fill:#ff7f0e;stroke:#333333;\" x=\"209.315916\" xlink:href=\"#m97a69ae040\" y=\"177.378942\"/>\n",
              "     <use style=\"fill:#ff7f0e;stroke:#333333;\" x=\"103.210102\" xlink:href=\"#m97a69ae040\" y=\"91.806632\"/>\n",
              "     <use style=\"fill:#ff7f0e;stroke:#333333;\" x=\"119.325862\" xlink:href=\"#m97a69ae040\" y=\"68.692592\"/>\n",
              "     <use style=\"fill:#ff7f0e;stroke:#333333;\" x=\"202.824093\" xlink:href=\"#m97a69ae040\" y=\"174.268046\"/>\n",
              "     <use style=\"fill:#ff7f0e;stroke:#333333;\" x=\"223.801372\" xlink:href=\"#m97a69ae040\" y=\"196.626833\"/>\n",
              "     <use style=\"fill:#ff7f0e;stroke:#333333;\" x=\"117.310993\" xlink:href=\"#m97a69ae040\" y=\"69.094029\"/>\n",
              "     <use style=\"fill:#ff7f0e;stroke:#333333;\" x=\"122.253941\" xlink:href=\"#m97a69ae040\" y=\"84.153386\"/>\n",
              "     <use style=\"fill:#ff7f0e;stroke:#333333;\" x=\"208.231426\" xlink:href=\"#m97a69ae040\" y=\"184.433377\"/>\n",
              "     <use style=\"fill:#ff7f0e;stroke:#333333;\" x=\"201.565732\" xlink:href=\"#m97a69ae040\" y=\"186.557453\"/>\n",
              "     <use style=\"fill:#ff7f0e;stroke:#333333;\" x=\"120.045207\" xlink:href=\"#m97a69ae040\" y=\"79.883512\"/>\n",
              "     <use style=\"fill:#ff7f0e;stroke:#333333;\" x=\"85.476218\" xlink:href=\"#m97a69ae040\" y=\"85.530225\"/>\n",
              "     <use style=\"fill:#ff7f0e;stroke:#333333;\" x=\"108.621104\" xlink:href=\"#m97a69ae040\" y=\"91.775968\"/>\n",
              "     <use style=\"fill:#ff7f0e;stroke:#333333;\" x=\"122.454711\" xlink:href=\"#m97a69ae040\" y=\"71.807464\"/>\n",
              "     <use style=\"fill:#ff7f0e;stroke:#333333;\" x=\"105.245089\" xlink:href=\"#m97a69ae040\" y=\"80.555517\"/>\n",
              "     <use style=\"fill:#ff7f0e;stroke:#333333;\" x=\"110.345637\" xlink:href=\"#m97a69ae040\" y=\"74.684201\"/>\n",
              "     <use style=\"fill:#ff7f0e;stroke:#333333;\" x=\"122.948606\" xlink:href=\"#m97a69ae040\" y=\"84.523445\"/>\n",
              "     <use style=\"fill:#ff7f0e;stroke:#333333;\" x=\"238.331781\" xlink:href=\"#m97a69ae040\" y=\"190.109778\"/>\n",
              "     <use style=\"fill:#ff7f0e;stroke:#333333;\" x=\"99.158482\" xlink:href=\"#m97a69ae040\" y=\"62.144579\"/>\n",
              "     <use style=\"fill:#ff7f0e;stroke:#333333;\" x=\"238.904126\" xlink:href=\"#m97a69ae040\" y=\"176.479967\"/>\n",
              "     <use style=\"fill:#ff7f0e;stroke:#333333;\" x=\"228.511103\" xlink:href=\"#m97a69ae040\" y=\"166.124698\"/>\n",
              "     <use style=\"fill:#ff7f0e;stroke:#333333;\" x=\"204.749573\" xlink:href=\"#m97a69ae040\" y=\"197.183933\"/>\n",
              "     <use style=\"fill:#ff7f0e;stroke:#333333;\" x=\"207.817035\" xlink:href=\"#m97a69ae040\" y=\"209.749946\"/>\n",
              "     <use style=\"fill:#ff7f0e;stroke:#333333;\" x=\"113.647455\" xlink:href=\"#m97a69ae040\" y=\"63.325534\"/>\n",
              "     <use style=\"fill:#ff7f0e;stroke:#333333;\" x=\"209.936021\" xlink:href=\"#m97a69ae040\" y=\"171.712521\"/>\n",
              "     <use style=\"fill:#ff7f0e;stroke:#333333;\" x=\"199.504867\" xlink:href=\"#m97a69ae040\" y=\"160.73698\"/>\n",
              "     <use style=\"fill:#ff7f0e;stroke:#333333;\" x=\"102.861494\" xlink:href=\"#m97a69ae040\" y=\"67.872443\"/>\n",
              "     <use style=\"fill:#ff7f0e;stroke:#333333;\" x=\"121.543306\" xlink:href=\"#m97a69ae040\" y=\"77.896386\"/>\n",
              "     <use style=\"fill:#ff7f0e;stroke:#333333;\" x=\"230.263574\" xlink:href=\"#m97a69ae040\" y=\"175.913803\"/>\n",
              "     <use style=\"fill:#ff7f0e;stroke:#333333;\" x=\"108.769772\" xlink:href=\"#m97a69ae040\" y=\"71.243232\"/>\n",
              "     <use style=\"fill:#ff7f0e;stroke:#333333;\" x=\"118.137999\" xlink:href=\"#m97a69ae040\" y=\"79.260109\"/>\n",
              "     <use style=\"fill:#ff7f0e;stroke:#333333;\" x=\"116.883422\" xlink:href=\"#m97a69ae040\" y=\"81.810632\"/>\n",
              "     <use style=\"fill:#ff7f0e;stroke:#333333;\" x=\"217.332054\" xlink:href=\"#m97a69ae040\" y=\"170.303854\"/>\n",
              "     <use style=\"fill:#ff7f0e;stroke:#333333;\" x=\"223.569574\" xlink:href=\"#m97a69ae040\" y=\"163.041048\"/>\n",
              "     <use style=\"fill:#ff7f0e;stroke:#333333;\" x=\"230.510522\" xlink:href=\"#m97a69ae040\" y=\"176.611656\"/>\n",
              "     <use style=\"fill:#ff7f0e;stroke:#333333;\" x=\"142.305392\" xlink:href=\"#m97a69ae040\" y=\"77.469185\"/>\n",
              "     <use style=\"fill:#ff7f0e;stroke:#333333;\" x=\"204.163476\" xlink:href=\"#m97a69ae040\" y=\"198.978781\"/>\n",
              "     <use style=\"fill:#ff7f0e;stroke:#333333;\" x=\"244.521801\" xlink:href=\"#m97a69ae040\" y=\"198.229188\"/>\n",
              "     <use style=\"fill:#ff7f0e;stroke:#333333;\" x=\"214.441631\" xlink:href=\"#m97a69ae040\" y=\"195.840128\"/>\n",
              "     <use style=\"fill:#ff7f0e;stroke:#333333;\" x=\"105.972186\" xlink:href=\"#m97a69ae040\" y=\"85.737332\"/>\n",
              "     <use style=\"fill:#ff7f0e;stroke:#333333;\" x=\"104.205171\" xlink:href=\"#m97a69ae040\" y=\"77.466631\"/>\n",
              "     <use style=\"fill:#ff7f0e;stroke:#333333;\" x=\"232.367065\" xlink:href=\"#m97a69ae040\" y=\"198.103735\"/>\n",
              "     <use style=\"fill:#ff7f0e;stroke:#333333;\" x=\"104.549328\" xlink:href=\"#m97a69ae040\" y=\"83.321073\"/>\n",
              "     <use style=\"fill:#ff7f0e;stroke:#333333;\" x=\"93.504718\" xlink:href=\"#m97a69ae040\" y=\"79.424966\"/>\n",
              "     <use style=\"fill:#ff7f0e;stroke:#333333;\" x=\"127.819202\" xlink:href=\"#m97a69ae040\" y=\"69.050871\"/>\n",
              "     <use style=\"fill:#ff7f0e;stroke:#333333;\" x=\"106.888986\" xlink:href=\"#m97a69ae040\" y=\"71.394117\"/>\n",
              "     <use style=\"fill:#ff7f0e;stroke:#333333;\" x=\"238.372282\" xlink:href=\"#m97a69ae040\" y=\"196.147065\"/>\n",
              "     <use style=\"fill:#ff7f0e;stroke:#333333;\" x=\"200.720575\" xlink:href=\"#m97a69ae040\" y=\"181.948403\"/>\n",
              "     <use style=\"fill:#ff7f0e;stroke:#333333;\" x=\"113.562585\" xlink:href=\"#m97a69ae040\" y=\"65.860828\"/>\n",
              "     <use style=\"fill:#ff7f0e;stroke:#333333;\" x=\"236.216055\" xlink:href=\"#m97a69ae040\" y=\"194.238972\"/>\n",
              "    </g>\n",
              "   </g>\n",
              "   <g id=\"matplotlib.axis_1\">\n",
              "    <g id=\"xtick_1\">\n",
              "     <g id=\"line2d_1\">\n",
              "      <defs>\n",
              "       <path d=\"M 0 0 \n",
              "L 0 3.5 \n",
              "\" id=\"mb1711be81b\" style=\"stroke:#000000;stroke-width:0.8;\"/>\n",
              "      </defs>\n",
              "      <g>\n",
              "       <use style=\"stroke:#000000;stroke-width:0.8;\" x=\"58.523438\" xlink:href=\"#mb1711be81b\" y=\"239.758125\"/>\n",
              "      </g>\n",
              "     </g>\n",
              "     <g id=\"text_1\">\n",
              "      <!-- −0.5 -->\n",
              "      <g transform=\"translate(46.382031 254.356562)scale(0.1 -0.1)\">\n",
              "       <defs>\n",
              "        <path d=\"M 678 2272 \n",
              "L 4684 2272 \n",
              "L 4684 1741 \n",
              "L 678 1741 \n",
              "L 678 2272 \n",
              "z\n",
              "\" id=\"DejaVuSans-2212\" transform=\"scale(0.015625)\"/>\n",
              "        <path d=\"M 2034 4250 \n",
              "Q 1547 4250 1301 3770 \n",
              "Q 1056 3291 1056 2328 \n",
              "Q 1056 1369 1301 889 \n",
              "Q 1547 409 2034 409 \n",
              "Q 2525 409 2770 889 \n",
              "Q 3016 1369 3016 2328 \n",
              "Q 3016 3291 2770 3770 \n",
              "Q 2525 4250 2034 4250 \n",
              "z\n",
              "M 2034 4750 \n",
              "Q 2819 4750 3233 4129 \n",
              "Q 3647 3509 3647 2328 \n",
              "Q 3647 1150 3233 529 \n",
              "Q 2819 -91 2034 -91 \n",
              "Q 1250 -91 836 529 \n",
              "Q 422 1150 422 2328 \n",
              "Q 422 3509 836 4129 \n",
              "Q 1250 4750 2034 4750 \n",
              "z\n",
              "\" id=\"DejaVuSans-30\" transform=\"scale(0.015625)\"/>\n",
              "        <path d=\"M 684 794 \n",
              "L 1344 794 \n",
              "L 1344 0 \n",
              "L 684 0 \n",
              "L 684 794 \n",
              "z\n",
              "\" id=\"DejaVuSans-2e\" transform=\"scale(0.015625)\"/>\n",
              "        <path d=\"M 691 4666 \n",
              "L 3169 4666 \n",
              "L 3169 4134 \n",
              "L 1269 4134 \n",
              "L 1269 2991 \n",
              "Q 1406 3038 1543 3061 \n",
              "Q 1681 3084 1819 3084 \n",
              "Q 2600 3084 3056 2656 \n",
              "Q 3513 2228 3513 1497 \n",
              "Q 3513 744 3044 326 \n",
              "Q 2575 -91 1722 -91 \n",
              "Q 1428 -91 1123 -41 \n",
              "Q 819 9 494 109 \n",
              "L 494 744 \n",
              "Q 775 591 1075 516 \n",
              "Q 1375 441 1709 441 \n",
              "Q 2250 441 2565 725 \n",
              "Q 2881 1009 2881 1497 \n",
              "Q 2881 1984 2565 2268 \n",
              "Q 2250 2553 1709 2553 \n",
              "Q 1456 2553 1204 2497 \n",
              "Q 953 2441 691 2322 \n",
              "L 691 4666 \n",
              "z\n",
              "\" id=\"DejaVuSans-35\" transform=\"scale(0.015625)\"/>\n",
              "       </defs>\n",
              "       <use xlink:href=\"#DejaVuSans-2212\"/>\n",
              "       <use x=\"83.789062\" xlink:href=\"#DejaVuSans-30\"/>\n",
              "       <use x=\"147.412109\" xlink:href=\"#DejaVuSans-2e\"/>\n",
              "       <use x=\"179.199219\" xlink:href=\"#DejaVuSans-35\"/>\n",
              "      </g>\n",
              "     </g>\n",
              "    </g>\n",
              "    <g id=\"xtick_2\">\n",
              "     <g id=\"line2d_2\">\n",
              "      <g>\n",
              "       <use style=\"stroke:#000000;stroke-width:0.8;\" x=\"112.883437\" xlink:href=\"#mb1711be81b\" y=\"239.758125\"/>\n",
              "      </g>\n",
              "     </g>\n",
              "     <g id=\"text_2\">\n",
              "      <!-- 0.0 -->\n",
              "      <g transform=\"translate(104.931875 254.356562)scale(0.1 -0.1)\">\n",
              "       <use xlink:href=\"#DejaVuSans-30\"/>\n",
              "       <use x=\"63.623047\" xlink:href=\"#DejaVuSans-2e\"/>\n",
              "       <use x=\"95.410156\" xlink:href=\"#DejaVuSans-30\"/>\n",
              "      </g>\n",
              "     </g>\n",
              "    </g>\n",
              "    <g id=\"xtick_3\">\n",
              "     <g id=\"line2d_3\">\n",
              "      <g>\n",
              "       <use style=\"stroke:#000000;stroke-width:0.8;\" x=\"167.243437\" xlink:href=\"#mb1711be81b\" y=\"239.758125\"/>\n",
              "      </g>\n",
              "     </g>\n",
              "     <g id=\"text_3\">\n",
              "      <!-- 0.5 -->\n",
              "      <g transform=\"translate(159.291875 254.356562)scale(0.1 -0.1)\">\n",
              "       <use xlink:href=\"#DejaVuSans-30\"/>\n",
              "       <use x=\"63.623047\" xlink:href=\"#DejaVuSans-2e\"/>\n",
              "       <use x=\"95.410156\" xlink:href=\"#DejaVuSans-35\"/>\n",
              "      </g>\n",
              "     </g>\n",
              "    </g>\n",
              "    <g id=\"xtick_4\">\n",
              "     <g id=\"line2d_4\">\n",
              "      <g>\n",
              "       <use style=\"stroke:#000000;stroke-width:0.8;\" x=\"221.603437\" xlink:href=\"#mb1711be81b\" y=\"239.758125\"/>\n",
              "      </g>\n",
              "     </g>\n",
              "     <g id=\"text_4\">\n",
              "      <!-- 1.0 -->\n",
              "      <g transform=\"translate(213.651875 254.356562)scale(0.1 -0.1)\">\n",
              "       <defs>\n",
              "        <path d=\"M 794 531 \n",
              "L 1825 531 \n",
              "L 1825 4091 \n",
              "L 703 3866 \n",
              "L 703 4441 \n",
              "L 1819 4666 \n",
              "L 2450 4666 \n",
              "L 2450 531 \n",
              "L 3481 531 \n",
              "L 3481 0 \n",
              "L 794 0 \n",
              "L 794 531 \n",
              "z\n",
              "\" id=\"DejaVuSans-31\" transform=\"scale(0.015625)\"/>\n",
              "       </defs>\n",
              "       <use xlink:href=\"#DejaVuSans-31\"/>\n",
              "       <use x=\"63.623047\" xlink:href=\"#DejaVuSans-2e\"/>\n",
              "       <use x=\"95.410156\" xlink:href=\"#DejaVuSans-30\"/>\n",
              "      </g>\n",
              "     </g>\n",
              "    </g>\n",
              "    <g id=\"xtick_5\">\n",
              "     <g id=\"line2d_5\">\n",
              "      <g>\n",
              "       <use style=\"stroke:#000000;stroke-width:0.8;\" x=\"275.963437\" xlink:href=\"#mb1711be81b\" y=\"239.758125\"/>\n",
              "      </g>\n",
              "     </g>\n",
              "     <g id=\"text_5\">\n",
              "      <!-- 1.5 -->\n",
              "      <g transform=\"translate(268.011875 254.356562)scale(0.1 -0.1)\">\n",
              "       <use xlink:href=\"#DejaVuSans-31\"/>\n",
              "       <use x=\"63.623047\" xlink:href=\"#DejaVuSans-2e\"/>\n",
              "       <use x=\"95.410156\" xlink:href=\"#DejaVuSans-35\"/>\n",
              "      </g>\n",
              "     </g>\n",
              "    </g>\n",
              "    <g id=\"text_6\">\n",
              "     <!-- $x_1$ -->\n",
              "     <g transform=\"translate(161.893438 268.034687)scale(0.1 -0.1)\">\n",
              "      <defs>\n",
              "       <path d=\"M 3841 3500 \n",
              "L 2234 1784 \n",
              "L 3219 0 \n",
              "L 2559 0 \n",
              "L 1819 1388 \n",
              "L 531 0 \n",
              "L -166 0 \n",
              "L 1556 1844 \n",
              "L 641 3500 \n",
              "L 1300 3500 \n",
              "L 1972 2234 \n",
              "L 3144 3500 \n",
              "L 3841 3500 \n",
              "z\n",
              "\" id=\"DejaVuSans-Oblique-78\" transform=\"scale(0.015625)\"/>\n",
              "      </defs>\n",
              "      <use transform=\"translate(0 0.3125)\" xlink:href=\"#DejaVuSans-Oblique-78\"/>\n",
              "      <use transform=\"translate(59.179688 -16.09375)scale(0.7)\" xlink:href=\"#DejaVuSans-31\"/>\n",
              "     </g>\n",
              "    </g>\n",
              "   </g>\n",
              "   <g id=\"matplotlib.axis_2\">\n",
              "    <g id=\"ytick_1\">\n",
              "     <g id=\"line2d_6\">\n",
              "      <defs>\n",
              "       <path d=\"M 0 0 \n",
              "L -3.5 0 \n",
              "\" id=\"me91aab48a6\" style=\"stroke:#000000;stroke-width:0.8;\"/>\n",
              "      </defs>\n",
              "      <g>\n",
              "       <use style=\"stroke:#000000;stroke-width:0.8;\" x=\"58.523438\" xlink:href=\"#me91aab48a6\" y=\"239.758125\"/>\n",
              "      </g>\n",
              "     </g>\n",
              "     <g id=\"text_7\">\n",
              "      <!-- −0.50 -->\n",
              "      <g transform=\"translate(20.878125 243.557344)scale(0.1 -0.1)\">\n",
              "       <use xlink:href=\"#DejaVuSans-2212\"/>\n",
              "       <use x=\"83.789062\" xlink:href=\"#DejaVuSans-30\"/>\n",
              "       <use x=\"147.412109\" xlink:href=\"#DejaVuSans-2e\"/>\n",
              "       <use x=\"179.199219\" xlink:href=\"#DejaVuSans-35\"/>\n",
              "       <use x=\"242.822266\" xlink:href=\"#DejaVuSans-30\"/>\n",
              "      </g>\n",
              "     </g>\n",
              "    </g>\n",
              "    <g id=\"ytick_2\">\n",
              "     <g id=\"line2d_7\">\n",
              "      <g>\n",
              "       <use style=\"stroke:#000000;stroke-width:0.8;\" x=\"58.523438\" xlink:href=\"#me91aab48a6\" y=\"212.578125\"/>\n",
              "      </g>\n",
              "     </g>\n",
              "     <g id=\"text_8\">\n",
              "      <!-- −0.25 -->\n",
              "      <g transform=\"translate(20.878125 216.377344)scale(0.1 -0.1)\">\n",
              "       <defs>\n",
              "        <path d=\"M 1228 531 \n",
              "L 3431 531 \n",
              "L 3431 0 \n",
              "L 469 0 \n",
              "L 469 531 \n",
              "Q 828 903 1448 1529 \n",
              "Q 2069 2156 2228 2338 \n",
              "Q 2531 2678 2651 2914 \n",
              "Q 2772 3150 2772 3378 \n",
              "Q 2772 3750 2511 3984 \n",
              "Q 2250 4219 1831 4219 \n",
              "Q 1534 4219 1204 4116 \n",
              "Q 875 4013 500 3803 \n",
              "L 500 4441 \n",
              "Q 881 4594 1212 4672 \n",
              "Q 1544 4750 1819 4750 \n",
              "Q 2544 4750 2975 4387 \n",
              "Q 3406 4025 3406 3419 \n",
              "Q 3406 3131 3298 2873 \n",
              "Q 3191 2616 2906 2266 \n",
              "Q 2828 2175 2409 1742 \n",
              "Q 1991 1309 1228 531 \n",
              "z\n",
              "\" id=\"DejaVuSans-32\" transform=\"scale(0.015625)\"/>\n",
              "       </defs>\n",
              "       <use xlink:href=\"#DejaVuSans-2212\"/>\n",
              "       <use x=\"83.789062\" xlink:href=\"#DejaVuSans-30\"/>\n",
              "       <use x=\"147.412109\" xlink:href=\"#DejaVuSans-2e\"/>\n",
              "       <use x=\"179.199219\" xlink:href=\"#DejaVuSans-32\"/>\n",
              "       <use x=\"242.822266\" xlink:href=\"#DejaVuSans-35\"/>\n",
              "      </g>\n",
              "     </g>\n",
              "    </g>\n",
              "    <g id=\"ytick_3\">\n",
              "     <g id=\"line2d_8\">\n",
              "      <g>\n",
              "       <use style=\"stroke:#000000;stroke-width:0.8;\" x=\"58.523438\" xlink:href=\"#me91aab48a6\" y=\"185.398125\"/>\n",
              "      </g>\n",
              "     </g>\n",
              "     <g id=\"text_9\">\n",
              "      <!-- 0.00 -->\n",
              "      <g transform=\"translate(29.257812 189.197344)scale(0.1 -0.1)\">\n",
              "       <use xlink:href=\"#DejaVuSans-30\"/>\n",
              "       <use x=\"63.623047\" xlink:href=\"#DejaVuSans-2e\"/>\n",
              "       <use x=\"95.410156\" xlink:href=\"#DejaVuSans-30\"/>\n",
              "       <use x=\"159.033203\" xlink:href=\"#DejaVuSans-30\"/>\n",
              "      </g>\n",
              "     </g>\n",
              "    </g>\n",
              "    <g id=\"ytick_4\">\n",
              "     <g id=\"line2d_9\">\n",
              "      <g>\n",
              "       <use style=\"stroke:#000000;stroke-width:0.8;\" x=\"58.523438\" xlink:href=\"#me91aab48a6\" y=\"158.218125\"/>\n",
              "      </g>\n",
              "     </g>\n",
              "     <g id=\"text_10\">\n",
              "      <!-- 0.25 -->\n",
              "      <g transform=\"translate(29.257812 162.017344)scale(0.1 -0.1)\">\n",
              "       <use xlink:href=\"#DejaVuSans-30\"/>\n",
              "       <use x=\"63.623047\" xlink:href=\"#DejaVuSans-2e\"/>\n",
              "       <use x=\"95.410156\" xlink:href=\"#DejaVuSans-32\"/>\n",
              "       <use x=\"159.033203\" xlink:href=\"#DejaVuSans-35\"/>\n",
              "      </g>\n",
              "     </g>\n",
              "    </g>\n",
              "    <g id=\"ytick_5\">\n",
              "     <g id=\"line2d_10\">\n",
              "      <g>\n",
              "       <use style=\"stroke:#000000;stroke-width:0.8;\" x=\"58.523438\" xlink:href=\"#me91aab48a6\" y=\"131.038125\"/>\n",
              "      </g>\n",
              "     </g>\n",
              "     <g id=\"text_11\">\n",
              "      <!-- 0.50 -->\n",
              "      <g transform=\"translate(29.257812 134.837344)scale(0.1 -0.1)\">\n",
              "       <use xlink:href=\"#DejaVuSans-30\"/>\n",
              "       <use x=\"63.623047\" xlink:href=\"#DejaVuSans-2e\"/>\n",
              "       <use x=\"95.410156\" xlink:href=\"#DejaVuSans-35\"/>\n",
              "       <use x=\"159.033203\" xlink:href=\"#DejaVuSans-30\"/>\n",
              "      </g>\n",
              "     </g>\n",
              "    </g>\n",
              "    <g id=\"ytick_6\">\n",
              "     <g id=\"line2d_11\">\n",
              "      <g>\n",
              "       <use style=\"stroke:#000000;stroke-width:0.8;\" x=\"58.523438\" xlink:href=\"#me91aab48a6\" y=\"103.858125\"/>\n",
              "      </g>\n",
              "     </g>\n",
              "     <g id=\"text_12\">\n",
              "      <!-- 0.75 -->\n",
              "      <g transform=\"translate(29.257812 107.657344)scale(0.1 -0.1)\">\n",
              "       <defs>\n",
              "        <path d=\"M 525 4666 \n",
              "L 3525 4666 \n",
              "L 3525 4397 \n",
              "L 1831 0 \n",
              "L 1172 0 \n",
              "L 2766 4134 \n",
              "L 525 4134 \n",
              "L 525 4666 \n",
              "z\n",
              "\" id=\"DejaVuSans-37\" transform=\"scale(0.015625)\"/>\n",
              "       </defs>\n",
              "       <use xlink:href=\"#DejaVuSans-30\"/>\n",
              "       <use x=\"63.623047\" xlink:href=\"#DejaVuSans-2e\"/>\n",
              "       <use x=\"95.410156\" xlink:href=\"#DejaVuSans-37\"/>\n",
              "       <use x=\"159.033203\" xlink:href=\"#DejaVuSans-35\"/>\n",
              "      </g>\n",
              "     </g>\n",
              "    </g>\n",
              "    <g id=\"ytick_7\">\n",
              "     <g id=\"line2d_12\">\n",
              "      <g>\n",
              "       <use style=\"stroke:#000000;stroke-width:0.8;\" x=\"58.523438\" xlink:href=\"#me91aab48a6\" y=\"76.678125\"/>\n",
              "      </g>\n",
              "     </g>\n",
              "     <g id=\"text_13\">\n",
              "      <!-- 1.00 -->\n",
              "      <g transform=\"translate(29.257812 80.477344)scale(0.1 -0.1)\">\n",
              "       <use xlink:href=\"#DejaVuSans-31\"/>\n",
              "       <use x=\"63.623047\" xlink:href=\"#DejaVuSans-2e\"/>\n",
              "       <use x=\"95.410156\" xlink:href=\"#DejaVuSans-30\"/>\n",
              "       <use x=\"159.033203\" xlink:href=\"#DejaVuSans-30\"/>\n",
              "      </g>\n",
              "     </g>\n",
              "    </g>\n",
              "    <g id=\"ytick_8\">\n",
              "     <g id=\"line2d_13\">\n",
              "      <g>\n",
              "       <use style=\"stroke:#000000;stroke-width:0.8;\" x=\"58.523438\" xlink:href=\"#me91aab48a6\" y=\"49.498125\"/>\n",
              "      </g>\n",
              "     </g>\n",
              "     <g id=\"text_14\">\n",
              "      <!-- 1.25 -->\n",
              "      <g transform=\"translate(29.257812 53.297344)scale(0.1 -0.1)\">\n",
              "       <use xlink:href=\"#DejaVuSans-31\"/>\n",
              "       <use x=\"63.623047\" xlink:href=\"#DejaVuSans-2e\"/>\n",
              "       <use x=\"95.410156\" xlink:href=\"#DejaVuSans-32\"/>\n",
              "       <use x=\"159.033203\" xlink:href=\"#DejaVuSans-35\"/>\n",
              "      </g>\n",
              "     </g>\n",
              "    </g>\n",
              "    <g id=\"ytick_9\">\n",
              "     <g id=\"line2d_14\">\n",
              "      <g>\n",
              "       <use style=\"stroke:#000000;stroke-width:0.8;\" x=\"58.523438\" xlink:href=\"#me91aab48a6\" y=\"22.318125\"/>\n",
              "      </g>\n",
              "     </g>\n",
              "     <g id=\"text_15\">\n",
              "      <!-- 1.50 -->\n",
              "      <g transform=\"translate(29.257812 26.117344)scale(0.1 -0.1)\">\n",
              "       <use xlink:href=\"#DejaVuSans-31\"/>\n",
              "       <use x=\"63.623047\" xlink:href=\"#DejaVuSans-2e\"/>\n",
              "       <use x=\"95.410156\" xlink:href=\"#DejaVuSans-35\"/>\n",
              "       <use x=\"159.033203\" xlink:href=\"#DejaVuSans-30\"/>\n",
              "      </g>\n",
              "     </g>\n",
              "    </g>\n",
              "    <g id=\"text_16\">\n",
              "     <!-- $x_2$ -->\n",
              "     <g transform=\"translate(14.798437 136.388125)rotate(-90)scale(0.1 -0.1)\">\n",
              "      <use transform=\"translate(0 0.3125)\" xlink:href=\"#DejaVuSans-Oblique-78\"/>\n",
              "      <use transform=\"translate(59.179688 -16.09375)scale(0.7)\" xlink:href=\"#DejaVuSans-32\"/>\n",
              "     </g>\n",
              "    </g>\n",
              "   </g>\n",
              "   <g id=\"patch_3\">\n",
              "    <path d=\"M 58.523438 239.758125 \n",
              "L 58.523438 22.318125 \n",
              "\" style=\"fill:none;stroke:#000000;stroke-linecap:square;stroke-linejoin:miter;stroke-width:0.8;\"/>\n",
              "   </g>\n",
              "   <g id=\"patch_4\">\n",
              "    <path d=\"M 275.963437 239.758125 \n",
              "L 275.963437 22.318125 \n",
              "\" style=\"fill:none;stroke:#000000;stroke-linecap:square;stroke-linejoin:miter;stroke-width:0.8;\"/>\n",
              "   </g>\n",
              "   <g id=\"patch_5\">\n",
              "    <path d=\"M 58.523438 239.758125 \n",
              "L 275.963437 239.758125 \n",
              "\" style=\"fill:none;stroke:#000000;stroke-linecap:square;stroke-linejoin:miter;stroke-width:0.8;\"/>\n",
              "   </g>\n",
              "   <g id=\"patch_6\">\n",
              "    <path d=\"M 58.523438 22.318125 \n",
              "L 275.963437 22.318125 \n",
              "\" style=\"fill:none;stroke:#000000;stroke-linecap:square;stroke-linejoin:miter;stroke-width:0.8;\"/>\n",
              "   </g>\n",
              "   <g id=\"text_17\">\n",
              "    <!-- Dataset samples -->\n",
              "    <g transform=\"translate(116.900625 16.318125)scale(0.12 -0.12)\">\n",
              "     <defs>\n",
              "      <path d=\"M 1259 4147 \n",
              "L 1259 519 \n",
              "L 2022 519 \n",
              "Q 2988 519 3436 956 \n",
              "Q 3884 1394 3884 2338 \n",
              "Q 3884 3275 3436 3711 \n",
              "Q 2988 4147 2022 4147 \n",
              "L 1259 4147 \n",
              "z\n",
              "M 628 4666 \n",
              "L 1925 4666 \n",
              "Q 3281 4666 3915 4102 \n",
              "Q 4550 3538 4550 2338 \n",
              "Q 4550 1131 3912 565 \n",
              "Q 3275 0 1925 0 \n",
              "L 628 0 \n",
              "L 628 4666 \n",
              "z\n",
              "\" id=\"DejaVuSans-44\" transform=\"scale(0.015625)\"/>\n",
              "      <path d=\"M 2194 1759 \n",
              "Q 1497 1759 1228 1600 \n",
              "Q 959 1441 959 1056 \n",
              "Q 959 750 1161 570 \n",
              "Q 1363 391 1709 391 \n",
              "Q 2188 391 2477 730 \n",
              "Q 2766 1069 2766 1631 \n",
              "L 2766 1759 \n",
              "L 2194 1759 \n",
              "z\n",
              "M 3341 1997 \n",
              "L 3341 0 \n",
              "L 2766 0 \n",
              "L 2766 531 \n",
              "Q 2569 213 2275 61 \n",
              "Q 1981 -91 1556 -91 \n",
              "Q 1019 -91 701 211 \n",
              "Q 384 513 384 1019 \n",
              "Q 384 1609 779 1909 \n",
              "Q 1175 2209 1959 2209 \n",
              "L 2766 2209 \n",
              "L 2766 2266 \n",
              "Q 2766 2663 2505 2880 \n",
              "Q 2244 3097 1772 3097 \n",
              "Q 1472 3097 1187 3025 \n",
              "Q 903 2953 641 2809 \n",
              "L 641 3341 \n",
              "Q 956 3463 1253 3523 \n",
              "Q 1550 3584 1831 3584 \n",
              "Q 2591 3584 2966 3190 \n",
              "Q 3341 2797 3341 1997 \n",
              "z\n",
              "\" id=\"DejaVuSans-61\" transform=\"scale(0.015625)\"/>\n",
              "      <path d=\"M 1172 4494 \n",
              "L 1172 3500 \n",
              "L 2356 3500 \n",
              "L 2356 3053 \n",
              "L 1172 3053 \n",
              "L 1172 1153 \n",
              "Q 1172 725 1289 603 \n",
              "Q 1406 481 1766 481 \n",
              "L 2356 481 \n",
              "L 2356 0 \n",
              "L 1766 0 \n",
              "Q 1100 0 847 248 \n",
              "Q 594 497 594 1153 \n",
              "L 594 3053 \n",
              "L 172 3053 \n",
              "L 172 3500 \n",
              "L 594 3500 \n",
              "L 594 4494 \n",
              "L 1172 4494 \n",
              "z\n",
              "\" id=\"DejaVuSans-74\" transform=\"scale(0.015625)\"/>\n",
              "      <path d=\"M 2834 3397 \n",
              "L 2834 2853 \n",
              "Q 2591 2978 2328 3040 \n",
              "Q 2066 3103 1784 3103 \n",
              "Q 1356 3103 1142 2972 \n",
              "Q 928 2841 928 2578 \n",
              "Q 928 2378 1081 2264 \n",
              "Q 1234 2150 1697 2047 \n",
              "L 1894 2003 \n",
              "Q 2506 1872 2764 1633 \n",
              "Q 3022 1394 3022 966 \n",
              "Q 3022 478 2636 193 \n",
              "Q 2250 -91 1575 -91 \n",
              "Q 1294 -91 989 -36 \n",
              "Q 684 19 347 128 \n",
              "L 347 722 \n",
              "Q 666 556 975 473 \n",
              "Q 1284 391 1588 391 \n",
              "Q 1994 391 2212 530 \n",
              "Q 2431 669 2431 922 \n",
              "Q 2431 1156 2273 1281 \n",
              "Q 2116 1406 1581 1522 \n",
              "L 1381 1569 \n",
              "Q 847 1681 609 1914 \n",
              "Q 372 2147 372 2553 \n",
              "Q 372 3047 722 3315 \n",
              "Q 1072 3584 1716 3584 \n",
              "Q 2034 3584 2315 3537 \n",
              "Q 2597 3491 2834 3397 \n",
              "z\n",
              "\" id=\"DejaVuSans-73\" transform=\"scale(0.015625)\"/>\n",
              "      <path d=\"M 3597 1894 \n",
              "L 3597 1613 \n",
              "L 953 1613 \n",
              "Q 991 1019 1311 708 \n",
              "Q 1631 397 2203 397 \n",
              "Q 2534 397 2845 478 \n",
              "Q 3156 559 3463 722 \n",
              "L 3463 178 \n",
              "Q 3153 47 2828 -22 \n",
              "Q 2503 -91 2169 -91 \n",
              "Q 1331 -91 842 396 \n",
              "Q 353 884 353 1716 \n",
              "Q 353 2575 817 3079 \n",
              "Q 1281 3584 2069 3584 \n",
              "Q 2775 3584 3186 3129 \n",
              "Q 3597 2675 3597 1894 \n",
              "z\n",
              "M 3022 2063 \n",
              "Q 3016 2534 2758 2815 \n",
              "Q 2500 3097 2075 3097 \n",
              "Q 1594 3097 1305 2825 \n",
              "Q 1016 2553 972 2059 \n",
              "L 3022 2063 \n",
              "z\n",
              "\" id=\"DejaVuSans-65\" transform=\"scale(0.015625)\"/>\n",
              "      <path id=\"DejaVuSans-20\" transform=\"scale(0.015625)\"/>\n",
              "      <path d=\"M 3328 2828 \n",
              "Q 3544 3216 3844 3400 \n",
              "Q 4144 3584 4550 3584 \n",
              "Q 5097 3584 5394 3201 \n",
              "Q 5691 2819 5691 2113 \n",
              "L 5691 0 \n",
              "L 5113 0 \n",
              "L 5113 2094 \n",
              "Q 5113 2597 4934 2840 \n",
              "Q 4756 3084 4391 3084 \n",
              "Q 3944 3084 3684 2787 \n",
              "Q 3425 2491 3425 1978 \n",
              "L 3425 0 \n",
              "L 2847 0 \n",
              "L 2847 2094 \n",
              "Q 2847 2600 2669 2842 \n",
              "Q 2491 3084 2119 3084 \n",
              "Q 1678 3084 1418 2786 \n",
              "Q 1159 2488 1159 1978 \n",
              "L 1159 0 \n",
              "L 581 0 \n",
              "L 581 3500 \n",
              "L 1159 3500 \n",
              "L 1159 2956 \n",
              "Q 1356 3278 1631 3431 \n",
              "Q 1906 3584 2284 3584 \n",
              "Q 2666 3584 2933 3390 \n",
              "Q 3200 3197 3328 2828 \n",
              "z\n",
              "\" id=\"DejaVuSans-6d\" transform=\"scale(0.015625)\"/>\n",
              "      <path d=\"M 1159 525 \n",
              "L 1159 -1331 \n",
              "L 581 -1331 \n",
              "L 581 3500 \n",
              "L 1159 3500 \n",
              "L 1159 2969 \n",
              "Q 1341 3281 1617 3432 \n",
              "Q 1894 3584 2278 3584 \n",
              "Q 2916 3584 3314 3078 \n",
              "Q 3713 2572 3713 1747 \n",
              "Q 3713 922 3314 415 \n",
              "Q 2916 -91 2278 -91 \n",
              "Q 1894 -91 1617 61 \n",
              "Q 1341 213 1159 525 \n",
              "z\n",
              "M 3116 1747 \n",
              "Q 3116 2381 2855 2742 \n",
              "Q 2594 3103 2138 3103 \n",
              "Q 1681 3103 1420 2742 \n",
              "Q 1159 2381 1159 1747 \n",
              "Q 1159 1113 1420 752 \n",
              "Q 1681 391 2138 391 \n",
              "Q 2594 391 2855 752 \n",
              "Q 3116 1113 3116 1747 \n",
              "z\n",
              "\" id=\"DejaVuSans-70\" transform=\"scale(0.015625)\"/>\n",
              "      <path d=\"M 603 4863 \n",
              "L 1178 4863 \n",
              "L 1178 0 \n",
              "L 603 0 \n",
              "L 603 4863 \n",
              "z\n",
              "\" id=\"DejaVuSans-6c\" transform=\"scale(0.015625)\"/>\n",
              "     </defs>\n",
              "     <use xlink:href=\"#DejaVuSans-44\"/>\n",
              "     <use x=\"77.001953\" xlink:href=\"#DejaVuSans-61\"/>\n",
              "     <use x=\"138.28125\" xlink:href=\"#DejaVuSans-74\"/>\n",
              "     <use x=\"177.490234\" xlink:href=\"#DejaVuSans-61\"/>\n",
              "     <use x=\"238.769531\" xlink:href=\"#DejaVuSans-73\"/>\n",
              "     <use x=\"290.869141\" xlink:href=\"#DejaVuSans-65\"/>\n",
              "     <use x=\"352.392578\" xlink:href=\"#DejaVuSans-74\"/>\n",
              "     <use x=\"391.601562\" xlink:href=\"#DejaVuSans-20\"/>\n",
              "     <use x=\"423.388672\" xlink:href=\"#DejaVuSans-73\"/>\n",
              "     <use x=\"475.488281\" xlink:href=\"#DejaVuSans-61\"/>\n",
              "     <use x=\"536.767578\" xlink:href=\"#DejaVuSans-6d\"/>\n",
              "     <use x=\"634.179688\" xlink:href=\"#DejaVuSans-70\"/>\n",
              "     <use x=\"697.65625\" xlink:href=\"#DejaVuSans-6c\"/>\n",
              "     <use x=\"725.439453\" xlink:href=\"#DejaVuSans-65\"/>\n",
              "     <use x=\"786.962891\" xlink:href=\"#DejaVuSans-73\"/>\n",
              "    </g>\n",
              "   </g>\n",
              "   <g id=\"legend_1\">\n",
              "    <g id=\"patch_7\">\n",
              "     <path d=\"M 65.523438 59.674375 \n",
              "L 133.371875 59.674375 \n",
              "Q 135.371875 59.674375 135.371875 57.674375 \n",
              "L 135.371875 29.318125 \n",
              "Q 135.371875 27.318125 133.371875 27.318125 \n",
              "L 65.523438 27.318125 \n",
              "Q 63.523438 27.318125 63.523438 29.318125 \n",
              "L 63.523438 57.674375 \n",
              "Q 63.523438 59.674375 65.523438 59.674375 \n",
              "z\n",
              "\" style=\"fill:#ffffff;opacity:0.8;stroke:#cccccc;stroke-linejoin:miter;\"/>\n",
              "    </g>\n",
              "    <g id=\"PathCollection_3\">\n",
              "     <g>\n",
              "      <use style=\"fill:#1f77b4;stroke:#333333;\" x=\"77.523438\" xlink:href=\"#m14e5f9d88e\" y=\"36.291562\"/>\n",
              "     </g>\n",
              "    </g>\n",
              "    <g id=\"text_18\">\n",
              "     <!-- Class 0 -->\n",
              "     <g transform=\"translate(95.523438 38.916562)scale(0.1 -0.1)\">\n",
              "      <defs>\n",
              "       <path d=\"M 4122 4306 \n",
              "L 4122 3641 \n",
              "Q 3803 3938 3442 4084 \n",
              "Q 3081 4231 2675 4231 \n",
              "Q 1875 4231 1450 3742 \n",
              "Q 1025 3253 1025 2328 \n",
              "Q 1025 1406 1450 917 \n",
              "Q 1875 428 2675 428 \n",
              "Q 3081 428 3442 575 \n",
              "Q 3803 722 4122 1019 \n",
              "L 4122 359 \n",
              "Q 3791 134 3420 21 \n",
              "Q 3050 -91 2638 -91 \n",
              "Q 1578 -91 968 557 \n",
              "Q 359 1206 359 2328 \n",
              "Q 359 3453 968 4101 \n",
              "Q 1578 4750 2638 4750 \n",
              "Q 3056 4750 3426 4639 \n",
              "Q 3797 4528 4122 4306 \n",
              "z\n",
              "\" id=\"DejaVuSans-43\" transform=\"scale(0.015625)\"/>\n",
              "      </defs>\n",
              "      <use xlink:href=\"#DejaVuSans-43\"/>\n",
              "      <use x=\"69.824219\" xlink:href=\"#DejaVuSans-6c\"/>\n",
              "      <use x=\"97.607422\" xlink:href=\"#DejaVuSans-61\"/>\n",
              "      <use x=\"158.886719\" xlink:href=\"#DejaVuSans-73\"/>\n",
              "      <use x=\"210.986328\" xlink:href=\"#DejaVuSans-73\"/>\n",
              "      <use x=\"263.085938\" xlink:href=\"#DejaVuSans-20\"/>\n",
              "      <use x=\"294.873047\" xlink:href=\"#DejaVuSans-30\"/>\n",
              "     </g>\n",
              "    </g>\n",
              "    <g id=\"PathCollection_4\">\n",
              "     <g>\n",
              "      <use style=\"fill:#ff7f0e;stroke:#333333;\" x=\"77.523438\" xlink:href=\"#m97a69ae040\" y=\"50.969687\"/>\n",
              "     </g>\n",
              "    </g>\n",
              "    <g id=\"text_19\">\n",
              "     <!-- Class 1 -->\n",
              "     <g transform=\"translate(95.523438 53.594687)scale(0.1 -0.1)\">\n",
              "      <use xlink:href=\"#DejaVuSans-43\"/>\n",
              "      <use x=\"69.824219\" xlink:href=\"#DejaVuSans-6c\"/>\n",
              "      <use x=\"97.607422\" xlink:href=\"#DejaVuSans-61\"/>\n",
              "      <use x=\"158.886719\" xlink:href=\"#DejaVuSans-73\"/>\n",
              "      <use x=\"210.986328\" xlink:href=\"#DejaVuSans-73\"/>\n",
              "      <use x=\"263.085938\" xlink:href=\"#DejaVuSans-20\"/>\n",
              "      <use x=\"294.873047\" xlink:href=\"#DejaVuSans-31\"/>\n",
              "     </g>\n",
              "    </g>\n",
              "   </g>\n",
              "  </g>\n",
              " </g>\n",
              " <defs>\n",
              "  <clipPath id=\"p1d47a8e31b\">\n",
              "   <rect height=\"217.44\" width=\"217.44\" x=\"58.523438\" y=\"22.318125\"/>\n",
              "  </clipPath>\n",
              " </defs>\n",
              "</svg>\n"
            ],
            "text/plain": [
              "<Figure size 288x288 with 1 Axes>"
            ]
          },
          "metadata": {
            "needs_background": "light"
          },
          "output_type": "display_data"
        }
      ]
    },
    {
      "cell_type": "markdown",
      "metadata": {
        "papermill": {
          "duration": 0.061021,
          "end_time": "2021-09-16T12:33:05.627837",
          "exception": false,
          "start_time": "2021-09-16T12:33:05.566816",
          "status": "completed"
        },
        "tags": [],
        "id": "07c0fdd7"
      },
      "source": [
        "The decision boundaries might not look exactly as in the figure in the preamble of this section which can be caused by running it on CPU or a different GPU architecture.\n",
        "Nevertheless, the result on the accuracy metric should be the approximately the same."
      ],
      "id": "07c0fdd7"
    },
    {
      "cell_type": "markdown",
      "metadata": {
        "papermill": {
          "duration": 0.062929,
          "end_time": "2021-09-16T12:33:05.754931",
          "exception": false,
          "start_time": "2021-09-16T12:33:05.692002",
          "status": "completed"
        },
        "tags": [],
        "id": "f0f11f8b"
      },
      "source": [
        "## Additional features we didn't get to discuss yet\n",
        "\n",
        "Finally, you are all set to start with your own PyTorch project!\n",
        "In summary, we have looked at how we can build neural networks in PyTorch, and train and test them on data.\n",
        "However, there is still much more to PyTorch we haven't discussed yet.\n",
        "In the comming series of Jupyter notebooks, we will discover more and more functionalities of PyTorch, so that you also get familiar to PyTorch concepts beyond the basics.\n",
        "If you are already interested in learning more of PyTorch, we recommend the official [tutorial website](https://pytorch.org/tutorials/) that contains many tutorials on various topics.\n",
        "Especially logging with Tensorboard ([tutorial\n",
        "here](https://pytorch.org/tutorials/intermediate/tensorboard_tutorial.html))\n",
        "is a good practice that we will explore from Tutorial 5 on."
      ],
      "id": "f0f11f8b"
    },
    {
      "cell_type": "markdown",
      "metadata": {
        "papermill": {
          "duration": 0.060537,
          "end_time": "2021-09-16T12:33:05.876690",
          "exception": false,
          "start_time": "2021-09-16T12:33:05.816153",
          "status": "completed"
        },
        "tags": [],
        "id": "7fce9e22"
      },
      "source": [
        "## Congratulations - Time to Join the Community!\n",
        "\n",
        "Congratulations on completing this notebook tutorial! If you enjoyed this and would like to join the Lightning\n",
        "movement, you can do so in the following ways!\n",
        "\n",
        "### Star [Lightning](https://github.com/PyTorchLightning/pytorch-lightning) on GitHub\n",
        "The easiest way to help our community is just by starring the GitHub repos! This helps raise awareness of the cool\n",
        "tools we're building.\n",
        "\n",
        "### Join our [Slack](https://join.slack.com/t/pytorch-lightning/shared_invite/zt-pw5v393p-qRaDgEk24~EjiZNBpSQFgQ)!\n",
        "The best way to keep up to date on the latest advancements is to join our community! Make sure to introduce yourself\n",
        "and share your interests in `#general` channel\n",
        "\n",
        "\n",
        "### Contributions !\n",
        "The best way to contribute to our community is to become a code contributor! At any time you can go to\n",
        "[Lightning](https://github.com/PyTorchLightning/pytorch-lightning) or [Bolt](https://github.com/PyTorchLightning/lightning-bolts)\n",
        "GitHub Issues page and filter for \"good first issue\".\n",
        "\n",
        "* [Lightning good first issue](https://github.com/PyTorchLightning/pytorch-lightning/issues?q=is%3Aopen+is%3Aissue+label%3A%22good+first+issue%22)\n",
        "* [Bolt good first issue](https://github.com/PyTorchLightning/lightning-bolts/issues?q=is%3Aopen+is%3Aissue+label%3A%22good+first+issue%22)\n",
        "* You can also contribute your own notebooks with useful examples !\n",
        "\n",
        "### Great thanks from the entire Pytorch Lightning Team for your interest !\n",
        "\n",
        "![Pytorch Lightning](data:image/png;base64,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){height=\"60px\" width=\"240px\"}"
      ],
      "id": "7fce9e22"
    }
  ]
}