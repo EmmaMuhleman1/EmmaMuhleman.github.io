{
 "cells": [
  {
   "cell_type": "markdown",
   "metadata": {},
   "source": [
    "# An Introduction to Python for Data Science"
   ]
  },
  {
   "cell_type": "markdown",
   "metadata": {},
   "source": [
    "# Pythonic Code"
   ]
  },
  {
   "cell_type": "markdown",
   "metadata": {},
   "source": [
    "We'll start our introduction to Python with what it means to write Pythonic code, and why that's important. At its core, writing Pythonic code just means you write using Python idioms.\n",
    "\n",
    "Let's take a look at one of the motivating philosophies of Python."
   ]
  },
  {
   "cell_type": "markdown",
   "metadata": {},
   "source": [
    "## The Zen of Python"
   ]
  },
  {
   "cell_type": "code",
   "execution_count": null,
   "metadata": {},
   "outputs": [],
   "source": [
    "import this"
   ]
  },
  {
   "cell_type": "markdown",
   "metadata": {},
   "source": [
    "### Readability Counts\n",
    "\n",
    "The first part of the Zen of Python is about style and structure.\n",
    "\n",
    "```\n",
    "Beautiful is better than ugly.\n",
    "Explicit is better than implicit.\n",
    "Simple is better than complex.\n",
    "Complex is better than complicated.\n",
    "Flat is better than nested.\n",
    "Sparse is better than dense.\n",
    "Readability counts.\n",
    "```"
   ]
  },
  {
   "cell_type": "markdown",
   "metadata": {},
   "source": [
    "All code is, first and foremost, intended to be read. Python was designed with this reality in mind.\n",
    "\n",
    "\n",
    "“Programs are meant to be read by humans and only incidentally for computers to execute.” <br />\n",
    "— H. Abelson and G. Sussman (in “Structure and Interpretation of Computer Programs”)\n",
    "\n",
    "<img src=\"https://upload.wikimedia.org/wikipedia/commons/9/9d/SICP_cover.jpg\" style=\"width:25%\">"
   ]
  },
  {
   "cell_type": "markdown",
   "metadata": {},
   "source": [
    "Why does this matter? If my script works, why isn't that enough?\n",
    "\n",
    "First, as a data scientist, you're never working alone. Your data comes from somewhere. Your results must provide value to the someone. Your team must work together towards shared goals. Even if you do work alone, you're collaborating with your future self.\n",
    "\n",
    "To these ends strive for readable, stylistically consistent code so that\n",
    "\n",
    "* your code and methods are understandable\n",
    "  * you're communicating with your future self\n",
    "  * you're communicating with other members of the team\n",
    "  * you're communicating with the future maintainers of your code\n",
    "* It's one less thing to worry about. There should never be a code comment about style."
   ]
  },
  {
   "cell_type": "markdown",
   "metadata": {},
   "source": [
    "## PEP8\n",
    "\n",
    "Python the language is governed by Python Enhancement Proposals. PEP8 is one that establishes style guidelines for the language. This may seem pedantic, but it's really not. Following these rules makes collaboration, code review, and bug hunting much easier.\n",
    "\n",
    "Some of the top-level rules are\n",
    "\n",
    "\n",
    "* spaces over tabs\n",
    "* use 4 spaces for indentation\n",
    "* limit lines to 79 characters\n",
    "* be specific when importing\n",
    "\n",
    "Prefer\n",
    "\n",
    "```python\n",
    "from time import time\n",
    "```\n",
    "\n",
    "to\n",
    "\n",
    "```python\n",
    "from time import *\n",
    "```\n",
    "\n",
    "* non-public names should start with an underscore (`_`)\n",
    "* Use CapWords for classes\n",
    "* Use short, all-lowercase names for modules and scripts\n",
    "* Use lowercase and underscores for functions and method names\n",
    "\n",
    "Finally, I suggest that you invest in a good **linter**. A **linter** is a program which checks source code for bugs and stylistic errors. Every good editor has plugins for using popular linters. I like [flake8](http://flake8.pycqa.org/en/latest/) among others."
   ]
  }
 ],
 "metadata": {
  "kernelspec": {
   "display_name": "Python 3",
   "language": "python",
   "name": "python3"
  },
  "language_info": {
   "codemirror_mode": {
    "name": "ipython",
    "version": 3
   },
   "file_extension": ".py",
   "mimetype": "text/x-python",
   "name": "python",
   "nbconvert_exporter": "python",
   "pygments_lexer": "ipython3",
   "version": "3.6.3"
  }
 },
 "nbformat": 4,
 "nbformat_minor": 1
}
